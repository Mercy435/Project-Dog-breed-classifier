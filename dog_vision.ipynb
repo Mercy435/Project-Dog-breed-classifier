{
 "cells": [
  {
   "cell_type": "markdown",
   "metadata": {
    "id": "4T2AVW1uCvmz"
   },
   "source": [
    "# End-to-end Multi-Class Dog Breed Classfication\n",
    "\n",
    "\n",
    "This notebook builds an end-to-wnd multi-class image classifier using TensorFlow 2.0 and TensorFlow Hub.\n",
    "\n",
    "\n",
    "##1.  Problem\n",
    "\n",
    "Identifying the breed of a dog, given the image of the dog\n",
    "\n",
    "##2.  Data\n",
    "\n",
    "The data was gotten from:\n",
    "https://www.kaggle.com/c/dog-breed-identification\n",
    "\n",
    "##3.  Evaluation\n",
    "\n",
    "look at the kaggle competition to get the evaluation metrics\n",
    "\n",
    "The evaluation is a file with prediction probabilities for each dog breed of each test image.\n",
    "\n",
    "https://www.kaggle.com/c/dog-breed-identification/overview/evaluation\n",
    "\n",
    "\n",
    "##4.  Features\n",
    "\n",
    "Some information about the data:\n",
    "* we are dealing with images(unstructured data) so its probably best we use deep learning/ transfer learning\n",
    "\n",
    "* there are 120 breeds of dogs\n",
    "( this means there are 120 different classes)\n",
    "\n",
    "* there are around 10000+ images in the training set( these images have labels)\n",
    "\n",
    "* there are around 10000+ images in the test set( these images have no labels, because we have to predict them)\n"
   ]
  },
  {
   "cell_type": "code",
   "execution_count": null,
   "metadata": {
    "id": "s85u2nWg8Qr5"
   },
   "outputs": [],
   "source": [
    "# !unzip \"/content/drive/MyDrive/dog-breed-identification.zip\" -d \"drive/My Drive/Dog_Vision/\""
   ]
  },
  {
   "cell_type": "markdown",
   "metadata": {
    "id": "84CtRGIeyhQI"
   },
   "source": [
    "### Get our workspace ready\n",
    "\n",
    "* Import TensorFlow 2.x---- its the tool to create our pipeline\n",
    "* Import TensorFlow Hub---- this is where we pick our model\n",
    "* Make sure we are using a GPU\n",
    "GPU is important cos we need more vast numerical computing power as we are running a vast data.. almost a  gigabyte worth of data"
   ]
  },
  {
   "cell_type": "code",
   "execution_count": null,
   "metadata": {
    "id": "X8aIeOukCiHk"
   },
   "outputs": [],
   "source": [
    "# Import Tensorflow into Colab\n",
    "import tensorflow as tf\n",
    "print(\"Tf version:\", tf.__version__)"
   ]
  },
  {
   "cell_type": "code",
   "execution_count": null,
   "metadata": {
    "id": "z97MCoE9k6L_"
   },
   "outputs": [],
   "source": [
    "import tensorflow_hub as hub\n",
    "print(\"TF Hub version:\", hub.__version__)"
   ]
  },
  {
   "cell_type": "code",
   "execution_count": null,
   "metadata": {
    "id": "anY_QGH00MW7"
   },
   "outputs": [],
   "source": [
    "#check for GPU availability\n",
    "print(\"GPU\", \"available (YESSSS!!!!\" if tf.config.list_physical_devices(\"GPU\") else \"not available :(\")"
   ]
  },
  {
   "cell_type": "markdown",
   "metadata": {
    "id": "qs4jIX2o2oKy"
   },
   "source": [
    "To get gpu running, go to runtime, change runtime type and select GPU, then save"
   ]
  },
  {
   "cell_type": "markdown",
   "metadata": {
    "id": "ZfgiqQCCA8Ts"
   },
   "source": [
    "## Getting data ready\n",
    "this means turn data into tensors(pi array, matrix, numerical format )\n",
    "Turning images into Tensors(numerical representation)\n",
    "\n",
    "lets start by assessing our data and checking out the labels.\n",
    "\n"
   ]
  },
  {
   "cell_type": "code",
   "execution_count": null,
   "metadata": {
    "id": "cfTTeX620xyU"
   },
   "outputs": [],
   "source": [
    "#checkout the labels of our data\n",
    "import pandas as pd\n",
    "labels_csv=pd.read_csv(\"drive/MyDrive/dog-breed-identification/labels.csv\")\n",
    "print(labels_csv.describe())\n",
    "print(labels_csv.head())\n"
   ]
  },
  {
   "cell_type": "code",
   "execution_count": null,
   "metadata": {
    "id": "Eyx4PSRrCaBG"
   },
   "outputs": [],
   "source": [
    "labels_csv.head()"
   ]
  },
  {
   "cell_type": "code",
   "execution_count": null,
   "metadata": {
    "id": "uoVeseaECmmJ"
   },
   "outputs": [],
   "source": [
    "# How many images are there of each breed?\n",
    "labels_csv[\"breed\"].value_counts().plot.bar(figsize=(20,10))"
   ]
  },
  {
   "cell_type": "code",
   "execution_count": null,
   "metadata": {
    "id": "xzeNVZCpE5mS"
   },
   "outputs": [],
   "source": [
    "labels_csv[\"breed\"].value_counts().median()"
   ]
  },
  {
   "cell_type": "code",
   "execution_count": null,
   "metadata": {
    "id": "n0cWDWG9FKyl"
   },
   "outputs": [],
   "source": [
    "# minimum number of images per class is 10, the ml model will do better at predicting than those with few images"
   ]
  },
  {
   "cell_type": "code",
   "execution_count": null,
   "metadata": {
    "id": "zttuarZIICom"
   },
   "outputs": [],
   "source": [
    "# Lets view an image\n",
    "from IPython.display import Image\n",
    "Image(\"drive/MyDrive/dog-breed-identification/train/001513dfcb2ffafc82cccf4d8bbaba97.jpg\") # remember to put the image extension"
   ]
  },
  {
   "cell_type": "markdown",
   "metadata": {
    "id": "PVOO1uzfI4fU"
   },
   "source": [
    "## Getting images and their labels\n",
    "\n",
    "lets get a list of all our image file pathnames\n",
    "\n"
   ]
  },
  {
   "cell_type": "code",
   "execution_count": null,
   "metadata": {
    "id": "9wZFx9OvO7vk"
   },
   "outputs": [],
   "source": [
    "labels_csv.head()"
   ]
  },
  {
   "cell_type": "code",
   "execution_count": null,
   "metadata": {
    "id": "TAYUfGLZPBVh"
   },
   "outputs": [],
   "source": [
    "# create pathnames from Image IDs\n",
    "\n",
    "filenames=[\"drive/MyDrive/dog-breed-identification/train/\" + fname + \".jpg\" for fname in labels_csv[\"id\"]]"
   ]
  },
  {
   "cell_type": "code",
   "execution_count": null,
   "metadata": {
    "id": "La1gTd2WPNw0"
   },
   "outputs": [],
   "source": [
    "# check the first 10 \n",
    "filenames[:10]"
   ]
  },
  {
   "cell_type": "code",
   "execution_count": null,
   "metadata": {
    "id": "pTuvlT3yPSys"
   },
   "outputs": [],
   "source": [
    "# Check whether number of filenames match number of actual image files\n",
    "import os\n",
    "os.listdir(\"drive/MyDrive/dog-breed-identification/train/\")\n",
    "# if len(os.listdir(\"drive/MyDrive/dog-breed-identification/train/\"))==len(filenames):\n",
    "  # print(\"Filenames match actual amount of files!!! Proceed.\")\n",
    "# else:\n",
    "  # print(\"filenames do not match actual amount of files, check the target directory.\")  "
   ]
  },
  {
   "cell_type": "code",
   "execution_count": null,
   "metadata": {
    "id": "YgVgmpYgWrJ6"
   },
   "outputs": [],
   "source": [
    "# Check whether number of filenames match number of actual image files\n",
    "import os\n",
    "# os.listdir(\"drive/MyDrive/dog-breed-identification/train/\")\n",
    "if len(os.listdir(\"drive/MyDrive/dog-breed-identification/train/\"))==len(filenames):\n",
    "  print(\"Filenames match actual amount of files!!! Proceed.\")\n",
    "else:\n",
    "  print(\"filenames do not match actual amount of files, check the target directory.\")  "
   ]
  },
  {
   "cell_type": "code",
   "execution_count": null,
   "metadata": {
    "id": "El5pvIDzW9i9"
   },
   "outputs": [],
   "source": [
    "# One more check\n",
    "Image(filenames[9000])"
   ]
  },
  {
   "cell_type": "code",
   "execution_count": null,
   "metadata": {
    "id": "mZI6_CroXIkj"
   },
   "outputs": [],
   "source": [
    "labels_csv[\"breed\"][9000]"
   ]
  },
  {
   "cell_type": "markdown",
   "metadata": {
    "id": "njUvkiw2gmuL"
   },
   "source": [
    "### Since we've now got our training image filepaths in a list, lets prepare our labels"
   ]
  },
  {
   "cell_type": "code",
   "execution_count": null,
   "metadata": {
    "id": "9HBnzLe0XPCN"
   },
   "outputs": [],
   "source": [
    "import numpy as np\n",
    "labels=labels_csv[\"breed\"].to_numpy()\n",
    "# labels=np.array(labels) # does same thing as line 2\n",
    "labels"
   ]
  },
  {
   "cell_type": "code",
   "execution_count": null,
   "metadata": {
    "id": "7TjCBnNRgqyD"
   },
   "outputs": [],
   "source": [
    "len(labels)"
   ]
  },
  {
   "cell_type": "code",
   "execution_count": null,
   "metadata": {
    "id": "I7RB31UFnLTA"
   },
   "outputs": [],
   "source": [
    "#see if number of labels matches the number of filenames\n",
    "if len(labels)==len(filenames):\n",
    "    print(\"Number of labels matches number of filenames!\")\n",
    "else:\n",
    "    print(\"Number of labels does not match number of filenames, check data directories!\")\n",
    "    "
   ]
  },
  {
   "cell_type": "code",
   "execution_count": null,
   "metadata": {
    "id": "sf7P1hLdnZAp"
   },
   "outputs": [],
   "source": [
    "# ml models cant take strings\n",
    "# find the unique label values cos they are repeated\n",
    "unique_breeds=np.unique(labels)\n",
    "unique_breeds\n"
   ]
  },
  {
   "cell_type": "code",
   "execution_count": null,
   "metadata": {
    "id": "Mc0CClQdnjF9"
   },
   "outputs": [],
   "source": [
    "len(unique_breeds)\n",
    "# this corresponds to the data on kaggle"
   ]
  },
  {
   "cell_type": "code",
   "execution_count": null,
   "metadata": {
    "id": "rMc5GqcqnzWc"
   },
   "outputs": [],
   "source": [
    "# Turn a single label into an array if an array of booleans\n",
    "print(labels[0])\n",
    "labels[0]==unique_breeds"
   ]
  },
  {
   "cell_type": "code",
   "execution_count": null,
   "metadata": {
    "id": "g0EUj363n5fl"
   },
   "outputs": [],
   "source": [
    "# Turn every label into a boolean array\n",
    "boolean_labels=[label==unique_breeds for label in labels]\n",
    "boolean_labels[:2]"
   ]
  },
  {
   "cell_type": "code",
   "execution_count": null,
   "metadata": {
    "id": "GhAPbqtxn-pk"
   },
   "outputs": [],
   "source": [
    "len(boolean_labels)"
   ]
  },
  {
   "cell_type": "code",
   "execution_count": null,
   "metadata": {
    "id": "OcO0PIlRoE4P"
   },
   "outputs": [],
   "source": [
    "len(labels)"
   ]
  },
  {
   "cell_type": "code",
   "execution_count": null,
   "metadata": {
    "id": "0B8BueFooHsM"
   },
   "outputs": [],
   "source": [
    "# Example : Turning array into integers\n",
    "print(labels[0]) # original label\n",
    "print(np.where(unique_breeds==labels[0])) # index where label occurs\n",
    "print(boolean_labels[0].argmax()) # index where label occurs in boolean array\n",
    "print(boolean_labels[0].astype(int)) # there will be 1 where the sample label occurs"
   ]
  },
  {
   "cell_type": "code",
   "execution_count": null,
   "metadata": {
    "id": "jku7CsLaoMz0"
   },
   "outputs": [],
   "source": [
    "print(labels[2])\n",
    "print(boolean_labels[2].astype(int))"
   ]
  },
  {
   "cell_type": "code",
   "execution_count": null,
   "metadata": {
    "id": "zyUwEHBhoRyt"
   },
   "outputs": [],
   "source": [
    "boolean_labels"
   ]
  },
  {
   "cell_type": "code",
   "execution_count": null,
   "metadata": {
    "id": "damHNoZKobZF"
   },
   "outputs": [],
   "source": [
    "filenames[:10]"
   ]
  },
  {
   "cell_type": "markdown",
   "metadata": {
    "id": "734qV-YSo_B-"
   },
   "source": [
    "# creating our own validation set\n",
    "since the  dataset from Kaggle does not provide a validation set, we will create our own"
   ]
  },
  {
   "cell_type": "code",
   "execution_count": null,
   "metadata": {
    "id": "eOFvW9uRpAP6"
   },
   "outputs": [],
   "source": [
    "# Setup X and y variables\n",
    "X=filenames\n",
    "y=boolean_labels"
   ]
  },
  {
   "cell_type": "code",
   "execution_count": null,
   "metadata": {
    "id": "qyIB3v98psrT"
   },
   "outputs": [],
   "source": [
    "len(filenames)"
   ]
  },
  {
   "cell_type": "markdown",
   "metadata": {
    "id": "LDfmAlbKp4R5"
   },
   "source": [
    "### We are going to start off experimenting with 1000 images and increase as needed"
   ]
  },
  {
   "cell_type": "code",
   "execution_count": null,
   "metadata": {
    "id": "94GOtdHcp5WP"
   },
   "outputs": [],
   "source": [
    "# set number of images to use for experimenting\n",
    "NUM_IMAGES=1000 #@param {type:\"slider\",min:1000, max:10000, step:1000}"
   ]
  },
  {
   "cell_type": "code",
   "execution_count": null,
   "metadata": {
    "id": "shwPdZS5p_I7"
   },
   "outputs": [],
   "source": [
    "# lets split our data into train and validation sets\n",
    "from sklearn.model_selection import train_test_split\n",
    "\n",
    "# split them into training and validation of total size NUM_IMAGES\n",
    "X_train, X_val,y_train,y_val=train_test_split(X[:NUM_IMAGES],\n",
    "                                              y[:NUM_IMAGES],\n",
    "                                             test_size=0.2,\n",
    "                                             random_state=42)\n",
    "\n",
    "len(X_train), len(y_train), len(X_val), len(y_val)"
   ]
  },
  {
   "cell_type": "code",
   "execution_count": null,
   "metadata": {
    "id": "KWHXDFEyrUrS"
   },
   "outputs": [],
   "source": [
    "#lets have a geez at the training data\n",
    "X_train[:5],y_train[:2]"
   ]
  },
  {
   "cell_type": "markdown",
   "metadata": {
    "id": "x9CmXRX_rhiX"
   },
   "source": [
    "## Preprocessing images(turning images into Tensors)\n",
    "\n",
    "1. To preprocess our images into Tensors, we write a function that does a few things\n",
    "\n",
    "2. Use Tensorflow to read the file and save it to a variable \"image\"\n",
    "\n",
    "3. Turn \"image\" (a jpg) into Tensors\n",
    "\n",
    "4. Resize the \"image\" to be a shape of (224,224)\n",
    "\n",
    "5. Return the modified \"image\"\n",
    "\n",
    "## Before we do, lets see what importing an image looks like"
   ]
  },
  {
   "cell_type": "code",
   "execution_count": null,
   "metadata": {
    "id": "bqJTDuEXrioW"
   },
   "outputs": [],
   "source": [
    "#converting images into numpy array\n",
    "from matplotlib.pyplot import imread\n",
    "image=imread(filenames[42])\n",
    "image.shape #h, w,color channel(r,g,b pixels(0-255))"
   ]
  },
  {
   "cell_type": "code",
   "execution_count": null,
   "metadata": {
    "id": "Rc6D2rnwrniB"
   },
   "outputs": [],
   "source": [
    "image"
   ]
  },
  {
   "cell_type": "code",
   "execution_count": null,
   "metadata": {
    "id": "4aqIR8fCNFMG"
   },
   "outputs": [],
   "source": [
    "# converting numpy image into tensor\n",
    "tf.constant(image)[:2] # note that the nos are same as numpy, but its gonna run a lot faster in a gpu than a normal numpy image"
   ]
  },
  {
   "cell_type": "markdown",
   "metadata": {
    "id": "ITy62VMwNWM4"
   },
   "source": [
    "## Now we have seen what an image looks like as a  Tensor, lets make a function to preprocess them\n",
    "1. Take an image filepath as input\n",
    "\n",
    "2. Use Tensorflow to read the file and save it to a variable \"image\"\n",
    "\n",
    "3. Turn \"image\" (a jpg) into Tensors\n",
    "\n",
    "4. Normalize our image (convert color channel values form 0-255 to 0-1\n",
    "\n",
    "5. Resize the \"image\" to be a shape of (224,224)\n",
    "\n",
    "6. Return the modified \"image\"\n"
   ]
  },
  {
   "cell_type": "code",
   "execution_count": null,
   "metadata": {
    "id": "_9uB-HZZNTs1"
   },
   "outputs": [],
   "source": [
    "# Define image size\n",
    "IMG_SIZE=224\n",
    "\n",
    "# Create a function for preprocessing image\n",
    "def process_image(image_path, img_size=IMG_SIZE):\n",
    "    \"\"\"\n",
    "    Takes an image file path and an image size and turns the image into a Tensor.\n",
    "    \"\"\"\n",
    "    #Read in an image file\n",
    "    image=tf.io.read_file(image_path) # takes content and turn into a long tensor codes\n",
    "    \n",
    "    # Turn the jpeg image into numerical Tensor with 3 colour channels(R,G,B)\n",
    "    image=tf.image.decode_jpeg(image,channels=3)\n",
    "    \n",
    "    #convert the color channel values from 0-255 to 0-1 values(normalization)\n",
    "    image=tf.image.convert_image_dtype(image, tf.float32) # it makes computing easy\n",
    "    \n",
    "    #resize the image to our desired value(224,224)\n",
    "    image=tf.image.resize(image,size=[IMG_SIZE, IMG_SIZE])\n",
    "\n",
    "    return image"
   ]
  },
  {
   "cell_type": "code",
   "execution_count": null,
   "metadata": {
    "id": "te9T3zcNNg0Q"
   },
   "outputs": [],
   "source": [
    "tensor=tf.io.read_file(filenames[26])\n",
    "tensor"
   ]
  },
  {
   "cell_type": "markdown",
   "metadata": {
    "id": "jH5qv7dSNqy0"
   },
   "source": [
    "## Turning data into batches\n",
    "\n",
    "Why turn our data into batches?\n",
    "\n",
    "lets say you are tyring to process 10000+ images in one go... they all might not fit into memory\n",
    "\n",
    "So thats y we do about 32(this is the batch size) images at a time(you can manually adjust the batch size if need be)\n",
    "\n",
    "In order to use tensorflow effectively, we need our data in the form of Tensor tuples which look like this: (image, label)"
   ]
  },
  {
   "cell_type": "code",
   "execution_count": null,
   "metadata": {
    "id": "m7eBGXKJNk7f"
   },
   "outputs": [],
   "source": [
    "# Create a simple function to return a tuple (image,label)\n",
    "\n",
    "def get_image_label(image_path,label):\n",
    "    \"\"\"\n",
    "    Takes an image file path name and the associated label, \n",
    "    processes the image and returns a tuple of (image,label)\n",
    "    \"\"\"\n",
    "    image=process_image(image_path)\n",
    "    return image, label"
   ]
  },
  {
   "cell_type": "code",
   "execution_count": null,
   "metadata": {
    "id": "tjLJRtZDNxJE"
   },
   "outputs": [],
   "source": [
    "# Demo of above\n",
    "(process_image(X[42]),tf.constant(y[42]))"
   ]
  },
  {
   "cell_type": "markdown",
   "metadata": {
    "id": "d0v3pU51N97U"
   },
   "source": [
    "### Now we've got a way to turn data into tuples of Tensors in the form `(image, label)`... lets make a function to turn all of our data (`x`& `y`) into batches!\n",
    "\n"
   ]
  },
  {
   "cell_type": "code",
   "execution_count": null,
   "metadata": {
    "id": "0HQZPKiDN1JO"
   },
   "outputs": [],
   "source": [
    "# Define the batch size, 32 is a good start\n",
    "BATCH_SIZE=32\n",
    "\n",
    "#Create a function to turn data into batches\n",
    "def create_data_batches(X, y=None, batch_size=BATCH_SIZE, valid_data=False, test_data=False):\n",
    "    \"\"\"\n",
    "    Creates batches of data out of image (X) and label (y) pairs\n",
    "    Shuffles the data if it's training data but doesnt shuffle if it's validation data\n",
    "    Also accepts test data as input(no labels).\n",
    "    \"\"\"\n",
    "    # if the data is a test dataset, we probably dont have labels\n",
    "    if test_data:\n",
    "        print(\"Creating test data batches....\")\n",
    "        data=tf.data.Dataset.from_tensor_slices((tf.constant(X))) # creates a dataset out of a tensor.. only filepaths(no labels)\n",
    "        data_batch=data.map(process_image).batch(BATCH_SIZE)\n",
    "        return data_batch\n",
    "    \n",
    "    # if the data is valid dataset, we dont need to shuffle it\n",
    "    elif valid_data:\n",
    "        print(\"Creating validation data batches...\")\n",
    "        data=tf.data.Dataset.from_tensor_slices((tf.constant(X), #filepaths\n",
    "                                                 tf.constant(y))) #labels\n",
    "        data_batch=data.map(get_image_label).batch(BATCH_SIZE)\n",
    "        return data_batch\n",
    "                                                \n",
    "    #if test_data is false as well as valid_data is false,then it becomes a training data\n",
    "    else:\n",
    "        print(\"Creating training data batches....\")\n",
    "        # Turn filepaths and labels into Tensors\n",
    "        data=tf.data.Dataset.from_tensor_slices((tf.constant(X),\n",
    "                                                tf.constant(y)))\n",
    "        # shuffling pathnames and labels before mapping... image processor function is faster than shuffling\n",
    "        data=data.shuffle(buffer_size=len(X))\n",
    "         #it takes a longer time to shuffle images thanit does to shuffle filename , thats y we shuffle before mapping                                       \n",
    "        \n",
    "        # creates (image, label) tuples (this also turns the image path into a preprocessed image)                                       \n",
    "        data=data.map(get_image_label)\n",
    "                                                \n",
    "        # Turn training data into batches\n",
    "        data_batch=data.batch(BATCH_SIZE)\n",
    "    return data_batch"
   ]
  },
  {
   "cell_type": "code",
   "execution_count": null,
   "metadata": {
    "id": "U0RaJf93OQE1"
   },
   "outputs": [],
   "source": [
    "# Create training and validation data batches \n",
    "train_data=create_data_batches(X_train,y_train)\n",
    "val_data=create_data_batches(X_val,y_val, valid_data=True)"
   ]
  },
  {
   "cell_type": "code",
   "execution_count": null,
   "metadata": {
    "id": "0jb9YzIi2Py9"
   },
   "outputs": [],
   "source": [
    "# check out the different attributes of our data batches\n",
    "train_data.element_spec, val_data.element_spec"
   ]
  },
  {
   "cell_type": "code",
   "execution_count": null,
   "metadata": {
    "id": "_WCbafHc2cP1"
   },
   "outputs": [],
   "source": [
    "y[0]"
   ]
  },
  {
   "cell_type": "markdown",
   "metadata": {
    "id": "rjl7ZvVbFe4n"
   },
   "source": [
    "## Visualizing Data Batches\n",
    "\n",
    "Our data is now in batches, however these can be a little hard to understand/comprehend, lets visualize them"
   ]
  },
  {
   "cell_type": "code",
   "execution_count": null,
   "metadata": {
    "id": "99ZP5JzmOQ_w"
   },
   "outputs": [],
   "source": [
    "import matplotlib.pyplot as plt\n",
    "\n",
    "#create a function for viewing images in a data batch\n",
    "def show_25_images(images, labels):\n",
    "  \"\"\"\n",
    "  Displays a plot of 25 images and their labels from a data batch.\n",
    "  \"\"\"\n",
    "\n",
    "  # Setup the figure\n",
    "  plt.figure(figsize=(10,10))\n",
    "\n",
    "  #Loop throiugh 25(for displaying 25 images)\n",
    "  for i in range(25):\n",
    "    # create subplots(5 rows, 5 columns)\n",
    "    ax=plt.subplot(5,5,i+1) # rows, columns, index\n",
    "    #Display an image\n",
    "    plt.imshow(images[i])\n",
    "    #Add the image label as the title\n",
    "    plt.title(unique_breeds[labels[i].argmax()])\n",
    "    #Turn the gridlines off\n",
    "    plt.axis(\"off\")\n"
   ]
  },
  {
   "cell_type": "code",
   "execution_count": null,
   "metadata": {
    "id": "cKGFTIxRTYem"
   },
   "outputs": [],
   "source": [
    "train_data"
   ]
  },
  {
   "cell_type": "code",
   "execution_count": null,
   "metadata": {
    "id": "hlaa9aAuTZ6T"
   },
   "outputs": [],
   "source": [
    "train_images, train_labels=next(train_data.as_numpy_iterator())"
   ]
  },
  {
   "cell_type": "code",
   "execution_count": null,
   "metadata": {
    "id": "7UdTtJaW5peY"
   },
   "outputs": [],
   "source": [
    "show_25_images(train_images, train_labels)"
   ]
  },
  {
   "cell_type": "markdown",
   "metadata": {
    "id": "ATssjm7L3O3a"
   },
   "source": [
    "## Building a model\n",
    "\n",
    "Before we build a model, there are a few things we need to define:\n",
    " * the input shape(our images shape in the form of tensors) to our model\n",
    " * the output shape(image labels, in the form of tensors)of our model\n",
    " * the URL of the model we want to use from TensorFlow Hub( we will use transfer learning instead of building a model from scratch)\n",
    " https://tfhub.dev/google/imagenet/mobilenet_v2_130_224/classification/5\n",
    " \n",
    " TensorFlow, Pytorch, model zoo, paperswithcode, are deep learning frameworks\n",
    " \n",
    " TensorFlowHub is a lib for publication, discovery and consumption of reusable parts of ml models. \n",
    " \n",
    " Transfer learning can\n",
    "  * train a model with smaller dataset\n",
    "  * imrove generalization\n",
    "  * speed up training\n",
    "  \n",
    "  tf.keras is Tensorflow high level API for building and training deep learning models\n",
    "  useful for fast prototyping, state-of-the-art research and production\n",
    "  it is user friendly, modular and composable, easy to extend"
   ]
  },
  {
   "cell_type": "code",
   "execution_count": null,
   "metadata": {
    "id": "4h6W21jcTjgB"
   },
   "outputs": [],
   "source": [
    "IMG_SIZE"
   ]
  },
  {
   "cell_type": "code",
   "execution_count": null,
   "metadata": {
    "id": "vsfH53tq3P2I"
   },
   "outputs": [],
   "source": [
    "# Setup input shape to the model\n",
    "INPUT_SHAPE=[None, IMG_SIZE, IMG_SIZE, 3 ] # batch, height, width, color channels\n",
    "\n",
    "#Setup output shape of our model\n",
    "OUTPUT_SHAPE=len(unique_breeds)\n",
    "\n",
    "#setup model URL from Tensorflow Hub\n",
    "MODEL_URL=\"https://tfhub.dev/google/imagenet/mobilenet_v2_130_224/classification/5\""
   ]
  },
  {
   "cell_type": "markdown",
   "metadata": {
    "id": "mWvcf2uA3tWg"
   },
   "source": [
    "### Now we've got inputs, outputs and model ready to go. Lets put them together into a Keras deep learning model!\n",
    "\n",
    "Knowing this. lets create a function which:\n",
    "    \n",
    "    * Takes the input shape, output shape and the model we've chosen as parameters\n",
    "    \n",
    "    * defines the layers in  a keras model in sequential fashion (do this first, then this, then that)\n",
    "    \n",
    "    * compiles the model(says how it should be evaluated and improved)\n",
    "     \n",
    "     * builds the model(tells the model the input shape it will be getting)\n",
    "     \n",
    "     * returns the model\n",
    "        \n",
    "All of these steps can be found here: https://www.tensorflow.org/guide/keras/overview"
   ]
  },
  {
   "cell_type": "code",
   "execution_count": null,
   "metadata": {
    "id": "vP1gGlW73jDL"
   },
   "outputs": [],
   "source": [
    "# create a function which builds a Keras model\n",
    "def create_model(input_shape=INPUT_SHAPE, output_shape=OUTPUT_SHAPE, model_url=MODEL_URL):\n",
    "    print(\"Buildig model with \", MODEL_URL)\n",
    "    \n",
    "     # Setup the model layers\n",
    "    model=tf.keras.Sequential([\n",
    "      hub.KerasLayer(MODEL_URL), # layer 1 (input layer)\n",
    "      tf.keras.layers.Dense(units=OUTPUT_SHAPE, \n",
    "                            activation=\"softmax\") # layer 2 (output layer)\n",
    "    ])\n",
    "    \n",
    "    # compile the model\n",
    "    model.compile(\n",
    "        loss=tf.keras.losses.CategoricalCrossentropy(),\n",
    "        optimizer=tf.keras.optimizers.Adam(),\n",
    "        metrics=[\"accuracy\"])\n",
    "  \n",
    "    # Build the model\n",
    "    model.build(INPUT_SHAPE)\n",
    "    \n",
    "    return model"
   ]
  },
  {
   "cell_type": "code",
   "execution_count": null,
   "metadata": {
    "id": "qozXjKtW34Fh"
   },
   "outputs": [],
   "source": [
    "model=create_model()\n",
    "model.summary()"
   ]
  },
  {
   "cell_type": "markdown",
   "metadata": {
    "id": "jyA8OChXR2xC"
   },
   "source": [
    "## Creating Callbacks\n",
    "\n",
    "callbacks are helper functions our model can use during training to do things like:\n",
    " * save the progress\n",
    " * check its progress\n",
    " * stop training early if a model stops improving....\n",
    "\n",
    "\n",
    "We will create two callbacks\n",
    "\n",
    "1. one for TensorBoard which helps track our models progress \n",
    "\n",
    "2, and an early stopping callback which prevents our model from training too long\n",
    "\n",
    "\n",
    "## TensorBoard CallBack\n",
    "\n",
    "To setup a TensorBoaord callback, we need to do 3 things\n",
    "\n",
    "1. Load the TensorBoard notebook extension\n",
    "\n",
    "2. Create a TensorBoard callback which is able to save logs to a directory and pass it our models 'fit()' function\n",
    "\n",
    "3. Visaulize our models training logs with the '%tensorboard magic function (we will do this after model training)"
   ]
  },
  {
   "cell_type": "code",
   "execution_count": null,
   "metadata": {
    "id": "mfhkvjYnRqGT"
   },
   "outputs": [],
   "source": [
    "# Load TensorBoard notebook extension\n",
    "# %load_ext tensorboard\n",
    "%reload_ext tensorboard\n"
   ]
  },
  {
   "cell_type": "code",
   "execution_count": null,
   "metadata": {
    "id": "tI0XH7ROSAaq"
   },
   "outputs": [],
   "source": [
    "import datetime\n",
    "\n",
    "# Create a function to build a TensorBoard callback\n",
    "def create_tensorboard_callback():\n",
    "    # Create a log directory for storing TensorBoard logs \n",
    "    logdir=os.path.join(\"drive/MyDrive/dog-breed-identification/logs\", # to have access to the path of the log file\n",
    "                        # Make it so the logs get tracked whenever we run an experiment\n",
    "                        datetime.datetime.now().strftime(\"%Y%m%d-%H%M%S\"))\n",
    "    return tf.keras.callbacks.TensorBoard(logdir)"
   ]
  },
  {
   "cell_type": "markdown",
   "metadata": {
    "id": "Vv5l3-9DVW7S"
   },
   "source": [
    "### EARLY STOPPING CALLBACK\n",
    "\n",
    "Early stopping helps stop our model from overfitting by stopping training if a certain evaluation metric stops improving\n",
    "\n",
    "\n",
    "https://www.tensorflow.org/api_docs/python/tf/keras/callbacks/EarlyStopping\n"
   ]
  },
  {
   "cell_type": "code",
   "execution_count": null,
   "metadata": {
    "id": "AFwRxJHUV1DY"
   },
   "outputs": [],
   "source": [
    "#create early stopping callback\n",
    "early_stopping=tf.keras.callbacks.EarlyStopping(monitor=\"val_accuracy\", # monitor by defaults checks for val-loss\n",
    "                                                patience=3) # no of epochs with no improvement after training has been stopped"
   ]
  },
  {
   "cell_type": "markdown",
   "metadata": {
    "id": "GPFuetceYfC2"
   },
   "source": [
    "## Training a model (on subset of data)\n",
    "\n",
    "our first model is only going to train on 1000 images to make sure everything is working... to prevent a break in codes\n",
    "\n",
    "Number of epochs is how many passes we want our model to do\n",
    "\n",
    "pass is our model finding patterns in our images and finding out which label belongs to which image\n"
   ]
  },
  {
   "cell_type": "code",
   "execution_count": null,
   "metadata": {
    "id": "d_kVS80xYJe7"
   },
   "outputs": [],
   "source": [
    "NUM_EPOCHS = 100 #@param {type:\"slider\", min:10, max:100, step:10}"
   ]
  },
  {
   "cell_type": "code",
   "execution_count": null,
   "metadata": {
    "id": "UmS_Zs_9aTzp"
   },
   "outputs": [],
   "source": [
    "# check to make sure we are still running on a gpu\n",
    "\n",
    "print(\"GPU\", \"available (YESSSS!!!!)\" if tf.config.list_physical_devices(\"GPU\") else \"not available :(\")"
   ]
  },
  {
   "cell_type": "code",
   "execution_count": null,
   "metadata": {
    "id": "RxVgxnHvav8A"
   },
   "outputs": [],
   "source": [
    "# Build a function to train and return a trained model\n",
    "def train_model():\n",
    "    \"\"\"\n",
    "    Trains a given model and returns the trained version\n",
    "    \"\"\"\n",
    "    # create a model\n",
    "    model=create_model()\n",
    "    \n",
    "    # create new TensorBoard session evrytime we train a model\n",
    "    tensorboard=create_tensorboard_callback()\n",
    "     \n",
    "    # fit the model to the data passing it the callbacks we created\n",
    "    model.fit(x=train_data,\n",
    "              epochs = NUM_EPOCHS, # chances our model has to pass over the training data to find patterns\n",
    "              validation_data=val_data,\n",
    "              validation_freq=1, # how often we want to test the patterns the model has found on the valudation data \n",
    "              callbacks=[tensorboard, early_stopping])\n",
    "            \n",
    "     # Return the fitted model\n",
    "    return model\n"
   ]
  },
  {
   "cell_type": "code",
   "execution_count": null,
   "metadata": {
    "id": "zVcierYCeqzi"
   },
   "outputs": [],
   "source": [
    "# Fit the model to the data\n",
    "model=train_model()\n",
    "\n",
    "# for the first time note that the first epoch will take the longest time cos we initialize at first, load data into the gpu"
   ]
  },
  {
   "cell_type": "markdown",
   "metadata": {
    "id": "nanQJMsuHqBj"
   },
   "source": [
    "### Checking the TensorBoard logs\n",
    "\n",
    "The TensorBoard magic function (`%tensorboard`) will access the logs directory we created earlier and visualize its content"
   ]
  },
  {
   "cell_type": "code",
   "execution_count": null,
   "metadata": {
    "id": "8FCqenYme0LS"
   },
   "outputs": [],
   "source": [
    "%tensorboard --logdir drive/MyDrive/dog-breed-identification/logs/"
   ]
  },
  {
   "cell_type": "markdown",
   "metadata": {
    "id": "X8hH42d9Y0DP"
   },
   "source": [
    "## Making and evaluating predictions using a trained model"
   ]
  },
  {
   "cell_type": "code",
   "execution_count": null,
   "metadata": {
    "id": "InLpfyaLBlCT"
   },
   "outputs": [],
   "source": [
    "# Make predictions on the validation data(not used to train on)\n",
    "predictions = model.predict(val_data, verbose=1) #verbose means show me ur progress as u predict\n",
    "predictions"
   ]
  },
  {
   "cell_type": "code",
   "execution_count": null,
   "metadata": {
    "id": "MKYBXEpHaMKe"
   },
   "outputs": [],
   "source": [
    "# First prediction\n",
    "index=0\n",
    "print(predictions[0])\n",
    "print(f\"Max value (probability of prediction): {np.max(predictions[index])}\")\n",
    "print(f\"sum:{np.sum(predictions[index])}\")\n",
    "print(f\"Max index:{np.argmax(predictions[index])}\")\n",
    "print(f\"predicted labels: {unique_breeds[np.argmax(predictions[index])]}\")\n"
   ]
  },
  {
   "cell_type": "markdown",
   "metadata": {
    "id": "zSkjUCfJoQUy"
   },
   "source": [
    "**Note** prediction prob is also called confidence level\n",
    "\n",
    "### Having the above functionality is great but we want to be able to do it at scale\n",
    "\n",
    "#### and it would be even better if we could see the image the prediction is being made on!\n",
    "\n",
    "**TIDBIT** one of the important steps expected of a data scientist or ml is being able to **evaluate** a model  "
   ]
  },
  {
   "cell_type": "code",
   "execution_count": null,
   "metadata": {
    "id": "NKtxdz6agr9m"
   },
   "outputs": [],
   "source": [
    "# turn probs into their respective labels (easier to understand)\n",
    "def get_pred_label(prediction_probabilities):\n",
    "    \"\"\"\n",
    "    Turns an array of prediction probabilities into a label.\n",
    "    \"\"\"\n",
    "    return unique_breeds[np.argmax(prediction_probabilities)]\n",
    "\n",
    "# get a predicted label based on an array of prediction probabilities\n",
    "pred_label=get_pred_label(predictions[81])\n",
    "pred_label"
   ]
  },
  {
   "cell_type": "code",
   "execution_count": null,
   "metadata": {
    "id": "ztiuTNXRocPw"
   },
   "outputs": [],
   "source": [
    "val_data"
   ]
  },
  {
   "cell_type": "markdown",
   "metadata": {
    "id": "L68hYRUQquyY"
   },
   "source": [
    "Now since our validation data is still i a batch dataset, we will have to unbatchify it to make predictions to the validation labels(truth labels)"
   ]
  },
  {
   "cell_type": "code",
   "execution_count": null,
   "metadata": {
    "id": "T4ttQhNvoxz8"
   },
   "outputs": [],
   "source": [
    "# create a function to unbatch a batch dataset\n",
    "def unbatchify(data):\n",
    "    \"\"\"\n",
    "    Takes a batched dataset of (image, label) Tensors and returns separate arrays\n",
    "    of images and labels.\n",
    "    \"\"\"\n",
    "    images =[]\n",
    "    labels =[]\n",
    "\n",
    "# loop through unbatched data\n",
    "    for image, label in data.unbatch().as_numpy_iterator():\n",
    "      images.append(image)\n",
    "      labels.append(unique_breeds[np.argmax(label)])\n",
    "    return images,labels\n",
    "\n",
    "\n",
    "#unbatchify the validation data\n",
    "val_images, val_labels=unbatchify(val_data)\n",
    "val_images[0], val_labels[0]"
   ]
  },
  {
   "cell_type": "code",
   "execution_count": null,
   "metadata": {
    "id": "tiKLO0BgroD0"
   },
   "outputs": [],
   "source": [
    "get_pred_label(labels[0])"
   ]
  },
  {
   "cell_type": "code",
   "execution_count": null,
   "metadata": {
    "id": "nGDuEq0ssHgD"
   },
   "outputs": [],
   "source": [
    "get_pred_label(predictions[0])\n"
   ]
  },
  {
   "cell_type": "code",
   "execution_count": null,
   "metadata": {
    "id": "k_1eXQROsLNK"
   },
   "outputs": [],
   "source": [
    "get_pred_label(val_labels)"
   ]
  },
  {
   "cell_type": "markdown",
   "metadata": {
    "id": "U_qRRxlCxU01"
   },
   "source": [
    "Now we've got ways to get:\n",
    " * Prediction labels\n",
    " * Validation labels(truth labels)\n",
    " * Validation images\n",
    "\n",
    "Lets make some function to make these all a bit more visualze\n",
    "\n",
    "We will create a function which:\n",
    " * Takes an array of prediction probabilities, an array of truth labels and an array of images and an integer\n",
    "  * Convert the prediction probabs to a  predicted label\n",
    "  * Plot the predicted label, its predicted probability, the truth label and the target image on a single plot"
   ]
  },
  {
   "cell_type": "code",
   "execution_count": null,
   "metadata": {
    "id": "ASB6RCgFwSCo"
   },
   "outputs": [],
   "source": [
    "def plot_pred(prediction_probabilities, labels, images, n=1):\n",
    "    \"\"\"\n",
    "    view the prediction, ground truth and image for sample n\n",
    "    \"\"\"\n",
    "    pred_prob, true_label, image=prediction_probabilities[n], labels[n], images[n]\n",
    "\n",
    "    # get the pred label\n",
    "    pred_label=get_pred_label(pred_prob)\n",
    "\n",
    "    # plot image and remove ticks\n",
    "    plt.imshow(image) \n",
    "    plt.xticks([])\n",
    "    plt.yticks([])\n",
    "\n",
    "    #change the color of the title depending on if the prediction is right or wrong\n",
    "\n",
    "    if pred_label==true_label:\n",
    "        color=\"green\"\n",
    "    else:\n",
    "        color=\"red\"\n",
    "\n",
    "    #change plot title to be predicted, probability of prediction and truth label\n",
    "    plt.title(\"{} {:2.0f}% {}\".format(pred_label,\n",
    "                                      np.max(pred_prob)*100,\n",
    "                                      true_label),\n",
    "                                      color=color)\n",
    "            \n",
    "plot_pred(prediction_probabilities=predictions,\n",
    "              labels=val_labels,\n",
    "              images=val_images\n",
    "              )"
   ]
  },
  {
   "cell_type": "code",
   "execution_count": null,
   "metadata": {
    "id": "5iRYoecczkwy"
   },
   "outputs": [],
   "source": [
    "plot_pred(prediction_probabilities=predictions,\n",
    "              labels=val_labels,\n",
    "              images=val_images,\n",
    "              n=42)"
   ]
  },
  {
   "cell_type": "code",
   "execution_count": null,
   "metadata": {
    "id": "p_r3or7HGESR"
   },
   "outputs": [],
   "source": [
    "plot_pred(prediction_probabilities=predictions,\n",
    "              labels=val_labels,\n",
    "              images=val_images,\n",
    "              n=77)"
   ]
  },
  {
   "cell_type": "markdown",
   "metadata": {
    "id": "yNXK-6VSHBOG"
   },
   "source": [
    "Now we've got one function to visualize our models top prediction, lets make another to view our models top 10 predictions\n",
    "\n",
    "\n",
    "This function will:\n",
    "* Take an input of prediction probabilities array and a ground truth array and an integer\n",
    "* Find the prediction using `get_pred_label()`\n",
    "* Find the top 10:\n",
    "  * Prediction probabilities indexes\n",
    "  * Prediction probabilities values\n",
    "  * prediction labels\n",
    "* plot the top 10 prediction probability values and labels, coloring the true label green\n",
    "\n",
    "\n",
    "\n",
    " "
   ]
  },
  {
   "cell_type": "code",
   "execution_count": null,
   "metadata": {
    "id": "XeRoCtu1GRj_"
   },
   "outputs": [],
   "source": [
    "def plot_pred_conf(prediction_probabilities,labels,n=1):\n",
    "  \"\"\"\n",
    "  plus the top 10 highest prediction confidence along with the truth label for sample n\n",
    "  \"\"\"\n",
    "  pred_prob, true_label=prediction_probabilities[n], labels[n]\n",
    "\n",
    "  # get the predicted label\n",
    "  pred_label=get_pred_label(pred_prob)\n",
    "\n",
    "  #find the top 10 prediction confidence indexes\n",
    "  top_10_pred_indexes=pred_prob.argsort()[-10:][::-1] # in descending order\n",
    "\n",
    "  #find the top 10 prediction confidence values\n",
    "  top_10_pred_values=pred_prob[top_10_pred_indexes]\n",
    "\n",
    "  #find the top 10 prediction labels\n",
    "  top_10_pred_labels=unique_breeds[top_10_pred_indexes]\n",
    "\n",
    "  #setup plot\n",
    "  top_plot=plt.bar(np.arange(len(top_10_pred_labels)),\n",
    "                   top_10_pred_values,\n",
    "                   color=\"grey\")\n",
    "  \n",
    "  plt.xticks(np.arange(len(top_10_pred_labels)),\n",
    "             labels=top_10_pred_labels,\n",
    "             rotation=\"vertical\") #cos of the xticks\n",
    "\n",
    "  #change color of true label\n",
    "  if np.isin(true_label, top_10_pred_labels):\n",
    "    top_plot[np.argmax(top_10_pred_labels==true_label)].set_color(\"green\")     \n",
    "  else:\n",
    "    pass"
   ]
  },
  {
   "cell_type": "code",
   "execution_count": null,
   "metadata": {
    "id": "GUbGIak2QTo1"
   },
   "outputs": [],
   "source": [
    "plot_pred_conf(prediction_probabilities=predictions,\n",
    "               labels=val_labels,\n",
    "               n=9)"
   ]
  },
  {
   "cell_type": "code",
   "execution_count": null,
   "metadata": {
    "id": "K-dXu-UtL_os"
   },
   "outputs": [],
   "source": [
    "predictions[0]"
   ]
  },
  {
   "cell_type": "code",
   "execution_count": null,
   "metadata": {
    "id": "Qy24mOClI8yB"
   },
   "outputs": [],
   "source": [
    "predictions[0].argsort() # order of index that will sort the array, is the highest value is in position 1"
   ]
  },
  {
   "cell_type": "code",
   "execution_count": null,
   "metadata": {
    "id": "ArKAqRBZJAc1"
   },
   "outputs": [],
   "source": [
    "predictions[0].argsort()[-10:] # top ten indexes"
   ]
  },
  {
   "cell_type": "code",
   "execution_count": null,
   "metadata": {
    "id": "Tfxu2DXHMVrv"
   },
   "outputs": [],
   "source": [
    "predictions[0].argsort()[-10:][::-1] # top ten values of prediction 0"
   ]
  },
  {
   "cell_type": "code",
   "execution_count": null,
   "metadata": {
    "id": "rw7QleOIM5wB"
   },
   "outputs": [],
   "source": [
    "predictions[0][predictions[0].argsort()[-10:][::-1]] "
   ]
  },
  {
   "cell_type": "code",
   "execution_count": null,
   "metadata": {
    "id": "jj6A4m_tMvPR"
   },
   "outputs": [],
   "source": [
    "predictions[0].max()"
   ]
  },
  {
   "cell_type": "code",
   "execution_count": null,
   "metadata": {
    "id": "aR4eRmntNQ-Z"
   },
   "outputs": [],
   "source": [
    "unique_breeds[predictions[0].argsort()[-10:][::-1]]"
   ]
  },
  {
   "cell_type": "markdown",
   "metadata": {
    "id": "i6o5SLKrUUWf"
   },
   "source": [
    "Now we've got some functions to help us visualize our predictions and evaluate our model, lets check out a few\n"
   ]
  },
  {
   "cell_type": "code",
   "execution_count": null,
   "metadata": {
    "id": "b2YT17HCOiBc"
   },
   "outputs": [],
   "source": [
    "# Lets check out a few predictions and their different values\n",
    "i_multiplier=10\n",
    "num_rows=3\n",
    "num_cols=2\n",
    "num_images=num_rows*num_cols\n",
    "plt.figure(figsize=(10*num_cols, 5*num_rows)) \n",
    "for i in range(num_images):\n",
    "  plt.subplot(num_rows, 2*num_cols, 2*i+1)\n",
    "  plot_pred(prediction_probabilities=predictions,\n",
    "            labels=val_labels,\n",
    "            images=val_images,\n",
    "            n=i+i_multiplier)\n",
    "  plt.subplot(num_rows, 2*num_cols, 2*i+2)\n",
    "  plot_pred_conf(prediction_probabilities=predictions,\n",
    "                 labels=val_labels,\n",
    "                 n=i+i_multiplier)\n",
    "  # plt.tight_layout(h_pad=1.0 if ur plots isnt showimg well)\n",
    "plt.show()\n"
   ]
  },
  {
   "cell_type": "markdown",
   "metadata": {
    "id": "_XKqZ_fFcoz-"
   },
   "source": [
    "**Challenge** : how would u create a confusion matrix with our models predictions and true labels?**bold text**"
   ]
  },
  {
   "cell_type": "code",
   "execution_count": null,
   "metadata": {
    "id": "RCVZ3KGQVx3K"
   },
   "outputs": [],
   "source": [
    "tf.math.confusion_matrix(predictions,\n",
    "              labels)"
   ]
  },
  {
   "cell_type": "markdown",
   "metadata": {
    "id": "EZNkGqHpfjrF"
   },
   "source": [
    "Saving and Reloading a trained model\n",
    "\n",
    "\n"
   ]
  },
  {
   "cell_type": "code",
   "execution_count": null,
   "metadata": {
    "id": "uTKXUDyAeVwk"
   },
   "outputs": [],
   "source": [
    "# create a function to save a model\n",
    "def save_model(model, suffix=None):\n",
    "  \"\"\"\n",
    "  Saves a given model in a models directory and appends a suffix(string).\n",
    "  \"\"\"\n",
    "  #  create a model directory pathname with current time\n",
    "  modeldir=os.path.join(\"drive/MyDrive/dog-breed-identification/models\",\n",
    "                        datetime.datetime.now().strftime(\"%Y%m%d-%H%M%s\"))\n",
    "  model_path=modeldir + \"-\" + suffix + \".h5\" # save format of a model, model extension\n",
    "  print(f\"saving model to: {model_path}....\")\n",
    "  model.save(model_path)\n",
    "  return model_path"
   ]
  },
  {
   "cell_type": "code",
   "execution_count": null,
   "metadata": {
    "id": "vSTaVeHMnKFj"
   },
   "outputs": [],
   "source": [
    "# Create a function to load a trained model\n",
    "def load_model(model_path):\n",
    "  \"\"\"\n",
    "  Loads a saved model from a specified path.\n",
    "  \"\"\"\n",
    "  print(f\"Loading saved model from: {model_path}\")\n",
    "  model=tf.keras.models.load_model(model_path,\n",
    "                                   custom_objects={\"KerasLayer\":hub.KerasLayer})\n",
    "  return model"
   ]
  },
  {
   "cell_type": "markdown",
   "metadata": {
    "id": "KtmzLjiNn3e9"
   },
   "source": [
    "Now we've got functions to save and load a trained model, let's make sure they work!"
   ]
  },
  {
   "cell_type": "code",
   "execution_count": null,
   "metadata": {
    "id": "iSv73FB7n0nb"
   },
   "outputs": [],
   "source": [
    "#save our model trained on 1000 images\n",
    "save_model(model, suffix=\"1000-images-mobilenetv2-Adam\")"
   ]
  },
  {
   "cell_type": "markdown",
   "metadata": {
    "id": "57Lq1clbs8z7"
   },
   "source": [
    "Load a trained model\n",
    "\n",
    "\n",
    "\n",
    "\n",
    "\n"
   ]
  },
  {
   "cell_type": "code",
   "execution_count": null,
   "metadata": {
    "id": "Ts8ntDDIoS3k"
   },
   "outputs": [],
   "source": [
    "load_1000_image_model=load_model(\"drive/MyDrive/dog-breed-identification/models/20210625-14101624630244-1000-images-mobilenetv2-Adam.h5\")"
   ]
  },
  {
   "cell_type": "code",
   "execution_count": null,
   "metadata": {
    "id": "8Qv6IQeXtSX3"
   },
   "outputs": [],
   "source": [
    "# Evaluate the pre saved model\n",
    "model.evaluate(val_data)"
   ]
  },
  {
   "cell_type": "code",
   "execution_count": null,
   "metadata": {
    "id": "QIhufzdItmNu"
   },
   "outputs": [],
   "source": [
    "# evaluate the loaded model\n",
    "load_1000_image_model.evaluate(val_data)"
   ]
  },
  {
   "cell_type": "markdown",
   "metadata": {
    "id": "4Q-UV6XYeEDL"
   },
   "source": [
    "### Training a big dog model (on the full data)"
   ]
  },
  {
   "cell_type": "code",
   "execution_count": null,
   "metadata": {
    "id": "4L4EQsm-tvDW"
   },
   "outputs": [],
   "source": [
    "len(X), len(y) # filepaths, labels"
   ]
  },
  {
   "cell_type": "code",
   "execution_count": null,
   "metadata": {
    "id": "2AZ4GRmGeKCB"
   },
   "outputs": [],
   "source": [
    "X[:10]"
   ]
  },
  {
   "cell_type": "code",
   "execution_count": null,
   "metadata": {
    "id": "TTjWHUCmeONA"
   },
   "outputs": [],
   "source": [
    "y[:10]"
   ]
  },
  {
   "cell_type": "code",
   "execution_count": null,
   "metadata": {
    "id": "cNwmFEZmeTKg"
   },
   "outputs": [],
   "source": [
    "# create a data batch with the full dataset\n",
    "full_data=create_data_batches(X,y)"
   ]
  },
  {
   "cell_type": "code",
   "execution_count": null,
   "metadata": {
    "id": "Knyj19KTeaXh"
   },
   "outputs": [],
   "source": [
    "full_data"
   ]
  },
  {
   "cell_type": "code",
   "execution_count": null,
   "metadata": {
    "id": "-dhksIiSedjp"
   },
   "outputs": [],
   "source": [
    "full_model=create_model()"
   ]
  },
  {
   "cell_type": "code",
   "execution_count": null,
   "metadata": {
    "id": "FFg62MUOe2yG"
   },
   "outputs": [],
   "source": [
    "# create full model callbacks\n",
    "full_model_tensorboard=create_tensorboard_callback()\n",
    "# no validation set when training on all the data, so we cant monitor validation accuracy\n",
    "full_model_early_stopping=tf.keras.callbacks.EarlyStopping(monitor=\"accuracy\",\n",
    "                                                          patience=3)"
   ]
  },
  {
   "cell_type": "markdown",
   "metadata": {
    "id": "1RzwtsTFe_14"
   },
   "source": [
    "**NOTE** Running the cell below will take a little while(30 minutes or longer for the first epochs) because the CPU we are using in the runtime has to load all of the images into memory."
   ]
  },
  {
   "cell_type": "code",
   "execution_count": 205,
   "metadata": {
    "colab": {
     "base_uri": "https://localhost:8080/"
    },
    "id": "spiqWzwze7jj",
    "outputId": "e31f8500-601b-4b7e-8907-5ab3972066b9"
   },
   "outputs": [
    {
     "name": "stdout",
     "output_type": "stream",
     "text": [
      "Epoch 1/100\n",
      "320/320 [==============================] - 34s 95ms/step - loss: 1.3320 - accuracy: 0.6678\n",
      "Epoch 2/100\n",
      "320/320 [==============================] - 29s 91ms/step - loss: 0.3964 - accuracy: 0.8850\n",
      "Epoch 3/100\n",
      "320/320 [==============================] - 29s 90ms/step - loss: 0.2346 - accuracy: 0.9357\n",
      "Epoch 4/100\n",
      "320/320 [==============================] - 29s 91ms/step - loss: 0.1543 - accuracy: 0.9639\n",
      "Epoch 5/100\n",
      "320/320 [==============================] - 29s 90ms/step - loss: 0.1051 - accuracy: 0.9786\n",
      "Epoch 6/100\n",
      "320/320 [==============================] - 29s 89ms/step - loss: 0.0777 - accuracy: 0.9875\n",
      "Epoch 7/100\n",
      "320/320 [==============================] - 29s 89ms/step - loss: 0.0590 - accuracy: 0.9911\n",
      "Epoch 8/100\n",
      "320/320 [==============================] - 29s 89ms/step - loss: 0.0438 - accuracy: 0.9954\n",
      "Epoch 9/100\n",
      "320/320 [==============================] - 29s 90ms/step - loss: 0.0368 - accuracy: 0.9957\n",
      "Epoch 10/100\n",
      "320/320 [==============================] - 29s 90ms/step - loss: 0.0311 - accuracy: 0.9973\n",
      "Epoch 11/100\n",
      "320/320 [==============================] - 29s 90ms/step - loss: 0.0265 - accuracy: 0.9977\n",
      "Epoch 12/100\n",
      "320/320 [==============================] - 29s 89ms/step - loss: 0.0234 - accuracy: 0.9979\n",
      "Epoch 13/100\n",
      "320/320 [==============================] - 29s 91ms/step - loss: 0.0223 - accuracy: 0.9978\n",
      "Epoch 14/100\n",
      "320/320 [==============================] - 29s 90ms/step - loss: 0.0173 - accuracy: 0.9982\n",
      "Epoch 15/100\n",
      "320/320 [==============================] - 29s 90ms/step - loss: 0.0155 - accuracy: 0.9986\n",
      "Epoch 16/100\n",
      "320/320 [==============================] - 29s 90ms/step - loss: 0.0136 - accuracy: 0.9992\n",
      "Epoch 17/100\n",
      "320/320 [==============================] - 29s 91ms/step - loss: 0.0125 - accuracy: 0.9989\n",
      "Epoch 18/100\n",
      "320/320 [==============================] - 29s 91ms/step - loss: 0.0126 - accuracy: 0.9988\n",
      "Epoch 19/100\n",
      "320/320 [==============================] - 29s 91ms/step - loss: 0.0121 - accuracy: 0.9988\n"
     ]
    },
    {
     "data": {
      "text/plain": [
       "<tensorflow.python.keras.callbacks.History at 0x7f0a10e45310>"
      ]
     },
     "execution_count": 205,
     "metadata": {
      "tags": []
     },
     "output_type": "execute_result"
    }
   ],
   "source": [
    "# fit the full mode to the full data\n",
    "full_model.fit(x=full_data,\n",
    "              epochs=NUM_EPOCHS,\n",
    "              callbacks=[full_model_tensorboard, full_model_early_stopping])"
   ]
  },
  {
   "cell_type": "code",
   "execution_count": 206,
   "metadata": {
    "colab": {
     "base_uri": "https://localhost:8080/",
     "height": 52
    },
    "id": "JiOuukPGfJA3",
    "outputId": "256e3468-89ab-4a92-88ee-4501db88993e"
   },
   "outputs": [
    {
     "name": "stdout",
     "output_type": "stream",
     "text": [
      "saving model to: drive/MyDrive/dog-breed-identification/models/20210628-09001624870845-full-image-set-mobilenetv2-Adam.h5....\n"
     ]
    },
    {
     "data": {
      "application/vnd.google.colaboratory.intrinsic+json": {
       "type": "string"
      },
      "text/plain": [
       "'drive/MyDrive/dog-breed-identification/models/20210628-09001624870845-full-image-set-mobilenetv2-Adam.h5'"
      ]
     },
     "execution_count": 206,
     "metadata": {
      "tags": []
     },
     "output_type": "execute_result"
    }
   ],
   "source": [
    "save_model(full_model, suffix=\"full-image-set-mobilenetv2-Adam\")"
   ]
  },
  {
   "cell_type": "code",
   "execution_count": 207,
   "metadata": {
    "colab": {
     "base_uri": "https://localhost:8080/"
    },
    "id": "VaZYJZ6hgMQF",
    "outputId": "d726fab8-1d24-4ddb-ba5e-a4cc791b55f6"
   },
   "outputs": [
    {
     "name": "stdout",
     "output_type": "stream",
     "text": [
      "Loading saved model from: drive/MyDrive/dog-breed-identification/models/20210625-10441624617864-full-image-set-mobilenetv2-Adam.h5\n"
     ]
    }
   ],
   "source": [
    "# loading the full model\n",
    "loaded_full_model=load_model('drive/MyDrive/dog-breed-identification/models/20210625-10441624617864-full-image-set-mobilenetv2-Adam.h5')"
   ]
  },
  {
   "cell_type": "markdown",
   "metadata": {
    "id": "kVnwDAYx2qmq"
   },
   "source": [
    "### Making predictions on the test dataset\n",
    "\n",
    "since our model has been trained on images in the firm of Tensor batches, we would have to het the test data in the same format to make predictions\n",
    "\n",
    "\n",
    "Luckily, we created `create_data_batches` earlier ehich can take a list of filenames as input and convert them into Tensor batches\n",
    "\n",
    "To make predictions on the test data, we will:\n",
    "    \n",
    "    * Get the test image filename\n",
    "    \n",
    "    * convert the filenames into test data batches using `create_data_batches()` and setting the `test-data` parameter to `True`(since the test data does not have labels)\n",
    "    \n",
    "    * Make a predictions array by passing the test batches to the `predict()` method called on our model"
   ]
  },
  {
   "cell_type": "code",
   "execution_count": 208,
   "metadata": {
    "colab": {
     "base_uri": "https://localhost:8080/"
    },
    "id": "APNJFrRuzHWB",
    "outputId": "f5326815-5e00-4bb0-92a4-c53316993f7e"
   },
   "outputs": [
    {
     "data": {
      "text/plain": [
       "['drive/MyDrive/dog-breed-identification/test/e7dc8cc599049ea9fa2a172c88646c57.jpg',\n",
       " 'drive/MyDrive/dog-breed-identification/test/e7be7b911a4cba9fdfa4105ec4776370.jpg',\n",
       " 'drive/MyDrive/dog-breed-identification/test/e7e9dd51302fe08c1c89a550e183cf07.jpg',\n",
       " 'drive/MyDrive/dog-breed-identification/test/e7b357150635c250757363718e4dae86.jpg',\n",
       " 'drive/MyDrive/dog-breed-identification/test/e7b608110b0e29120d8740f37e85f3d0.jpg',\n",
       " 'drive/MyDrive/dog-breed-identification/test/e7e9624f2a2e61ab187358f5968bfde8.jpg',\n",
       " 'drive/MyDrive/dog-breed-identification/test/e7ed96b272013c6de9505a753816ce75.jpg',\n",
       " 'drive/MyDrive/dog-breed-identification/test/e7f95aabf775a636b3893ffa120adaf9.jpg',\n",
       " 'drive/MyDrive/dog-breed-identification/test/e83d7fa8fdfba0ec577f9c8df811d439.jpg',\n",
       " 'drive/MyDrive/dog-breed-identification/test/e806a67a05289ac6de6831001664b81b.jpg',\n",
       " 'drive/MyDrive/dog-breed-identification/test/e8232c9a79f0e77e9b4c5fca60682d41.jpg',\n",
       " 'drive/MyDrive/dog-breed-identification/test/e8319b1410a984291d71a3e60c84d86c.jpg',\n",
       " 'drive/MyDrive/dog-breed-identification/test/e800b6c8d2904e205d67ada800907762.jpg',\n",
       " 'drive/MyDrive/dog-breed-identification/test/e816f0027a2c6348dbf12b79c70541bc.jpg',\n",
       " 'drive/MyDrive/dog-breed-identification/test/e823ee1ca007c88600806925a6f2bce1.jpg',\n",
       " 'drive/MyDrive/dog-breed-identification/test/e7feb64da6aae1ef8e62453f6660d0c5.jpg',\n",
       " 'drive/MyDrive/dog-breed-identification/test/e806fbb5ca4dd3a094f7819bd810cc65.jpg',\n",
       " 'drive/MyDrive/dog-breed-identification/test/e807c4b5025b0aa4dcbd5df2765aa8e4.jpg',\n",
       " 'drive/MyDrive/dog-breed-identification/test/e826c0ae5dd27876781c10e1be444fd5.jpg',\n",
       " 'drive/MyDrive/dog-breed-identification/test/e850770a6575a34b1c7ad4b401692553.jpg',\n",
       " 'drive/MyDrive/dog-breed-identification/test/e83fec66a32873298df9fa5fdac113aa.jpg',\n",
       " 'drive/MyDrive/dog-breed-identification/test/e8505566fd9116b812e306ca196b62da.jpg',\n",
       " 'drive/MyDrive/dog-breed-identification/test/e85d4e2707683df0e6387e19b67b873d.jpg',\n",
       " 'drive/MyDrive/dog-breed-identification/test/e864985e40823a56d3ad8594066d0641.jpg',\n",
       " 'drive/MyDrive/dog-breed-identification/test/e86bb44f11c953a6d69c548e756f5a3b.jpg',\n",
       " 'drive/MyDrive/dog-breed-identification/test/e85b19a69be67eaef9fe58b7e689ee81.jpg',\n",
       " 'drive/MyDrive/dog-breed-identification/test/e85291fc6ba44e39defc7769fa020646.jpg',\n",
       " 'drive/MyDrive/dog-breed-identification/test/e83f4c0ff6dec86d89d0f8b70ecd3cea.jpg',\n",
       " 'drive/MyDrive/dog-breed-identification/test/e857866af777793d2c114b09ea7a685a.jpg',\n",
       " 'drive/MyDrive/dog-breed-identification/test/e864f3fc5d19aec4b7a5aa547b359c57.jpg']"
      ]
     },
     "execution_count": 208,
     "metadata": {
      "tags": []
     },
     "output_type": "execute_result"
    }
   ],
   "source": [
    "# Load test image filenames\n",
    "test_path=\"drive/MyDrive/dog-breed-identification/test/\"\n",
    "test_filenames=[test_path + fname for fname in os.listdir(test_path)]\n",
    "test_filenames[:30]"
   ]
  },
  {
   "cell_type": "code",
   "execution_count": 209,
   "metadata": {
    "colab": {
     "base_uri": "https://localhost:8080/",
     "height": 517
    },
    "id": "Ar5iBFfmtn8c",
    "outputId": "0b1f42f6-d0b7-4892-f69d-54f2323a2550"
   },
   "outputs": [
    {
     "data": {
      "image/jpeg": "[encoded data removed]",
      "text/plain": [
       "<IPython.core.display.Image object>"
      ]
     },
     "execution_count": 209,
     "metadata": {
      "tags": []
     },
     "output_type": "execute_result"
    }
   ],
   "source": [
    "Image(test_filenames[1])"
   ]
  },
  {
   "cell_type": "code",
   "execution_count": 211,
   "metadata": {
    "colab": {
     "base_uri": "https://localhost:8080/"
    },
    "id": "B_1aZcRi4qu4",
    "outputId": "6895ffa0-a7b7-44cd-e58a-c9483abe6132"
   },
   "outputs": [
    {
     "data": {
      "text/plain": [
       "10357"
      ]
     },
     "execution_count": 211,
     "metadata": {
      "tags": []
     },
     "output_type": "execute_result"
    }
   ],
   "source": [
    "len(test_filenames)"
   ]
  },
  {
   "cell_type": "code",
   "execution_count": 212,
   "metadata": {
    "colab": {
     "base_uri": "https://localhost:8080/"
    },
    "id": "1Q0YmDGN8msv",
    "outputId": "20c676a1-7099-4340-e79d-81470b069b4d"
   },
   "outputs": [
    {
     "name": "stdout",
     "output_type": "stream",
     "text": [
      "Creating test data batches....\n"
     ]
    }
   ],
   "source": [
    "# Create test data batch\n",
    "test_data=create_data_batches(test_filenames, test_data=True)"
   ]
  },
  {
   "cell_type": "code",
   "execution_count": 213,
   "metadata": {
    "colab": {
     "base_uri": "https://localhost:8080/"
    },
    "id": "17UZWQDs8xqb",
    "outputId": "534ff49c-700f-4493-f051-af689ceda0ae"
   },
   "outputs": [
    {
     "data": {
      "text/plain": [
       "<BatchDataset shapes: (None, 224, 224, 3), types: tf.float32>"
      ]
     },
     "execution_count": 213,
     "metadata": {
      "tags": []
     },
     "output_type": "execute_result"
    }
   ],
   "source": [
    "test_data"
   ]
  },
  {
   "cell_type": "markdown",
   "metadata": {
    "id": "aHWFguoI9cfV"
   },
   "source": [
    "**NOTES** Calling `predict()` on our full model nd passing it the test data batch will take a long time to run(about ~ an hour).\n",
    "\n",
    "this is because its running a large new models, find patterns and still create predictions\n",
    "\n",
    "\n",
    "it will run 10357/32 ~ 324 batches"
   ]
  },
  {
   "cell_type": "code",
   "execution_count": 214,
   "metadata": {
    "colab": {
     "base_uri": "https://localhost:8080/"
    },
    "id": "-PEAstbF9FFH",
    "outputId": "30b138a2-d9c5-4fe3-f6f5-7d816fa25885"
   },
   "outputs": [
    {
     "name": "stdout",
     "output_type": "stream",
     "text": [
      "324/324 [==============================] - 1165s 4s/step\n"
     ]
    }
   ],
   "source": [
    "# Make predictions on test data batch using the loaded full model\n",
    "test_predictions=loaded_full_model.predict(test_data,\n",
    "                                            verbose=1)"
   ]
  },
  {
   "cell_type": "markdown",
   "metadata": {
    "id": "YiPW7F-R71ZJ"
   },
   "source": [
    "Save predictions (Numpy array) to csv file (for access later)\n",
    "\n",
    "# np.savetxt(\"drive/MyDrive/dog-breed-identification/\", test_predictions, delimiter=\",\")"
   ]
  },
  {
   "cell_type": "code",
   "execution_count": 216,
   "metadata": {
    "id": "yi3a5fcO99Wq"
   },
   "outputs": [],
   "source": [
    "# Save predictions (NumPy array) to csv file for access later\n",
    "np.savetxt(\"drive/MyDrive/dog-breed-identification/preds_array.csv\", test_predictions, delimiter=\",\")"
   ]
  },
  {
   "cell_type": "code",
   "execution_count": 217,
   "metadata": {
    "id": "bp1_JO0t9AOG"
   },
   "outputs": [],
   "source": [
    "# Load predictions (NumPy array) from csv file\n",
    "test_predictions=np.loadtxt(\"drive/MyDrive/dog-breed-identification/preds_array.csv\", delimiter=\",\")"
   ]
  },
  {
   "cell_type": "code",
   "execution_count": 218,
   "metadata": {
    "colab": {
     "base_uri": "https://localhost:8080/"
    },
    "id": "DPn6nxA-BYs3",
    "outputId": "df921305-3036-452b-95b1-0282f91ade4a"
   },
   "outputs": [
    {
     "data": {
      "text/plain": [
       "array([[1.26607773e-07, 2.74226730e-09, 9.98796934e-10, ...,\n",
       "        8.40883266e-11, 2.63439233e-07, 2.49234375e-08],\n",
       "       [4.07817851e-08, 7.90315823e-07, 1.40692393e-07, ...,\n",
       "        6.42902194e-07, 1.02406215e-10, 4.33433129e-08],\n",
       "       [1.74797999e-04, 6.17461149e-09, 2.26341212e-09, ...,\n",
       "        5.29346948e-08, 3.67502162e-06, 9.73864734e-01],\n",
       "       ...,\n",
       "       [6.20252132e-01, 9.28290333e-10, 3.19771409e-09, ...,\n",
       "        4.43909298e-10, 5.19479251e-08, 5.23835042e-05],\n",
       "       [8.07969733e-11, 8.29952634e-11, 7.15877141e-12, ...,\n",
       "        3.63511998e-12, 3.18067892e-13, 3.82472776e-10],\n",
       "       [1.18335813e-17, 1.05396989e-08, 1.25343041e-13, ...,\n",
       "        1.05446893e-11, 4.69224811e-14, 5.77207849e-15]])"
      ]
     },
     "execution_count": 218,
     "metadata": {
      "tags": []
     },
     "output_type": "execute_result"
    }
   ],
   "source": [
    "test_predictions[:10]"
   ]
  },
  {
   "cell_type": "code",
   "execution_count": 219,
   "metadata": {
    "colab": {
     "base_uri": "https://localhost:8080/"
    },
    "id": "aRtx_hlGBt6o",
    "outputId": "a2a62b8f-d39e-4499-e8c6-bdc37109f337"
   },
   "outputs": [
    {
     "data": {
      "text/plain": [
       "(10357, 120)"
      ]
     },
     "execution_count": 219,
     "metadata": {
      "tags": []
     },
     "output_type": "execute_result"
    }
   ],
   "source": [
    "test_predictions.shape"
   ]
  },
  {
   "cell_type": "markdown",
   "metadata": {
    "id": "JxI-Br9lCJH4"
   },
   "source": [
    "Preparing test dataset predictions for submission\n",
    "\n",
    "Looking at the submission format, we need an id column and a column for each dog breed.. in a csv\n",
    "\n",
    "https://www.kaggle.com/c/dog-breed-identification/overview/evaluation\n",
    "\n",
    "\n",
    "To get the data in this format, we will:\n",
    "\n",
    "* create a pandas dataframe with am id column, as well as a column for each dog breed \n",
    "\n",
    "* add data to the id column by extracting the test image ids from their filepaths\n",
    "\n",
    "* add data (prediction probabilities) to each of the dog breed columns\n",
    "\n",
    "* export dataframe as a csv for submission\n"
   ]
  },
  {
   "cell_type": "code",
   "execution_count": 220,
   "metadata": {
    "colab": {
     "base_uri": "https://localhost:8080/"
    },
    "id": "iVU2fQpvEsiS",
    "outputId": "2d77f04a-721f-48e7-ce95-f59a48e2d44d"
   },
   "outputs": [
    {
     "data": {
      "text/plain": [
       "['affenpinscher',\n",
       " 'afghan_hound',\n",
       " 'african_hunting_dog',\n",
       " 'airedale',\n",
       " 'american_staffordshire_terrier',\n",
       " 'appenzeller',\n",
       " 'australian_terrier',\n",
       " 'basenji',\n",
       " 'basset',\n",
       " 'beagle',\n",
       " 'bedlington_terrier',\n",
       " 'bernese_mountain_dog',\n",
       " 'black-and-tan_coonhound',\n",
       " 'blenheim_spaniel',\n",
       " 'bloodhound',\n",
       " 'bluetick',\n",
       " 'border_collie',\n",
       " 'border_terrier',\n",
       " 'borzoi',\n",
       " 'boston_bull',\n",
       " 'bouvier_des_flandres',\n",
       " 'boxer',\n",
       " 'brabancon_griffon',\n",
       " 'briard',\n",
       " 'brittany_spaniel',\n",
       " 'bull_mastiff',\n",
       " 'cairn',\n",
       " 'cardigan',\n",
       " 'chesapeake_bay_retriever',\n",
       " 'chihuahua',\n",
       " 'chow',\n",
       " 'clumber',\n",
       " 'cocker_spaniel',\n",
       " 'collie',\n",
       " 'curly-coated_retriever',\n",
       " 'dandie_dinmont',\n",
       " 'dhole',\n",
       " 'dingo',\n",
       " 'doberman',\n",
       " 'english_foxhound',\n",
       " 'english_setter',\n",
       " 'english_springer',\n",
       " 'entlebucher',\n",
       " 'eskimo_dog',\n",
       " 'flat-coated_retriever',\n",
       " 'french_bulldog',\n",
       " 'german_shepherd',\n",
       " 'german_short-haired_pointer',\n",
       " 'giant_schnauzer',\n",
       " 'golden_retriever',\n",
       " 'gordon_setter',\n",
       " 'great_dane',\n",
       " 'great_pyrenees',\n",
       " 'greater_swiss_mountain_dog',\n",
       " 'groenendael',\n",
       " 'ibizan_hound',\n",
       " 'irish_setter',\n",
       " 'irish_terrier',\n",
       " 'irish_water_spaniel',\n",
       " 'irish_wolfhound',\n",
       " 'italian_greyhound',\n",
       " 'japanese_spaniel',\n",
       " 'keeshond',\n",
       " 'kelpie',\n",
       " 'kerry_blue_terrier',\n",
       " 'komondor',\n",
       " 'kuvasz',\n",
       " 'labrador_retriever',\n",
       " 'lakeland_terrier',\n",
       " 'leonberg',\n",
       " 'lhasa',\n",
       " 'malamute',\n",
       " 'malinois',\n",
       " 'maltese_dog',\n",
       " 'mexican_hairless',\n",
       " 'miniature_pinscher',\n",
       " 'miniature_poodle',\n",
       " 'miniature_schnauzer',\n",
       " 'newfoundland',\n",
       " 'norfolk_terrier',\n",
       " 'norwegian_elkhound',\n",
       " 'norwich_terrier',\n",
       " 'old_english_sheepdog',\n",
       " 'otterhound',\n",
       " 'papillon',\n",
       " 'pekinese',\n",
       " 'pembroke',\n",
       " 'pomeranian',\n",
       " 'pug',\n",
       " 'redbone',\n",
       " 'rhodesian_ridgeback',\n",
       " 'rottweiler',\n",
       " 'saint_bernard',\n",
       " 'saluki',\n",
       " 'samoyed',\n",
       " 'schipperke',\n",
       " 'scotch_terrier',\n",
       " 'scottish_deerhound',\n",
       " 'sealyham_terrier',\n",
       " 'shetland_sheepdog',\n",
       " 'shih-tzu',\n",
       " 'siberian_husky',\n",
       " 'silky_terrier',\n",
       " 'soft-coated_wheaten_terrier',\n",
       " 'staffordshire_bullterrier',\n",
       " 'standard_poodle',\n",
       " 'standard_schnauzer',\n",
       " 'sussex_spaniel',\n",
       " 'tibetan_mastiff',\n",
       " 'tibetan_terrier',\n",
       " 'toy_poodle',\n",
       " 'toy_terrier',\n",
       " 'vizsla',\n",
       " 'walker_hound',\n",
       " 'weimaraner',\n",
       " 'welsh_springer_spaniel',\n",
       " 'west_highland_white_terrier',\n",
       " 'whippet',\n",
       " 'wire-haired_fox_terrier',\n",
       " 'yorkshire_terrier']"
      ]
     },
     "execution_count": 220,
     "metadata": {
      "tags": []
     },
     "output_type": "execute_result"
    }
   ],
   "source": [
    "list(unique_breeds)"
   ]
  },
  {
   "cell_type": "code",
   "execution_count": 221,
   "metadata": {
    "colab": {
     "base_uri": "https://localhost:8080/"
    },
    "id": "zWMhvlPdE1OP",
    "outputId": "9b61296c-5346-4fc4-f977-d2433c9eb336"
   },
   "outputs": [
    {
     "data": {
      "text/plain": [
       "['id',\n",
       " 'affenpinscher',\n",
       " 'afghan_hound',\n",
       " 'african_hunting_dog',\n",
       " 'airedale',\n",
       " 'american_staffordshire_terrier',\n",
       " 'appenzeller',\n",
       " 'australian_terrier',\n",
       " 'basenji',\n",
       " 'basset',\n",
       " 'beagle',\n",
       " 'bedlington_terrier',\n",
       " 'bernese_mountain_dog',\n",
       " 'black-and-tan_coonhound',\n",
       " 'blenheim_spaniel',\n",
       " 'bloodhound',\n",
       " 'bluetick',\n",
       " 'border_collie',\n",
       " 'border_terrier',\n",
       " 'borzoi',\n",
       " 'boston_bull',\n",
       " 'bouvier_des_flandres',\n",
       " 'boxer',\n",
       " 'brabancon_griffon',\n",
       " 'briard',\n",
       " 'brittany_spaniel',\n",
       " 'bull_mastiff',\n",
       " 'cairn',\n",
       " 'cardigan',\n",
       " 'chesapeake_bay_retriever',\n",
       " 'chihuahua',\n",
       " 'chow',\n",
       " 'clumber',\n",
       " 'cocker_spaniel',\n",
       " 'collie',\n",
       " 'curly-coated_retriever',\n",
       " 'dandie_dinmont',\n",
       " 'dhole',\n",
       " 'dingo',\n",
       " 'doberman',\n",
       " 'english_foxhound',\n",
       " 'english_setter',\n",
       " 'english_springer',\n",
       " 'entlebucher',\n",
       " 'eskimo_dog',\n",
       " 'flat-coated_retriever',\n",
       " 'french_bulldog',\n",
       " 'german_shepherd',\n",
       " 'german_short-haired_pointer',\n",
       " 'giant_schnauzer',\n",
       " 'golden_retriever',\n",
       " 'gordon_setter',\n",
       " 'great_dane',\n",
       " 'great_pyrenees',\n",
       " 'greater_swiss_mountain_dog',\n",
       " 'groenendael',\n",
       " 'ibizan_hound',\n",
       " 'irish_setter',\n",
       " 'irish_terrier',\n",
       " 'irish_water_spaniel',\n",
       " 'irish_wolfhound',\n",
       " 'italian_greyhound',\n",
       " 'japanese_spaniel',\n",
       " 'keeshond',\n",
       " 'kelpie',\n",
       " 'kerry_blue_terrier',\n",
       " 'komondor',\n",
       " 'kuvasz',\n",
       " 'labrador_retriever',\n",
       " 'lakeland_terrier',\n",
       " 'leonberg',\n",
       " 'lhasa',\n",
       " 'malamute',\n",
       " 'malinois',\n",
       " 'maltese_dog',\n",
       " 'mexican_hairless',\n",
       " 'miniature_pinscher',\n",
       " 'miniature_poodle',\n",
       " 'miniature_schnauzer',\n",
       " 'newfoundland',\n",
       " 'norfolk_terrier',\n",
       " 'norwegian_elkhound',\n",
       " 'norwich_terrier',\n",
       " 'old_english_sheepdog',\n",
       " 'otterhound',\n",
       " 'papillon',\n",
       " 'pekinese',\n",
       " 'pembroke',\n",
       " 'pomeranian',\n",
       " 'pug',\n",
       " 'redbone',\n",
       " 'rhodesian_ridgeback',\n",
       " 'rottweiler',\n",
       " 'saint_bernard',\n",
       " 'saluki',\n",
       " 'samoyed',\n",
       " 'schipperke',\n",
       " 'scotch_terrier',\n",
       " 'scottish_deerhound',\n",
       " 'sealyham_terrier',\n",
       " 'shetland_sheepdog',\n",
       " 'shih-tzu',\n",
       " 'siberian_husky',\n",
       " 'silky_terrier',\n",
       " 'soft-coated_wheaten_terrier',\n",
       " 'staffordshire_bullterrier',\n",
       " 'standard_poodle',\n",
       " 'standard_schnauzer',\n",
       " 'sussex_spaniel',\n",
       " 'tibetan_mastiff',\n",
       " 'tibetan_terrier',\n",
       " 'toy_poodle',\n",
       " 'toy_terrier',\n",
       " 'vizsla',\n",
       " 'walker_hound',\n",
       " 'weimaraner',\n",
       " 'welsh_springer_spaniel',\n",
       " 'west_highland_white_terrier',\n",
       " 'whippet',\n",
       " 'wire-haired_fox_terrier',\n",
       " 'yorkshire_terrier']"
      ]
     },
     "execution_count": 221,
     "metadata": {
      "tags": []
     },
     "output_type": "execute_result"
    }
   ],
   "source": [
    "[\"id\"]+list(unique_breeds)"
   ]
  },
  {
   "cell_type": "code",
   "execution_count": 225,
   "metadata": {
    "colab": {
     "base_uri": "https://localhost:8080/",
     "height": 115
    },
    "id": "pXthWM7vBxDP",
    "outputId": "60eaa522-62ae-486e-a813-9494c4871aaa"
   },
   "outputs": [
    {
     "data": {
      "text/html": [
       "<div>\n",
       "<style scoped>\n",
       "    .dataframe tbody tr th:only-of-type {\n",
       "        vertical-align: middle;\n",
       "    }\n",
       "\n",
       "    .dataframe tbody tr th {\n",
       "        vertical-align: top;\n",
       "    }\n",
       "\n",
       "    .dataframe thead th {\n",
       "        text-align: right;\n",
       "    }\n",
       "</style>\n",
       "<table border=\"1\" class=\"dataframe\">\n",
       "  <thead>\n",
       "    <tr style=\"text-align: right;\">\n",
       "      <th></th>\n",
       "      <th>id</th>\n",
       "      <th>affenpinscher</th>\n",
       "      <th>afghan_hound</th>\n",
       "      <th>african_hunting_dog</th>\n",
       "      <th>airedale</th>\n",
       "      <th>american_staffordshire_terrier</th>\n",
       "      <th>appenzeller</th>\n",
       "      <th>australian_terrier</th>\n",
       "      <th>basenji</th>\n",
       "      <th>basset</th>\n",
       "      <th>beagle</th>\n",
       "      <th>bedlington_terrier</th>\n",
       "      <th>bernese_mountain_dog</th>\n",
       "      <th>black-and-tan_coonhound</th>\n",
       "      <th>blenheim_spaniel</th>\n",
       "      <th>bloodhound</th>\n",
       "      <th>bluetick</th>\n",
       "      <th>border_collie</th>\n",
       "      <th>border_terrier</th>\n",
       "      <th>borzoi</th>\n",
       "      <th>boston_bull</th>\n",
       "      <th>bouvier_des_flandres</th>\n",
       "      <th>boxer</th>\n",
       "      <th>brabancon_griffon</th>\n",
       "      <th>briard</th>\n",
       "      <th>brittany_spaniel</th>\n",
       "      <th>bull_mastiff</th>\n",
       "      <th>cairn</th>\n",
       "      <th>cardigan</th>\n",
       "      <th>chesapeake_bay_retriever</th>\n",
       "      <th>chihuahua</th>\n",
       "      <th>chow</th>\n",
       "      <th>clumber</th>\n",
       "      <th>cocker_spaniel</th>\n",
       "      <th>collie</th>\n",
       "      <th>curly-coated_retriever</th>\n",
       "      <th>dandie_dinmont</th>\n",
       "      <th>dhole</th>\n",
       "      <th>dingo</th>\n",
       "      <th>doberman</th>\n",
       "      <th>...</th>\n",
       "      <th>norwegian_elkhound</th>\n",
       "      <th>norwich_terrier</th>\n",
       "      <th>old_english_sheepdog</th>\n",
       "      <th>otterhound</th>\n",
       "      <th>papillon</th>\n",
       "      <th>pekinese</th>\n",
       "      <th>pembroke</th>\n",
       "      <th>pomeranian</th>\n",
       "      <th>pug</th>\n",
       "      <th>redbone</th>\n",
       "      <th>rhodesian_ridgeback</th>\n",
       "      <th>rottweiler</th>\n",
       "      <th>saint_bernard</th>\n",
       "      <th>saluki</th>\n",
       "      <th>samoyed</th>\n",
       "      <th>schipperke</th>\n",
       "      <th>scotch_terrier</th>\n",
       "      <th>scottish_deerhound</th>\n",
       "      <th>sealyham_terrier</th>\n",
       "      <th>shetland_sheepdog</th>\n",
       "      <th>shih-tzu</th>\n",
       "      <th>siberian_husky</th>\n",
       "      <th>silky_terrier</th>\n",
       "      <th>soft-coated_wheaten_terrier</th>\n",
       "      <th>staffordshire_bullterrier</th>\n",
       "      <th>standard_poodle</th>\n",
       "      <th>standard_schnauzer</th>\n",
       "      <th>sussex_spaniel</th>\n",
       "      <th>tibetan_mastiff</th>\n",
       "      <th>tibetan_terrier</th>\n",
       "      <th>toy_poodle</th>\n",
       "      <th>toy_terrier</th>\n",
       "      <th>vizsla</th>\n",
       "      <th>walker_hound</th>\n",
       "      <th>weimaraner</th>\n",
       "      <th>welsh_springer_spaniel</th>\n",
       "      <th>west_highland_white_terrier</th>\n",
       "      <th>whippet</th>\n",
       "      <th>wire-haired_fox_terrier</th>\n",
       "      <th>yorkshire_terrier</th>\n",
       "    </tr>\n",
       "  </thead>\n",
       "  <tbody>\n",
       "  </tbody>\n",
       "</table>\n",
       "<p>0 rows × 121 columns</p>\n",
       "</div>"
      ],
      "text/plain": [
       "Empty DataFrame\n",
       "Columns: [id, affenpinscher, afghan_hound, african_hunting_dog, airedale, american_staffordshire_terrier, appenzeller, australian_terrier, basenji, basset, beagle, bedlington_terrier, bernese_mountain_dog, black-and-tan_coonhound, blenheim_spaniel, bloodhound, bluetick, border_collie, border_terrier, borzoi, boston_bull, bouvier_des_flandres, boxer, brabancon_griffon, briard, brittany_spaniel, bull_mastiff, cairn, cardigan, chesapeake_bay_retriever, chihuahua, chow, clumber, cocker_spaniel, collie, curly-coated_retriever, dandie_dinmont, dhole, dingo, doberman, english_foxhound, english_setter, english_springer, entlebucher, eskimo_dog, flat-coated_retriever, french_bulldog, german_shepherd, german_short-haired_pointer, giant_schnauzer, golden_retriever, gordon_setter, great_dane, great_pyrenees, greater_swiss_mountain_dog, groenendael, ibizan_hound, irish_setter, irish_terrier, irish_water_spaniel, irish_wolfhound, italian_greyhound, japanese_spaniel, keeshond, kelpie, kerry_blue_terrier, komondor, kuvasz, labrador_retriever, lakeland_terrier, leonberg, lhasa, malamute, malinois, maltese_dog, mexican_hairless, miniature_pinscher, miniature_poodle, miniature_schnauzer, newfoundland, norfolk_terrier, norwegian_elkhound, norwich_terrier, old_english_sheepdog, otterhound, papillon, pekinese, pembroke, pomeranian, pug, redbone, rhodesian_ridgeback, rottweiler, saint_bernard, saluki, samoyed, schipperke, scotch_terrier, scottish_deerhound, sealyham_terrier, ...]\n",
       "Index: []\n",
       "\n",
       "[0 rows x 121 columns]"
      ]
     },
     "execution_count": 225,
     "metadata": {
      "tags": []
     },
     "output_type": "execute_result"
    }
   ],
   "source": [
    "# Create a pandas dataframe with empty columns\n",
    "preds_df=pd.DataFrame(columns=[\"id\"]+ list(unique_breeds))\n",
    "preds_df.head()"
   ]
  },
  {
   "cell_type": "code",
   "execution_count": 226,
   "metadata": {
    "colab": {
     "base_uri": "https://localhost:8080/"
    },
    "id": "zByxwxxfFCY2",
    "outputId": "31533311-aecc-402d-82e5-c7aea5e7a404"
   },
   "outputs": [
    {
     "data": {
      "text/plain": [
       "['drive/MyDrive/dog-breed-identification/test/e7dc8cc599049ea9fa2a172c88646c57.jpg',\n",
       " 'drive/MyDrive/dog-breed-identification/test/e7be7b911a4cba9fdfa4105ec4776370.jpg',\n",
       " 'drive/MyDrive/dog-breed-identification/test/e7e9dd51302fe08c1c89a550e183cf07.jpg',\n",
       " 'drive/MyDrive/dog-breed-identification/test/e7b357150635c250757363718e4dae86.jpg',\n",
       " 'drive/MyDrive/dog-breed-identification/test/e7b608110b0e29120d8740f37e85f3d0.jpg',\n",
       " 'drive/MyDrive/dog-breed-identification/test/e7e9624f2a2e61ab187358f5968bfde8.jpg',\n",
       " 'drive/MyDrive/dog-breed-identification/test/e7ed96b272013c6de9505a753816ce75.jpg',\n",
       " 'drive/MyDrive/dog-breed-identification/test/e7f95aabf775a636b3893ffa120adaf9.jpg',\n",
       " 'drive/MyDrive/dog-breed-identification/test/e83d7fa8fdfba0ec577f9c8df811d439.jpg',\n",
       " 'drive/MyDrive/dog-breed-identification/test/e806a67a05289ac6de6831001664b81b.jpg',\n",
       " 'drive/MyDrive/dog-breed-identification/test/e8232c9a79f0e77e9b4c5fca60682d41.jpg',\n",
       " 'drive/MyDrive/dog-breed-identification/test/e8319b1410a984291d71a3e60c84d86c.jpg',\n",
       " 'drive/MyDrive/dog-breed-identification/test/e800b6c8d2904e205d67ada800907762.jpg',\n",
       " 'drive/MyDrive/dog-breed-identification/test/e816f0027a2c6348dbf12b79c70541bc.jpg',\n",
       " 'drive/MyDrive/dog-breed-identification/test/e823ee1ca007c88600806925a6f2bce1.jpg',\n",
       " 'drive/MyDrive/dog-breed-identification/test/e7feb64da6aae1ef8e62453f6660d0c5.jpg',\n",
       " 'drive/MyDrive/dog-breed-identification/test/e806fbb5ca4dd3a094f7819bd810cc65.jpg',\n",
       " 'drive/MyDrive/dog-breed-identification/test/e807c4b5025b0aa4dcbd5df2765aa8e4.jpg',\n",
       " 'drive/MyDrive/dog-breed-identification/test/e826c0ae5dd27876781c10e1be444fd5.jpg',\n",
       " 'drive/MyDrive/dog-breed-identification/test/e850770a6575a34b1c7ad4b401692553.jpg',\n",
       " 'drive/MyDrive/dog-breed-identification/test/e83fec66a32873298df9fa5fdac113aa.jpg',\n",
       " 'drive/MyDrive/dog-breed-identification/test/e8505566fd9116b812e306ca196b62da.jpg',\n",
       " 'drive/MyDrive/dog-breed-identification/test/e85d4e2707683df0e6387e19b67b873d.jpg',\n",
       " 'drive/MyDrive/dog-breed-identification/test/e864985e40823a56d3ad8594066d0641.jpg',\n",
       " 'drive/MyDrive/dog-breed-identification/test/e86bb44f11c953a6d69c548e756f5a3b.jpg',\n",
       " 'drive/MyDrive/dog-breed-identification/test/e85b19a69be67eaef9fe58b7e689ee81.jpg',\n",
       " 'drive/MyDrive/dog-breed-identification/test/e85291fc6ba44e39defc7769fa020646.jpg',\n",
       " 'drive/MyDrive/dog-breed-identification/test/e83f4c0ff6dec86d89d0f8b70ecd3cea.jpg',\n",
       " 'drive/MyDrive/dog-breed-identification/test/e857866af777793d2c114b09ea7a685a.jpg',\n",
       " 'drive/MyDrive/dog-breed-identification/test/e864f3fc5d19aec4b7a5aa547b359c57.jpg',\n",
       " 'drive/MyDrive/dog-breed-identification/test/e870a3586332ab83ddd5821fbc882f42.jpg',\n",
       " 'drive/MyDrive/dog-breed-identification/test/e8db9ef8056880a187f3768565f215d9.jpg',\n",
       " 'drive/MyDrive/dog-breed-identification/test/e8e42d4a1a18d4168bac9a69922df22f.jpg',\n",
       " 'drive/MyDrive/dog-breed-identification/test/e89317cab9060dcaa19f1b669d363223.jpg',\n",
       " 'drive/MyDrive/dog-breed-identification/test/e8c778896a73d0f6b4f88c564690c9db.jpg',\n",
       " 'drive/MyDrive/dog-breed-identification/test/e8889cf9d7b2701a85be1c97661b9b26.jpg',\n",
       " 'drive/MyDrive/dog-breed-identification/test/e8914f74848c23b70b520887b3ff2e8a.jpg',\n",
       " 'drive/MyDrive/dog-breed-identification/test/e8d27c76d6921b27aea1e2da6920396f.jpg',\n",
       " 'drive/MyDrive/dog-breed-identification/test/e8763575a23f1e1a86788b82bd105f07.jpg',\n",
       " 'drive/MyDrive/dog-breed-identification/test/e87771bc542cc6112c922962d8fda92b.jpg',\n",
       " 'drive/MyDrive/dog-breed-identification/test/e8899ab63ea8630d50f0b321cb4bf811.jpg',\n",
       " 'drive/MyDrive/dog-breed-identification/test/e89d149b27db1f144ca122bb29b8ab9f.jpg',\n",
       " 'drive/MyDrive/dog-breed-identification/test/e8b49a4b2c22d3c5cb3c88c61654e991.jpg',\n",
       " 'drive/MyDrive/dog-breed-identification/test/e8d5c81029e17c81b06af60ec4113b30.jpg',\n",
       " 'drive/MyDrive/dog-breed-identification/test/e8eca3dc497d4bb15b0254bc9f56cdd7.jpg',\n",
       " 'drive/MyDrive/dog-breed-identification/test/e8f100fcc80e9c987999a1ace2d18bc3.jpg',\n",
       " 'drive/MyDrive/dog-breed-identification/test/e8e5d64a1789dd86009b07003bed090b.jpg',\n",
       " 'drive/MyDrive/dog-breed-identification/test/e90bd6aa38e304f67db74f757df9a834.jpg',\n",
       " 'drive/MyDrive/dog-breed-identification/test/e8f51d54d179b05ea4cc9c726cae9229.jpg',\n",
       " 'drive/MyDrive/dog-breed-identification/test/e90b4707267cec5bcd2dbe4cbb68a070.jpg',\n",
       " 'drive/MyDrive/dog-breed-identification/test/e8e6e731b4afb84faf9c022a67935867.jpg',\n",
       " 'drive/MyDrive/dog-breed-identification/test/e8fcfd7898f198f6efe756a6f93bc0fc.jpg',\n",
       " 'drive/MyDrive/dog-breed-identification/test/e8f67d8d36c49d7436aab680e798b685.jpg',\n",
       " 'drive/MyDrive/dog-breed-identification/test/e904aa7e76ba608b3f658aa3817e12b9.jpg',\n",
       " 'drive/MyDrive/dog-breed-identification/test/e8e68264f76c3398ecb6c67b9bb52833.jpg',\n",
       " 'drive/MyDrive/dog-breed-identification/test/e90c218d4efd434f20a7e73c81058a7c.jpg',\n",
       " 'drive/MyDrive/dog-breed-identification/test/e90d5b1d2617510402f3620721f7c526.jpg',\n",
       " 'drive/MyDrive/dog-breed-identification/test/e91094730afaa4ade3d3041d96d57f3a.jpg',\n",
       " 'drive/MyDrive/dog-breed-identification/test/e91c648dc54d6f418636ec7bc1566912.jpg',\n",
       " 'drive/MyDrive/dog-breed-identification/test/e917abf625ad6ba5b8a0e59bd23e8818.jpg',\n",
       " 'drive/MyDrive/dog-breed-identification/test/e91ffd67dd303f59029d041ff4fb65b8.jpg',\n",
       " 'drive/MyDrive/dog-breed-identification/test/e92455b9e6291d0f192f23ccd4e0be3a.jpg',\n",
       " 'drive/MyDrive/dog-breed-identification/test/e91b757847fad1809a9ffa8c15f5504f.jpg',\n",
       " 'drive/MyDrive/dog-breed-identification/test/e924a899e6de9df57c3a95873640f2bd.jpg',\n",
       " 'drive/MyDrive/dog-breed-identification/test/e959f03017afd7952e7635131387dd87.jpg',\n",
       " 'drive/MyDrive/dog-breed-identification/test/e96fd30110107e506de94d81af346238.jpg',\n",
       " 'drive/MyDrive/dog-breed-identification/test/e93e61b16ed9e22d35046ae7900b0647.jpg',\n",
       " 'drive/MyDrive/dog-breed-identification/test/e967dd3dc67352cc2525c8283bf2751d.jpg',\n",
       " 'drive/MyDrive/dog-breed-identification/test/e9615e7f30ffcf6d705ce9cbcb6d688c.jpg',\n",
       " 'drive/MyDrive/dog-breed-identification/test/e96f1f52395b7e742fb5d83e1ac023b7.jpg',\n",
       " 'drive/MyDrive/dog-breed-identification/test/e95640aaa10c9ad1c6e27a175c04511b.jpg',\n",
       " 'drive/MyDrive/dog-breed-identification/test/e9574ebd4785c1e1a1470dfc93f9271e.jpg',\n",
       " 'drive/MyDrive/dog-breed-identification/test/e93dde9e36ff6a41cd0e72fb01703be6.jpg',\n",
       " 'drive/MyDrive/dog-breed-identification/test/e92e6f99e804a6696cf0db266bbd7744.jpg',\n",
       " 'drive/MyDrive/dog-breed-identification/test/e94e14137d29b0db653e5903acac5fef.jpg',\n",
       " 'drive/MyDrive/dog-breed-identification/test/e97a63b529b7b274eeb605391366b576.jpg',\n",
       " 'drive/MyDrive/dog-breed-identification/test/e995cac3e30ce4e55d0f203c20cd0986.jpg',\n",
       " 'drive/MyDrive/dog-breed-identification/test/e995cbf5f2c4da27a1e56966c70de380.jpg',\n",
       " 'drive/MyDrive/dog-breed-identification/test/e9b105a5b7873f33477f777d5a9447f8.jpg',\n",
       " 'drive/MyDrive/dog-breed-identification/test/e9999f6b9a052810df4a5a762cb4cd1e.jpg',\n",
       " 'drive/MyDrive/dog-breed-identification/test/e9b16b4bdf5b0561fc7c69b2f36e1a7e.jpg',\n",
       " 'drive/MyDrive/dog-breed-identification/test/e974e77b0f9076d31a225812064b4ac9.jpg',\n",
       " 'drive/MyDrive/dog-breed-identification/test/e982fc6397c1f837100f28a8ed26d86e.jpg',\n",
       " 'drive/MyDrive/dog-breed-identification/test/e9a092de78948af4ab9ec3f8027a5d54.jpg',\n",
       " 'drive/MyDrive/dog-breed-identification/test/e9727fde8aa044a5a2c18b84170f5619.jpg',\n",
       " 'drive/MyDrive/dog-breed-identification/test/e97b5b2fd6542fa588cd4a5da2b6e052.jpg',\n",
       " 'drive/MyDrive/dog-breed-identification/test/e9bcd763afd5e192fc047267c0b3cacd.jpg',\n",
       " 'drive/MyDrive/dog-breed-identification/test/e9dd82ed2a7066d81d32a182ee18916c.jpg',\n",
       " 'drive/MyDrive/dog-breed-identification/test/e9f806911b69ca8fe705006ab7b49bdf.jpg',\n",
       " 'drive/MyDrive/dog-breed-identification/test/e9fda9f4a21d4249b9d4a77d06ad751a.jpg',\n",
       " 'drive/MyDrive/dog-breed-identification/test/e9d585ce5dc29b4e9aa6a7332ddfa983.jpg',\n",
       " 'drive/MyDrive/dog-breed-identification/test/e9fe358382731f9288768526be01c950.jpg',\n",
       " 'drive/MyDrive/dog-breed-identification/test/e9f25d81c8fa96020a77a1f3148d0d3c.jpg',\n",
       " 'drive/MyDrive/dog-breed-identification/test/e9d385cf5f217ce1378bee8c0a89db62.jpg',\n",
       " 'drive/MyDrive/dog-breed-identification/test/e9c38696d381e66971cc328e767fad27.jpg',\n",
       " 'drive/MyDrive/dog-breed-identification/test/e9bdf2bcc823964c7375397a7c06242e.jpg',\n",
       " 'drive/MyDrive/dog-breed-identification/test/e9cee3bd9000422ec5e391c932da60f8.jpg',\n",
       " 'drive/MyDrive/dog-breed-identification/test/e9ef6c9f1a1ad34c42b6595c18f164e2.jpg',\n",
       " 'drive/MyDrive/dog-breed-identification/test/e9d1478e035f22b0cf94be580d620f80.jpg',\n",
       " 'drive/MyDrive/dog-breed-identification/test/e9c961dc49fdf960fc46c8b54ae1996d.jpg',\n",
       " 'drive/MyDrive/dog-breed-identification/test/e9d0bcd1ca3f651f6693de92d63bce5c.jpg',\n",
       " 'drive/MyDrive/dog-breed-identification/test/ea1039f3869357b53abf4ace351218a6.jpg',\n",
       " 'drive/MyDrive/dog-breed-identification/test/ea1993074afd8a51c571bb0f733a754d.jpg',\n",
       " 'drive/MyDrive/dog-breed-identification/test/ea098e306986e45eb04ca43b3c7e1916.jpg',\n",
       " 'drive/MyDrive/dog-breed-identification/test/ea0a254533e645588e739dbdd0e3d3fa.jpg',\n",
       " 'drive/MyDrive/dog-breed-identification/test/ea057ca7f831d161d456091bf293e4b1.jpg',\n",
       " 'drive/MyDrive/dog-breed-identification/test/ea1f200df74cd6c6a458436eedabbc8d.jpg',\n",
       " 'drive/MyDrive/dog-breed-identification/test/ea02c2e76cd1c51e5a07280ca363dbc5.jpg',\n",
       " 'drive/MyDrive/dog-breed-identification/test/ea111bb38037c9922185a0e9513391d7.jpg',\n",
       " 'drive/MyDrive/dog-breed-identification/test/ea1e945b924638c2059d7718b522d48f.jpg',\n",
       " 'drive/MyDrive/dog-breed-identification/test/ea0a6a12e3f6f65e4f742b258a0ffe30.jpg',\n",
       " 'drive/MyDrive/dog-breed-identification/test/ea23e5341ec5fc3f798ae527a4659d81.jpg',\n",
       " 'drive/MyDrive/dog-breed-identification/test/ea369808f5d3c8fef21c674b80564e35.jpg',\n",
       " 'drive/MyDrive/dog-breed-identification/test/ea54171754dc00a910fd4ed0cb41e765.jpg',\n",
       " 'drive/MyDrive/dog-breed-identification/test/ea5ae600ca3996528b6548eceac767cf.jpg',\n",
       " 'drive/MyDrive/dog-breed-identification/test/ea6005562757cf5a7a37d70134d28870.jpg',\n",
       " 'drive/MyDrive/dog-breed-identification/test/ea6acca2c050c1f782cf020bb6aba4aa.jpg',\n",
       " 'drive/MyDrive/dog-breed-identification/test/ea5bd02a78f243c609cd227c4a09c6c4.jpg',\n",
       " 'drive/MyDrive/dog-breed-identification/test/ea5977763e3e8b39f8ea8c28565d32e3.jpg',\n",
       " 'drive/MyDrive/dog-breed-identification/test/ea5a2c10729ab1ffec74c0aabce02b52.jpg',\n",
       " 'drive/MyDrive/dog-breed-identification/test/ea3dd88512f22e94969a517e8e8ea10e.jpg',\n",
       " 'drive/MyDrive/dog-breed-identification/test/ea4a775ecbf81b2cd2967cc34ce4e52b.jpg',\n",
       " 'drive/MyDrive/dog-breed-identification/test/ea280d6cb873df2eb683f0a5f13e3dce.jpg',\n",
       " 'drive/MyDrive/dog-breed-identification/test/ea5a0fb0d92c07b2e14da4dcd0d48c45.jpg',\n",
       " 'drive/MyDrive/dog-breed-identification/test/ea3e496d0dd2b7c24ae8c9a0fea57060.jpg',\n",
       " 'drive/MyDrive/dog-breed-identification/test/ea8fab5f4003724ac49ea787216998b1.jpg',\n",
       " 'drive/MyDrive/dog-breed-identification/test/ea8669c09612478bfa202ae2fa101b13.jpg',\n",
       " 'drive/MyDrive/dog-breed-identification/test/eac53a0ba2df1689f98f8e7f8ebb90c2.jpg',\n",
       " 'drive/MyDrive/dog-breed-identification/test/eaacea894e9bdda125ae215081a0d9fc.jpg',\n",
       " 'drive/MyDrive/dog-breed-identification/test/eabbab9c853d5b0893e45ec8fd3f97d0.jpg',\n",
       " 'drive/MyDrive/dog-breed-identification/test/ea6d2d4271393459e70d77e1026737b5.jpg',\n",
       " 'drive/MyDrive/dog-breed-identification/test/eab6e34cbefdae434e1b436a318460d1.jpg',\n",
       " 'drive/MyDrive/dog-breed-identification/test/eaba5de4287936fcab47f236d58d3f14.jpg',\n",
       " 'drive/MyDrive/dog-breed-identification/test/eab189c5274b79b36dd566fea4e9847e.jpg',\n",
       " 'drive/MyDrive/dog-breed-identification/test/eaa65260eb9a2f7d3b5484ac97962788.jpg',\n",
       " 'drive/MyDrive/dog-breed-identification/test/eac3503b463e275d9f3053b8fcd5a58a.jpg',\n",
       " 'drive/MyDrive/dog-breed-identification/test/eaa28b3163bb05afd07117ec4c6bb059.jpg',\n",
       " 'drive/MyDrive/dog-breed-identification/test/eaf1a540a86c69877695a63ff9421be5.jpg',\n",
       " 'drive/MyDrive/dog-breed-identification/test/eadffa2af96b121d7e61dcd91ab11a39.jpg',\n",
       " 'drive/MyDrive/dog-breed-identification/test/ead86e148dabfcc4ef7f4dcdce9fcf57.jpg',\n",
       " 'drive/MyDrive/dog-breed-identification/test/ead8c0e74fb7ddcf05a6395ee06fa9aa.jpg',\n",
       " 'drive/MyDrive/dog-breed-identification/test/eb0376e08d0575939eb1018313fab05b.jpg',\n",
       " 'drive/MyDrive/dog-breed-identification/test/eb06356375888d41903fff14ef7c4104.jpg',\n",
       " 'drive/MyDrive/dog-breed-identification/test/eb278b7573e08beb43823a006a7ba690.jpg',\n",
       " 'drive/MyDrive/dog-breed-identification/test/eb448b29df9391fb8b84c88c3a3313e6.jpg',\n",
       " 'drive/MyDrive/dog-breed-identification/test/eb3849def6fa245bcaae9ab9c64f024f.jpg',\n",
       " 'drive/MyDrive/dog-breed-identification/test/eb2f2ad0f785a7c85f8c62969be71e2a.jpg',\n",
       " 'drive/MyDrive/dog-breed-identification/test/eb0f81618a71ccf82982d70879464d89.jpg',\n",
       " 'drive/MyDrive/dog-breed-identification/test/eb2e408930e0873deb85484ef46f07fd.jpg',\n",
       " 'drive/MyDrive/dog-breed-identification/test/eb44625ed1113825fe1f23e50222cca1.jpg',\n",
       " 'drive/MyDrive/dog-breed-identification/test/eb407d16321c8cb62abd16c70756a28a.jpg',\n",
       " 'drive/MyDrive/dog-breed-identification/test/eb8d19898e69b355679f98fe068cb06a.jpg',\n",
       " 'drive/MyDrive/dog-breed-identification/test/eb8e9637c329ca7ad7937be0ec94e80d.jpg',\n",
       " 'drive/MyDrive/dog-breed-identification/test/eb8473f9fc102c45e0c0abd07de20a2a.jpg',\n",
       " 'drive/MyDrive/dog-breed-identification/test/eb7d51eeeab24f94b54a4f8b19f6cdc5.jpg',\n",
       " 'drive/MyDrive/dog-breed-identification/test/eb9aebedf9ed7d768a5afb36cd0e2436.jpg',\n",
       " 'drive/MyDrive/dog-breed-identification/test/eb48e06416db42a71d5c232191fec3a0.jpg',\n",
       " 'drive/MyDrive/dog-breed-identification/test/eb61a828e939eb633c1811f283d15647.jpg',\n",
       " 'drive/MyDrive/dog-breed-identification/test/eb93d2e66035f0e6d51cca097c4a770e.jpg',\n",
       " 'drive/MyDrive/dog-breed-identification/test/eb7a787cace9fda676485652daaaf43e.jpg',\n",
       " 'drive/MyDrive/dog-breed-identification/test/eb641b6721c3d967b8e92313c943eba9.jpg',\n",
       " 'drive/MyDrive/dog-breed-identification/test/ebe4a8b8507fa28905cb7e70b90b9170.jpg',\n",
       " 'drive/MyDrive/dog-breed-identification/test/eb9f2db3d5204c85c26daeb7669b20a3.jpg',\n",
       " 'drive/MyDrive/dog-breed-identification/test/ebf3e1d5583ceff0a51a8c6a750b367b.jpg',\n",
       " 'drive/MyDrive/dog-breed-identification/test/ec036cf752a803815c0e8ecc6601b0e3.jpg',\n",
       " 'drive/MyDrive/dog-breed-identification/test/ebd77a2851ff497cbabda3639a82857c.jpg',\n",
       " 'drive/MyDrive/dog-breed-identification/test/ec24efc47314fd121b67155b56eabccf.jpg',\n",
       " 'drive/MyDrive/dog-breed-identification/test/ebf7096a543da53b1e4759753aedad26.jpg',\n",
       " 'drive/MyDrive/dog-breed-identification/test/ec0ed65df0e457182b62ee172783c574.jpg',\n",
       " 'drive/MyDrive/dog-breed-identification/test/ebe58f64e95c071d30eaceb907b7375c.jpg',\n",
       " 'drive/MyDrive/dog-breed-identification/test/ec0a814cc971dbe6e618a9a37ba355f8.jpg',\n",
       " 'drive/MyDrive/dog-breed-identification/test/ec0efefd564e6632ca11b424b6dcd2d4.jpg',\n",
       " 'drive/MyDrive/dog-breed-identification/test/eb9d126d7a3adc19f25e4c9ba79aa6ce.jpg',\n",
       " 'drive/MyDrive/dog-breed-identification/test/ebaafedb1a8a61e8d3f9eaa271b27629.jpg',\n",
       " 'drive/MyDrive/dog-breed-identification/test/eb9e89f5c0f1717f290360fec6f2a160.jpg',\n",
       " 'drive/MyDrive/dog-breed-identification/test/ebbbbe14c3e968a8f73490d024472768.jpg',\n",
       " 'drive/MyDrive/dog-breed-identification/test/ec28370f936f20133526ee5bdb894c9c.jpg',\n",
       " 'drive/MyDrive/dog-breed-identification/test/ec2a07ae6eaa64dac4154584ef229937.jpg',\n",
       " 'drive/MyDrive/dog-breed-identification/test/ec429df7ceab9763e4e790b569997346.jpg',\n",
       " 'drive/MyDrive/dog-breed-identification/test/ec25ce11616bda2e8b7669c415128768.jpg',\n",
       " 'drive/MyDrive/dog-breed-identification/test/ec363521d5ebd5260944823f86dc5a8c.jpg',\n",
       " 'drive/MyDrive/dog-breed-identification/test/ec390da7ac7297a2477e3b838e7c502d.jpg',\n",
       " 'drive/MyDrive/dog-breed-identification/test/ec5329231ea816ef212b367bdd17d06c.jpg',\n",
       " 'drive/MyDrive/dog-breed-identification/test/ec7eab1c7a2275c89f2d3eca6e4afea2.jpg',\n",
       " 'drive/MyDrive/dog-breed-identification/test/ec6b4aee97cf7eeb6cb26540af933db2.jpg',\n",
       " 'drive/MyDrive/dog-breed-identification/test/ec59bee2b29342acd414a5a1e72b38e0.jpg',\n",
       " 'drive/MyDrive/dog-breed-identification/test/ec4536edae000402b075a55d062eca21.jpg',\n",
       " 'drive/MyDrive/dog-breed-identification/test/ec43ece68ea32270d307242d220bea17.jpg',\n",
       " 'drive/MyDrive/dog-breed-identification/test/ec89476b99aab390011acee436f9642a.jpg',\n",
       " 'drive/MyDrive/dog-breed-identification/test/ec63d4730c5cf4b75227e103fea054c3.jpg',\n",
       " 'drive/MyDrive/dog-breed-identification/test/ec6734fb75cab5100481b7b6e711d936.jpg',\n",
       " 'drive/MyDrive/dog-breed-identification/test/ec8bf9fd1bae9c6cc54b996425538a5c.jpg',\n",
       " 'drive/MyDrive/dog-breed-identification/test/ec81d166f296c1809d8be99cdabb5904.jpg',\n",
       " 'drive/MyDrive/dog-breed-identification/test/ec5dffe4232cc203b4332d18952d415d.jpg',\n",
       " 'drive/MyDrive/dog-breed-identification/test/ec907a287a8aff0cc9d2eab8045d75aa.jpg',\n",
       " 'drive/MyDrive/dog-breed-identification/test/ecca3983aa3cf5699ce3aa29c7899df8.jpg',\n",
       " 'drive/MyDrive/dog-breed-identification/test/eceb457b878bc73e565b0efa002d5563.jpg',\n",
       " 'drive/MyDrive/dog-breed-identification/test/ecab96d4268569065f73b4bb5ddffa59.jpg',\n",
       " 'drive/MyDrive/dog-breed-identification/test/ecf3d6520cec171b81830fb38fce1570.jpg',\n",
       " 'drive/MyDrive/dog-breed-identification/test/ecab3cabdfabe8663ab388e891afdbed.jpg',\n",
       " 'drive/MyDrive/dog-breed-identification/test/ece4530999e8c3ec85d2a86d33f07e37.jpg',\n",
       " 'drive/MyDrive/dog-breed-identification/test/ecc4566304626790004cd2c3626218b6.jpg',\n",
       " 'drive/MyDrive/dog-breed-identification/test/ed0690862339bb098b08da7ed8b4eac2.jpg',\n",
       " 'drive/MyDrive/dog-breed-identification/test/eca94e609a77c2ed87b79c3c08a11a62.jpg',\n",
       " 'drive/MyDrive/dog-breed-identification/test/ed0b66d283d948128c45ce57478ba048.jpg',\n",
       " 'drive/MyDrive/dog-breed-identification/test/ecb31808b1717c297072d6f5b8760c2f.jpg',\n",
       " 'drive/MyDrive/dog-breed-identification/test/ecba66c5313a2a5fd4017a039a9501b6.jpg',\n",
       " 'drive/MyDrive/dog-breed-identification/test/ecb6362d105c0cb84d8e69cfd9b8d0b5.jpg',\n",
       " 'drive/MyDrive/dog-breed-identification/test/ecd186a42dd0ec3f78aa3d4fa56b8ea0.jpg',\n",
       " 'drive/MyDrive/dog-breed-identification/test/ed0c3f827519441d3d542944978aedad.jpg',\n",
       " 'drive/MyDrive/dog-breed-identification/test/ec9a95ba1bab38eeff6b6aa40d5f4edf.jpg',\n",
       " 'drive/MyDrive/dog-breed-identification/test/ed1d8dfbebbb70b252cd71e165ea3d76.jpg',\n",
       " 'drive/MyDrive/dog-breed-identification/test/ed3d8126013933f566dc4113efe7c0bc.jpg',\n",
       " 'drive/MyDrive/dog-breed-identification/test/ed48b89faa9069c700db2448696a97af.jpg',\n",
       " 'drive/MyDrive/dog-breed-identification/test/ed306448d7f19d3e5cfd7b446898cd44.jpg',\n",
       " 'drive/MyDrive/dog-breed-identification/test/ed3c3d91c25ad370e44704caa4bc1c63.jpg',\n",
       " 'drive/MyDrive/dog-breed-identification/test/ed4c608e160f24d9cca8f560b046daa2.jpg',\n",
       " 'drive/MyDrive/dog-breed-identification/test/ed2a749830d4ed6544ec3bc2efb9a58a.jpg',\n",
       " 'drive/MyDrive/dog-breed-identification/test/ed3f78bd3eb6751819212fa111857e51.jpg',\n",
       " 'drive/MyDrive/dog-breed-identification/test/ed3b2e79859710376b7a91379234b1ec.jpg',\n",
       " 'drive/MyDrive/dog-breed-identification/test/ed3ff512284e226da7ce2853a0faeed7.jpg',\n",
       " 'drive/MyDrive/dog-breed-identification/test/ed0ec7befaa38726a118ab7e4d53b332.jpg',\n",
       " 'drive/MyDrive/dog-breed-identification/test/ed1f9841f56f9e0122782f734919f521.jpg',\n",
       " 'drive/MyDrive/dog-breed-identification/test/ed280557d6013c45e5bf89492fe44c1a.jpg',\n",
       " 'drive/MyDrive/dog-breed-identification/test/ed4535d3e501ff280dfefb927b0e093a.jpg',\n",
       " 'drive/MyDrive/dog-breed-identification/test/ed8e5c431d6539db02614ddc1f35ce10.jpg',\n",
       " 'drive/MyDrive/dog-breed-identification/test/ed77c2de9938730ef8e9d11c718dda38.jpg',\n",
       " 'drive/MyDrive/dog-breed-identification/test/ed7c3126f50898ce02c08a380c1d0bbc.jpg',\n",
       " 'drive/MyDrive/dog-breed-identification/test/ed9bab128c26470e18631cb6f3454c99.jpg',\n",
       " 'drive/MyDrive/dog-breed-identification/test/ed58df400a22e4a4857fb00802d4b8c9.jpg',\n",
       " 'drive/MyDrive/dog-breed-identification/test/ed67035dba2de274aa95556038113c40.jpg',\n",
       " 'drive/MyDrive/dog-breed-identification/test/ed6d16749ad7dbed282857c6c0cb0b64.jpg',\n",
       " 'drive/MyDrive/dog-breed-identification/test/ed9a58ccecb053df2a38486a51501248.jpg',\n",
       " 'drive/MyDrive/dog-breed-identification/test/ed67681e7935d75f9ce011dbf8474fe4.jpg',\n",
       " 'drive/MyDrive/dog-breed-identification/test/ed574861296d0946948a4225e60e8d75.jpg',\n",
       " 'drive/MyDrive/dog-breed-identification/test/ed63374c99282b3081705ed84a2b93bc.jpg',\n",
       " 'drive/MyDrive/dog-breed-identification/test/ed61910363f37890c8cc47b25836f82e.jpg',\n",
       " 'drive/MyDrive/dog-breed-identification/test/ed675fae47e3a3698277131065548e2f.jpg',\n",
       " 'drive/MyDrive/dog-breed-identification/test/ed71e43cf7e5e8449879b5f0d38f3bd0.jpg',\n",
       " 'drive/MyDrive/dog-breed-identification/test/ed9e75a553dbb4712addc1638693dc03.jpg',\n",
       " 'drive/MyDrive/dog-breed-identification/test/eda4465ceee576ac15e9bba9566c9121.jpg',\n",
       " 'drive/MyDrive/dog-breed-identification/test/edd7c1e04601546fc101901d764dc4b4.jpg',\n",
       " 'drive/MyDrive/dog-breed-identification/test/edd77b60eb22df1021e726b87c270064.jpg',\n",
       " 'drive/MyDrive/dog-breed-identification/test/eddf1be0c12c7f3a5029a7787e89476f.jpg',\n",
       " 'drive/MyDrive/dog-breed-identification/test/edcbb82f5b90a8010fed3fa25b632fc3.jpg',\n",
       " 'drive/MyDrive/dog-breed-identification/test/ede0dddd46a46f8f6467b7fbd1b4958a.jpg',\n",
       " 'drive/MyDrive/dog-breed-identification/test/edca6e9a7f6f35f9b0313d8aaaf844be.jpg',\n",
       " 'drive/MyDrive/dog-breed-identification/test/eda4e3377eb5ad8a73026c08c76a613d.jpg',\n",
       " 'drive/MyDrive/dog-breed-identification/test/eda1edd004eb4311a73cf7cd0bfa31dc.jpg',\n",
       " 'drive/MyDrive/dog-breed-identification/test/ede33cc93aa6dd4f7bc7fb2436026d08.jpg',\n",
       " 'drive/MyDrive/dog-breed-identification/test/edbff7f90e9b8f5dd4cf25ce67fa2efa.jpg',\n",
       " 'drive/MyDrive/dog-breed-identification/test/edd5c8d96746d4af7eed0550eafd4b90.jpg',\n",
       " 'drive/MyDrive/dog-breed-identification/test/edcd762a5eec11ae0a1e471d576e8be5.jpg',\n",
       " 'drive/MyDrive/dog-breed-identification/test/edb8b962718cd953921e6449788c6939.jpg',\n",
       " 'drive/MyDrive/dog-breed-identification/test/ee3b0ea1f7649dbc3a5724ebccdff863.jpg',\n",
       " 'drive/MyDrive/dog-breed-identification/test/ede76874678b483c87bfe1db25f78f9b.jpg',\n",
       " 'drive/MyDrive/dog-breed-identification/test/ee457ce7dc7f426aa7704b9864960528.jpg',\n",
       " 'drive/MyDrive/dog-breed-identification/test/ee345e7f5ac2d3cf979a17183437faa7.jpg',\n",
       " 'drive/MyDrive/dog-breed-identification/test/ee45e29f0dfdc67fdb2939df8bf10b76.jpg',\n",
       " 'drive/MyDrive/dog-breed-identification/test/ee0582b96b135f5e036e011d53baa087.jpg',\n",
       " 'drive/MyDrive/dog-breed-identification/test/ee76bbe553722f075e334dc29f3173a9.jpg',\n",
       " 'drive/MyDrive/dog-breed-identification/test/edf9eccee2542eb4fdc5757da38f0b46.jpg',\n",
       " 'drive/MyDrive/dog-breed-identification/test/ee18a2bf52ba6ae53327c951c94d598e.jpg',\n",
       " 'drive/MyDrive/dog-breed-identification/test/ee588777db43361c045c5dd7a779ed0f.jpg',\n",
       " 'drive/MyDrive/dog-breed-identification/test/ee59d7c0fdd2344e9d6d815f1099ffb1.jpg',\n",
       " 'drive/MyDrive/dog-breed-identification/test/ee4c8303084840f4fa8ef6cc434dca91.jpg',\n",
       " 'drive/MyDrive/dog-breed-identification/test/ee0bd39d8d6a0f57d626dbe1e4c52ebb.jpg',\n",
       " 'drive/MyDrive/dog-breed-identification/test/ee5345121b497708b4f9510fec148f65.jpg',\n",
       " 'drive/MyDrive/dog-breed-identification/test/edf164f8974510c5936ee7224f3d7d56.jpg',\n",
       " 'drive/MyDrive/dog-breed-identification/test/ee6dad89684bbbab844ecedf70f4be2d.jpg',\n",
       " 'drive/MyDrive/dog-breed-identification/test/ee0f518cd7eb01b2b774f3d2329e58f9.jpg',\n",
       " 'drive/MyDrive/dog-breed-identification/test/eedc3590c9569109aeb179ae3dc90300.jpg',\n",
       " 'drive/MyDrive/dog-breed-identification/test/eefac34d2a315aba5b14665c9b498b1d.jpg',\n",
       " 'drive/MyDrive/dog-breed-identification/test/ee83a788c6e24159a62e756a34dd4045.jpg',\n",
       " 'drive/MyDrive/dog-breed-identification/test/eeb73a13b70170c416aab67eac15fdfb.jpg',\n",
       " 'drive/MyDrive/dog-breed-identification/test/eef97d020c12ab1f73a2927b8271bb41.jpg',\n",
       " 'drive/MyDrive/dog-breed-identification/test/eee6679003d570e8370d1fcca75984c9.jpg',\n",
       " 'drive/MyDrive/dog-breed-identification/test/eef2fd5db98424ae214e176a910e9e3b.jpg',\n",
       " 'drive/MyDrive/dog-breed-identification/test/eebf49093e7b0c603ee4c8d67d061352.jpg',\n",
       " 'drive/MyDrive/dog-breed-identification/test/eee7c863af47e22f285f8aeb80adb4b9.jpg',\n",
       " 'drive/MyDrive/dog-breed-identification/test/ee878152e29a6b6ce288b44b358f9d05.jpg',\n",
       " 'drive/MyDrive/dog-breed-identification/test/eec95c3af45f0072116b7b310fd53699.jpg',\n",
       " 'drive/MyDrive/dog-breed-identification/test/ee7bdce4ac4008b3551ca66f82712e31.jpg',\n",
       " 'drive/MyDrive/dog-breed-identification/test/eeb2c4ba7170968ce151916667c450a3.jpg',\n",
       " 'drive/MyDrive/dog-breed-identification/test/eea702cbf858b2444129d0ba9eebd6ef.jpg',\n",
       " 'drive/MyDrive/dog-breed-identification/test/eeb72cc64e4b26bf721196dfcb324e82.jpg',\n",
       " 'drive/MyDrive/dog-breed-identification/test/eec15026b5af233fa79dfb6081e1f339.jpg',\n",
       " 'drive/MyDrive/dog-breed-identification/test/ef3c75900183816388295cd9cb3a1a31.jpg',\n",
       " 'drive/MyDrive/dog-breed-identification/test/ef0209bcfab48f72f71c9d1b8648aa45.jpg',\n",
       " 'drive/MyDrive/dog-breed-identification/test/ef119ef06b97f22d32dbd5cfc08bf60c.jpg',\n",
       " 'drive/MyDrive/dog-breed-identification/test/ef0ec3c95160918de7bd290897ea9f65.jpg',\n",
       " 'drive/MyDrive/dog-breed-identification/test/ef3cceaaed2906916a76290fe0bd2b32.jpg',\n",
       " 'drive/MyDrive/dog-breed-identification/test/ef4c9b0875ec51068b2720a01fa36b65.jpg',\n",
       " 'drive/MyDrive/dog-breed-identification/test/ef395765458ead37cdb9513cf76b9baa.jpg',\n",
       " 'drive/MyDrive/dog-breed-identification/test/ef154d61fb8fd0852877c86dbfc5afc6.jpg',\n",
       " 'drive/MyDrive/dog-breed-identification/test/eeffe08e577ad8dda81bbfe12bf8faea.jpg',\n",
       " 'drive/MyDrive/dog-breed-identification/test/ef413ae9b0de80605bc95de2d12a4082.jpg',\n",
       " 'drive/MyDrive/dog-breed-identification/test/ef1710d5cb79a5e0b46f7b9a101a25b4.jpg',\n",
       " 'drive/MyDrive/dog-breed-identification/test/ef4501591ee2433e06ff5312df879593.jpg',\n",
       " 'drive/MyDrive/dog-breed-identification/test/ef510b25dc13743d566b719b41b35e92.jpg',\n",
       " 'drive/MyDrive/dog-breed-identification/test/ef4b59cdb6485917a71f2c40df9c8d47.jpg',\n",
       " 'drive/MyDrive/dog-breed-identification/test/ef7462aaef0907fbe406e23a4462f086.jpg',\n",
       " 'drive/MyDrive/dog-breed-identification/test/ef58b740df67a98d390f5bf8513bcea5.jpg',\n",
       " 'drive/MyDrive/dog-breed-identification/test/ef8f1d898040c1fe2972ebe945184056.jpg',\n",
       " 'drive/MyDrive/dog-breed-identification/test/efaa7438a6c3bdf92f90539a1fff55fe.jpg',\n",
       " 'drive/MyDrive/dog-breed-identification/test/ef9432cc6dc7ab7ba38d18abffe6d1a0.jpg',\n",
       " 'drive/MyDrive/dog-breed-identification/test/ef69016a79094a8bd47f42ccc14ba63a.jpg',\n",
       " 'drive/MyDrive/dog-breed-identification/test/ef8604e60473eb234c5725219f338df8.jpg',\n",
       " 'drive/MyDrive/dog-breed-identification/test/ef9de7d5f286c09daf1807e2ae67c98d.jpg',\n",
       " 'drive/MyDrive/dog-breed-identification/test/ef59760870674327ca5d004bae427422.jpg',\n",
       " 'drive/MyDrive/dog-breed-identification/test/ef5c93599bcc330fd9642266d9650309.jpg',\n",
       " 'drive/MyDrive/dog-breed-identification/test/ef627a04965eda29fc3761b1f663aef1.jpg',\n",
       " 'drive/MyDrive/dog-breed-identification/test/ef5f1eb55d91360df896824ac4cc979b.jpg',\n",
       " 'drive/MyDrive/dog-breed-identification/test/efac70ee513c40265966b89d715f183e.jpg',\n",
       " 'drive/MyDrive/dog-breed-identification/test/efa05bbbd2e169dc723df1a43ff0e1bb.jpg',\n",
       " 'drive/MyDrive/dog-breed-identification/test/efe3a7327992dafcaf30dc3bfae29473.jpg',\n",
       " 'drive/MyDrive/dog-breed-identification/test/f00d734eff06f3a77fcc629402a95597.jpg',\n",
       " 'drive/MyDrive/dog-breed-identification/test/f00367f07cfcbb8152c9ed908d7c273f.jpg',\n",
       " 'drive/MyDrive/dog-breed-identification/test/f00b35c8f1a052d4989f17134532efb4.jpg',\n",
       " 'drive/MyDrive/dog-breed-identification/test/f0154b8ea1efd5dfb70e43fada42e56d.jpg',\n",
       " 'drive/MyDrive/dog-breed-identification/test/efc4b489fc15ff97a50536c71029a8b1.jpg',\n",
       " 'drive/MyDrive/dog-breed-identification/test/f0138bdbeba02c23bef5eebd81fcf3ec.jpg',\n",
       " 'drive/MyDrive/dog-breed-identification/test/efb73fb00c85027773f3bef3dfc6c06b.jpg',\n",
       " 'drive/MyDrive/dog-breed-identification/test/efb4e5dc776a639a140b022cf0835eb5.jpg',\n",
       " 'drive/MyDrive/dog-breed-identification/test/f00272c001d09c7c306bb224da47f17a.jpg',\n",
       " 'drive/MyDrive/dog-breed-identification/test/efdf443fb4a6ad5964c18d6676f36652.jpg',\n",
       " 'drive/MyDrive/dog-breed-identification/test/efd7f925e6ce41da800844e6aae03226.jpg',\n",
       " 'drive/MyDrive/dog-breed-identification/test/efd7266343c00fd2cb3cf5aec4aa0b42.jpg',\n",
       " 'drive/MyDrive/dog-breed-identification/test/effcbcfa58ba87eac8439b7106d8623c.jpg',\n",
       " 'drive/MyDrive/dog-breed-identification/test/efcb9740d2350a5aba4344ae5994eb37.jpg',\n",
       " 'drive/MyDrive/dog-breed-identification/test/efdd2006f173de50417a1a9ee170194b.jpg',\n",
       " 'drive/MyDrive/dog-breed-identification/test/f02444318adc0c1c2360c3bf3bff5709.jpg',\n",
       " 'drive/MyDrive/dog-breed-identification/test/f054f5578e5c9d3f6759b357df3c5f16.jpg',\n",
       " 'drive/MyDrive/dog-breed-identification/test/f080ee2429dccf56d2693fb8d3235010.jpg',\n",
       " 'drive/MyDrive/dog-breed-identification/test/f0933ef7831649c79490ebb34de07a01.jpg',\n",
       " 'drive/MyDrive/dog-breed-identification/test/f082ee9b91ad597fdf11cc08771bbb50.jpg',\n",
       " 'drive/MyDrive/dog-breed-identification/test/f05795a39e9c06d0aa6ad345302a393d.jpg',\n",
       " 'drive/MyDrive/dog-breed-identification/test/f0311d1414f9ce10cffda4c207c108dc.jpg',\n",
       " 'drive/MyDrive/dog-breed-identification/test/f01df7641b237cd177d71fdb8db9bd58.jpg',\n",
       " 'drive/MyDrive/dog-breed-identification/test/f050fe5feb0a81de5da10a5e806e739a.jpg',\n",
       " 'drive/MyDrive/dog-breed-identification/test/f01832dc0e1d00e4e5a9286bd88dede2.jpg',\n",
       " 'drive/MyDrive/dog-breed-identification/test/f062edd0025c4ecad1a34125ee6a761a.jpg',\n",
       " 'drive/MyDrive/dog-breed-identification/test/f04afba75c6b505c74c9958aa8aabffa.jpg',\n",
       " 'drive/MyDrive/dog-breed-identification/test/f07d1123c4259713a46991de0b02ffd0.jpg',\n",
       " 'drive/MyDrive/dog-breed-identification/test/f05275e168cf813f7dadd9d1dddfab8a.jpg',\n",
       " 'drive/MyDrive/dog-breed-identification/test/f02b0bb575f8dd86c63ab38df20483ba.jpg',\n",
       " 'drive/MyDrive/dog-breed-identification/test/f0341ba6b21465ece32d7df0ebff3048.jpg',\n",
       " 'drive/MyDrive/dog-breed-identification/test/f09826fc9cb9aa425caae5f8aaaa8bef.jpg',\n",
       " 'drive/MyDrive/dog-breed-identification/test/f0ba9c34158585ceb08138011d40e29a.jpg',\n",
       " 'drive/MyDrive/dog-breed-identification/test/f0ee665e8ec8ee4b7b26984bebfdf356.jpg',\n",
       " 'drive/MyDrive/dog-breed-identification/test/f10241d199251db359961e814733efc5.jpg',\n",
       " 'drive/MyDrive/dog-breed-identification/test/f0ceb5eb780eba366f9a077486fe003d.jpg',\n",
       " 'drive/MyDrive/dog-breed-identification/test/f10c58048410333d9c4156046b0ea54f.jpg',\n",
       " 'drive/MyDrive/dog-breed-identification/test/f0b37b4b6d1452125b4cb91f08008298.jpg',\n",
       " 'drive/MyDrive/dog-breed-identification/test/f0f205d037fe626670165aca00fc8b81.jpg',\n",
       " 'drive/MyDrive/dog-breed-identification/test/f0e6e1a934316bb94a6a1eeba894e32e.jpg',\n",
       " 'drive/MyDrive/dog-breed-identification/test/f0ee3d22666302ec27338aa29f34c72f.jpg',\n",
       " 'drive/MyDrive/dog-breed-identification/test/f0d2e080797f5e1f54bfa26bda41887b.jpg',\n",
       " 'drive/MyDrive/dog-breed-identification/test/f1040b51b35ad34a0d35068af4e9cc2f.jpg',\n",
       " 'drive/MyDrive/dog-breed-identification/test/f0fc06a2b2123325e34a2450d3202853.jpg',\n",
       " 'drive/MyDrive/dog-breed-identification/test/f0b2e9d1bf7deeb89dd199177f2fda90.jpg',\n",
       " 'drive/MyDrive/dog-breed-identification/test/f0eb0e073867e9a31cc5222c225ad142.jpg',\n",
       " 'drive/MyDrive/dog-breed-identification/test/f09c01de47c096fe62cd1398798c1369.jpg',\n",
       " 'drive/MyDrive/dog-breed-identification/test/f14c06e952a3d1d4e6a5b1c9e1384926.jpg',\n",
       " 'drive/MyDrive/dog-breed-identification/test/f11d3e75389720c45f2c0001c131ba21.jpg',\n",
       " 'drive/MyDrive/dog-breed-identification/test/f14fea2fe647a06dce75eb19dbf1273f.jpg',\n",
       " 'drive/MyDrive/dog-breed-identification/test/f11b9fe2304f6cba807ccd0bb1562377.jpg',\n",
       " 'drive/MyDrive/dog-breed-identification/test/f12b509213db8bb0a721fcd228b31f0e.jpg',\n",
       " 'drive/MyDrive/dog-breed-identification/test/f1230a99088c9bc88bc2989affee43d2.jpg',\n",
       " 'drive/MyDrive/dog-breed-identification/test/f130fade46d3423c601a7b9a16a0333c.jpg',\n",
       " 'drive/MyDrive/dog-breed-identification/test/f11821f2a5777c36a4081588fb96798f.jpg',\n",
       " 'drive/MyDrive/dog-breed-identification/test/f15527e7a063275291e469b4e5db751c.jpg',\n",
       " 'drive/MyDrive/dog-breed-identification/test/f13011a399f175d88c17d2bd1785625e.jpg',\n",
       " 'drive/MyDrive/dog-breed-identification/test/f13508048aa548af116601fa59bd4c62.jpg',\n",
       " 'drive/MyDrive/dog-breed-identification/test/f14ba73b3323b3c7cfc3ba359a6c4313.jpg',\n",
       " 'drive/MyDrive/dog-breed-identification/test/f14547a7bed40d4170bc70eafd1eb5e7.jpg',\n",
       " 'drive/MyDrive/dog-breed-identification/test/f14672c3ea8086560de6b7e79f9b90d1.jpg',\n",
       " 'drive/MyDrive/dog-breed-identification/test/f11d26a12282ee91bfe37f22d7acd483.jpg',\n",
       " 'drive/MyDrive/dog-breed-identification/test/f1478f740513a7406d715c9d7ead6053.jpg',\n",
       " 'drive/MyDrive/dog-breed-identification/test/f1167eabf53759dad015f0abb813a451.jpg',\n",
       " 'drive/MyDrive/dog-breed-identification/test/f16f47570b2ef2c21c54eb1478518e8f.jpg',\n",
       " 'drive/MyDrive/dog-breed-identification/test/f160bdea1b59883658f94eb8a70ac406.jpg',\n",
       " 'drive/MyDrive/dog-breed-identification/test/f18975efa3a5f8f75f46dd0b5485cbee.jpg',\n",
       " 'drive/MyDrive/dog-breed-identification/test/f15aa6a53c9de861f8de243d6b437b90.jpg',\n",
       " 'drive/MyDrive/dog-breed-identification/test/f169ebcd375a7b6ecd252f27e3dba0a2.jpg',\n",
       " 'drive/MyDrive/dog-breed-identification/test/f16ce30657f7dec9cf08597bbce2ffdb.jpg',\n",
       " 'drive/MyDrive/dog-breed-identification/test/f157256196b2c6e28a739d2947e956e5.jpg',\n",
       " 'drive/MyDrive/dog-breed-identification/test/f18141846c17b423f3f1df37ef294138.jpg',\n",
       " 'drive/MyDrive/dog-breed-identification/test/f157fa27083c96da528c2b3c224f83b9.jpg',\n",
       " 'drive/MyDrive/dog-breed-identification/test/f1705303b30da3a48db2a5f34376b947.jpg',\n",
       " 'drive/MyDrive/dog-breed-identification/test/f16cb4716034cecf3edd7260109fdf17.jpg',\n",
       " 'drive/MyDrive/dog-breed-identification/test/f16a73d54d86c0020bf1d63a29eb024b.jpg',\n",
       " 'drive/MyDrive/dog-breed-identification/test/f18e43d6627bf395c2e3aae518067004.jpg',\n",
       " 'drive/MyDrive/dog-breed-identification/test/f16fd3afeb123e25cfe3e712faee8aa5.jpg',\n",
       " 'drive/MyDrive/dog-breed-identification/test/f16eed64196d24c423f0a68d7ebf287d.jpg',\n",
       " 'drive/MyDrive/dog-breed-identification/test/f155d5fe889d139892c1d7d46804f419.jpg',\n",
       " 'drive/MyDrive/dog-breed-identification/test/f1ba2c4a69ed34fea976f8fc6b77f45b.jpg',\n",
       " 'drive/MyDrive/dog-breed-identification/test/f1c1f35ca91cd9d007f957da29aa087e.jpg',\n",
       " 'drive/MyDrive/dog-breed-identification/test/f1979a55bddde4fda0282da796460f80.jpg',\n",
       " 'drive/MyDrive/dog-breed-identification/test/f1af835a9146d6ec0da8059b3a55c030.jpg',\n",
       " 'drive/MyDrive/dog-breed-identification/test/f1be08dee473f19c7e665b2eef018ff5.jpg',\n",
       " 'drive/MyDrive/dog-breed-identification/test/f1eadf24d904d3c1e26d8081555901be.jpg',\n",
       " 'drive/MyDrive/dog-breed-identification/test/f1c41fe76fb9962343d34c58efb384cd.jpg',\n",
       " 'drive/MyDrive/dog-breed-identification/test/f1dcabbeb1dbebb326a4b029b6f8b188.jpg',\n",
       " 'drive/MyDrive/dog-breed-identification/test/f191370aae3cc8e282cfd72ecdcc2226.jpg',\n",
       " 'drive/MyDrive/dog-breed-identification/test/f195789502ac83352770c6718ba9eaa2.jpg',\n",
       " 'drive/MyDrive/dog-breed-identification/test/f1b2c118e65c95ba1a00d102787d19a6.jpg',\n",
       " 'drive/MyDrive/dog-breed-identification/test/f1b634511c0ca2fcdf53c9c30f3358c9.jpg',\n",
       " 'drive/MyDrive/dog-breed-identification/test/f1e0d9aa421de4c518baddf3d7bea598.jpg',\n",
       " 'drive/MyDrive/dog-breed-identification/test/f1fdf296d0252b3dfb46f1bfc37bcb63.jpg',\n",
       " 'drive/MyDrive/dog-breed-identification/test/f232ed4d2958c9b13ec8922933a852e4.jpg',\n",
       " 'drive/MyDrive/dog-breed-identification/test/f237c237633a38bd52c2b1de238e945e.jpg',\n",
       " 'drive/MyDrive/dog-breed-identification/test/f219fa279b770442dedbbe61ff5bcfd8.jpg',\n",
       " 'drive/MyDrive/dog-breed-identification/test/f1f339f43e83cfb8e4bf76ff5671489c.jpg',\n",
       " 'drive/MyDrive/dog-breed-identification/test/f21a70f111a4a05ac167c1707651293a.jpg',\n",
       " 'drive/MyDrive/dog-breed-identification/test/f266f217791f0ec584047370775bf0ea.jpg',\n",
       " 'drive/MyDrive/dog-breed-identification/test/f20017c781603ca2d286361592b12dc4.jpg',\n",
       " 'drive/MyDrive/dog-breed-identification/test/f23ba5e0983e9cf2725c3fee84414fbd.jpg',\n",
       " 'drive/MyDrive/dog-breed-identification/test/f21691cb46f6d593ec77a7a0000c4454.jpg',\n",
       " 'drive/MyDrive/dog-breed-identification/test/f1f42942df460f38181e12ebce695b5e.jpg',\n",
       " 'drive/MyDrive/dog-breed-identification/test/f2081ded3fa95eb118ff88b7eaad992e.jpg',\n",
       " 'drive/MyDrive/dog-breed-identification/test/f24c3d9735880ef6ea736dc549419771.jpg',\n",
       " 'drive/MyDrive/dog-breed-identification/test/f202ad1aaf619f90386d96f5b874eeef.jpg',\n",
       " 'drive/MyDrive/dog-breed-identification/test/f298a81a55b9d62e6d337ecdf7b1e827.jpg',\n",
       " 'drive/MyDrive/dog-breed-identification/test/f27e014627c0495cd7a9ef27235bc7a6.jpg',\n",
       " 'drive/MyDrive/dog-breed-identification/test/f282ea683674bf3bde3715cb018b1c26.jpg',\n",
       " 'drive/MyDrive/dog-breed-identification/test/f29de7ef9ac75de46170fd50f5b2d173.jpg',\n",
       " 'drive/MyDrive/dog-breed-identification/test/f27521a58ff23d0bb6390bd802b368c4.jpg',\n",
       " 'drive/MyDrive/dog-breed-identification/test/f285b753c96949769c745ec0f90b2253.jpg',\n",
       " 'drive/MyDrive/dog-breed-identification/test/f28b4d5899f9db2a2caa7a3361c847f1.jpg',\n",
       " 'drive/MyDrive/dog-breed-identification/test/f2996e2ca11b93049069a4a7cafa0ce5.jpg',\n",
       " 'drive/MyDrive/dog-breed-identification/test/f28e776762aba6a080ab11ffb40e8d04.jpg',\n",
       " 'drive/MyDrive/dog-breed-identification/test/f2fb1e6cb9501847d0ab84f1edc36b78.jpg',\n",
       " 'drive/MyDrive/dog-breed-identification/test/f2e4e4f1ab9d156443682dc4653f23e5.jpg',\n",
       " 'drive/MyDrive/dog-breed-identification/test/f2d8c849a9ec1a3217e53ebbb7d50e3e.jpg',\n",
       " 'drive/MyDrive/dog-breed-identification/test/f300694670b4219cf9e8f23306ae3407.jpg',\n",
       " 'drive/MyDrive/dog-breed-identification/test/f2f0b43407b4ce09084eb3013ac28ba8.jpg',\n",
       " 'drive/MyDrive/dog-breed-identification/test/f2e0d5786be8d06a284ffd09c056f637.jpg',\n",
       " 'drive/MyDrive/dog-breed-identification/test/f2b7d11ea6ccf65f214cac2abee8d1a1.jpg',\n",
       " 'drive/MyDrive/dog-breed-identification/test/f2c4131850c17dee485d48c2bb8a358e.jpg',\n",
       " 'drive/MyDrive/dog-breed-identification/test/f3094b103a8d45b2c1026f2d5bb4c687.jpg',\n",
       " 'drive/MyDrive/dog-breed-identification/test/f2bc2e10c40f94618b6d48bca353199a.jpg',\n",
       " 'drive/MyDrive/dog-breed-identification/test/f2dd8cf1ced495252a890e6633b65018.jpg',\n",
       " 'drive/MyDrive/dog-breed-identification/test/f30a644551716969a8a4dd6bdbcac8d5.jpg',\n",
       " 'drive/MyDrive/dog-breed-identification/test/f3228d0cf1dd0163bb365717eb0254f0.jpg',\n",
       " 'drive/MyDrive/dog-breed-identification/test/f30e9a91acfb7e0fd1a3f9b91ca36914.jpg',\n",
       " 'drive/MyDrive/dog-breed-identification/test/f31ed6141b0976f85aaef9b69509c939.jpg',\n",
       " 'drive/MyDrive/dog-breed-identification/test/f30f7155fd94e7f0d3621d9cc9031e93.jpg',\n",
       " 'drive/MyDrive/dog-breed-identification/test/f310b89d1a4706733a71054a26e7fb06.jpg',\n",
       " 'drive/MyDrive/dog-breed-identification/test/f31ffe7d14c530955f2d4c78b93f80eb.jpg',\n",
       " 'drive/MyDrive/dog-breed-identification/test/f31bfb17e3d1800493376fffd77fed72.jpg',\n",
       " 'drive/MyDrive/dog-breed-identification/test/f320aa2676156d3760a409e1b333474d.jpg',\n",
       " 'drive/MyDrive/dog-breed-identification/test/f31dabe4e60722a1f2eb3352fd9d0525.jpg',\n",
       " 'drive/MyDrive/dog-breed-identification/test/f3135e277d13e886038661fd42fef154.jpg',\n",
       " 'drive/MyDrive/dog-breed-identification/test/f3094e7b2a65b2fa50e0f4ac2e3021b4.jpg',\n",
       " 'drive/MyDrive/dog-breed-identification/test/f361999cc41b3d83214d8104c91c672d.jpg',\n",
       " 'drive/MyDrive/dog-breed-identification/test/f328ba9a36da80caceea391ed1a87164.jpg',\n",
       " 'drive/MyDrive/dog-breed-identification/test/f35539d88ab6f98c2e4d8891e1de687c.jpg',\n",
       " 'drive/MyDrive/dog-breed-identification/test/f367d08148f74a726ce8f1a2c4c38e81.jpg',\n",
       " 'drive/MyDrive/dog-breed-identification/test/f3482b871bff6a7d6907f10eeac75aea.jpg',\n",
       " 'drive/MyDrive/dog-breed-identification/test/f32a1d40e437167f5f753faac1e6b786.jpg',\n",
       " 'drive/MyDrive/dog-breed-identification/test/f367afa19bb30234fafa16c64b3730f0.jpg',\n",
       " 'drive/MyDrive/dog-breed-identification/test/f3535f627d9d45218bd401ec24e250ac.jpg',\n",
       " 'drive/MyDrive/dog-breed-identification/test/f33e07d0a4dac780e19f00818752db55.jpg',\n",
       " 'drive/MyDrive/dog-breed-identification/test/f33c435b1e92d5a639e6fc9463821595.jpg',\n",
       " 'drive/MyDrive/dog-breed-identification/test/f32ce9df6028804688984658e2b5164c.jpg',\n",
       " 'drive/MyDrive/dog-breed-identification/test/f35c272e3ece87df743552aa517488b0.jpg',\n",
       " 'drive/MyDrive/dog-breed-identification/test/f37106dba00385993428e7c557b15805.jpg',\n",
       " 'drive/MyDrive/dog-breed-identification/test/f33e9ed93787d73091d1c6f4dabc4c46.jpg',\n",
       " 'drive/MyDrive/dog-breed-identification/test/f3aac2f76dfbfa4df96d63227c2c9390.jpg',\n",
       " 'drive/MyDrive/dog-breed-identification/test/f3d0cbdba1dab4f22ab5510723dd969a.jpg',\n",
       " 'drive/MyDrive/dog-breed-identification/test/f377a8251538b962741e18c944875038.jpg',\n",
       " 'drive/MyDrive/dog-breed-identification/test/f3925f914650b1edf59ce7da36abda31.jpg',\n",
       " 'drive/MyDrive/dog-breed-identification/test/f3a0451f0d3e3507ce3e59c1f55f23ca.jpg',\n",
       " 'drive/MyDrive/dog-breed-identification/test/f3ad6585619f3489fe3c01b4e305f70b.jpg',\n",
       " 'drive/MyDrive/dog-breed-identification/test/f39a1f1692b67eb9c92a29f14a07d568.jpg',\n",
       " 'drive/MyDrive/dog-breed-identification/test/f398e8ff747bfbb95f4aa7660608fc4f.jpg',\n",
       " 'drive/MyDrive/dog-breed-identification/test/f3a99ce58c3efc75fe2377be02c545f9.jpg',\n",
       " 'drive/MyDrive/dog-breed-identification/test/f3cbc8bcd54963296f75377d6fe931d3.jpg',\n",
       " 'drive/MyDrive/dog-breed-identification/test/f374a9d5a46f8b8aa97c715768f170d4.jpg',\n",
       " 'drive/MyDrive/dog-breed-identification/test/f390bb3bac972e70bc612dcf64651eb5.jpg',\n",
       " 'drive/MyDrive/dog-breed-identification/test/f3b603f10d6a344f0395fb46b242ff8e.jpg',\n",
       " 'drive/MyDrive/dog-breed-identification/test/f3af952eeaf093f28b5ac545573324c1.jpg',\n",
       " 'drive/MyDrive/dog-breed-identification/test/f372b595f5e684d8c7c261d6b0166736.jpg',\n",
       " 'drive/MyDrive/dog-breed-identification/test/f3e62da9f6f0aec7359dc70c139d7266.jpg',\n",
       " 'drive/MyDrive/dog-breed-identification/test/f3d4b8b4cd50260c89a6d5b29a7e9243.jpg',\n",
       " 'drive/MyDrive/dog-breed-identification/test/f3df185234b2be78825de1ba63d6c554.jpg',\n",
       " 'drive/MyDrive/dog-breed-identification/test/f414cc74bc9df7c993ca72c5ac986846.jpg',\n",
       " 'drive/MyDrive/dog-breed-identification/test/f43a0698255ee6f04ad91702a4376b6c.jpg',\n",
       " 'drive/MyDrive/dog-breed-identification/test/f3d5aa14bae0561b6b9146d7e7fa0917.jpg',\n",
       " 'drive/MyDrive/dog-breed-identification/test/f3d2b254424ab99c267abc3ab22ba627.jpg',\n",
       " 'drive/MyDrive/dog-breed-identification/test/f409b8113b2c2ab861131c4bd1c0b029.jpg',\n",
       " 'drive/MyDrive/dog-breed-identification/test/f3fa4a19ad6e0a8a4b25467fb995fd7a.jpg',\n",
       " 'drive/MyDrive/dog-breed-identification/test/f4270652c14534bd1916311b24261b83.jpg',\n",
       " 'drive/MyDrive/dog-breed-identification/test/f42473f75caedac6010537ddd05b1a86.jpg',\n",
       " 'drive/MyDrive/dog-breed-identification/test/f407f19970c6d8d516722e899adc599c.jpg',\n",
       " 'drive/MyDrive/dog-breed-identification/test/f3ef677ea2641c7ef7ece6ce1ba11b2f.jpg',\n",
       " 'drive/MyDrive/dog-breed-identification/test/f3e898913d681b7d938a298f9e068254.jpg',\n",
       " 'drive/MyDrive/dog-breed-identification/test/f41a03e617bde76fef19ec1cf1355d59.jpg',\n",
       " 'drive/MyDrive/dog-breed-identification/test/f3ea1d71874433a4fe775deb9e95923a.jpg',\n",
       " 'drive/MyDrive/dog-breed-identification/test/f402e15e75051b9491283307b947680e.jpg',\n",
       " 'drive/MyDrive/dog-breed-identification/test/f44005bd8019c5b9fb3ba2216e5d2af8.jpg',\n",
       " 'drive/MyDrive/dog-breed-identification/test/f495e4dbc5b2bc6230bca03970d37876.jpg',\n",
       " 'drive/MyDrive/dog-breed-identification/test/f477da1f84ba93e037a7786c0f2a91f4.jpg',\n",
       " 'drive/MyDrive/dog-breed-identification/test/f47e4614a5d7d190cf95b4b9c1e78576.jpg',\n",
       " 'drive/MyDrive/dog-breed-identification/test/f4496b7d4565b8bdebe844229a339796.jpg',\n",
       " 'drive/MyDrive/dog-breed-identification/test/f453249b8fff37e92e02fce0d662ffa0.jpg',\n",
       " 'drive/MyDrive/dog-breed-identification/test/f49dbff2463687f867bfe1bc88f0a7c3.jpg',\n",
       " 'drive/MyDrive/dog-breed-identification/test/f45014f665123584d3588802ee020bce.jpg',\n",
       " 'drive/MyDrive/dog-breed-identification/test/f46c9b6ddea9aa7ff685604eec44f67a.jpg',\n",
       " 'drive/MyDrive/dog-breed-identification/test/f497ac35b94726e58d6298902794596f.jpg',\n",
       " 'drive/MyDrive/dog-breed-identification/test/f446eac396b0e74af84fab5069d28c68.jpg',\n",
       " 'drive/MyDrive/dog-breed-identification/test/f47cd43251c741ee459c688955c41f29.jpg',\n",
       " 'drive/MyDrive/dog-breed-identification/test/f4560b7a3045615d9fcc915b5b08de1b.jpg',\n",
       " 'drive/MyDrive/dog-breed-identification/test/f4a2ee1dd5542da8b0150fe8f7a2b7c3.jpg',\n",
       " 'drive/MyDrive/dog-breed-identification/test/f49b264ba04d042811304a9f994d8415.jpg',\n",
       " 'drive/MyDrive/dog-breed-identification/test/f4f77d0d3e23e06fe2c1941edf919eb3.jpg',\n",
       " 'drive/MyDrive/dog-breed-identification/test/f4fa65b062607d69c98f16cb625d5915.jpg',\n",
       " 'drive/MyDrive/dog-breed-identification/test/f4ec1eb228bb0a7084de552fa4333b43.jpg',\n",
       " 'drive/MyDrive/dog-breed-identification/test/f4cd3448e7e39070c86f551bfd4f1471.jpg',\n",
       " 'drive/MyDrive/dog-breed-identification/test/f4e1d93f8d4f389547d69a5cd468e49d.jpg',\n",
       " 'drive/MyDrive/dog-breed-identification/test/f50e3cf5abd93afce432348daa6c4789.jpg',\n",
       " 'drive/MyDrive/dog-breed-identification/test/f4eb6450497df847ef1012d61d869007.jpg',\n",
       " 'drive/MyDrive/dog-breed-identification/test/f5174e3ab52edb2e414e135259047c48.jpg',\n",
       " 'drive/MyDrive/dog-breed-identification/test/f4bfd6652f7cb8d9e99c7771ba29ab8a.jpg',\n",
       " 'drive/MyDrive/dog-breed-identification/test/f4db24d71e6f3100614eb4543f98394f.jpg',\n",
       " 'drive/MyDrive/dog-breed-identification/test/f4eb5c8121abd476cfc36684e74e83a5.jpg',\n",
       " 'drive/MyDrive/dog-breed-identification/test/f51f6aeea8a23b6bd62728fde8f04ad8.jpg',\n",
       " 'drive/MyDrive/dog-breed-identification/test/f50cf15ef4c06e63d9483b48d7bead6b.jpg',\n",
       " 'drive/MyDrive/dog-breed-identification/test/f4b31ede23331910d4f15664be4db5d3.jpg',\n",
       " 'drive/MyDrive/dog-breed-identification/test/f4af276965865188983afcbb5fca9cc2.jpg',\n",
       " 'drive/MyDrive/dog-breed-identification/test/f4dd86f78fa8b90ed885ec34af6eb1a8.jpg',\n",
       " 'drive/MyDrive/dog-breed-identification/test/f4a3d9cf1909fb5d894ff5d5121af9b0.jpg',\n",
       " 'drive/MyDrive/dog-breed-identification/test/f540547111a9b6bda288b694a5536702.jpg',\n",
       " 'drive/MyDrive/dog-breed-identification/test/f569c5b12fae4ca37d376d21bc05f2b3.jpg',\n",
       " 'drive/MyDrive/dog-breed-identification/test/f575720280425098d6faca42cff69a36.jpg',\n",
       " 'drive/MyDrive/dog-breed-identification/test/f53aa47b4676b1f135ac2eeeee01db9b.jpg',\n",
       " 'drive/MyDrive/dog-breed-identification/test/f5319adc463ccf7e82f10a34ce39c190.jpg',\n",
       " 'drive/MyDrive/dog-breed-identification/test/f56080803871563e96541a57ad1a08c4.jpg',\n",
       " 'drive/MyDrive/dog-breed-identification/test/f56b4140707da82fe91cb9e5df4ce68c.jpg',\n",
       " 'drive/MyDrive/dog-breed-identification/test/f53c0a1ab2af3549a2ef5825d023b160.jpg',\n",
       " 'drive/MyDrive/dog-breed-identification/test/f532b476d5d46f4ba89b22449e3c147d.jpg',\n",
       " 'drive/MyDrive/dog-breed-identification/test/f5787e3574a4af6a19ff825cf0c32366.jpg',\n",
       " 'drive/MyDrive/dog-breed-identification/test/f538a1d1a9e50417ea346429ea3e940c.jpg',\n",
       " 'drive/MyDrive/dog-breed-identification/test/f53ae57b0cae92b14f87716a815d66e9.jpg',\n",
       " 'drive/MyDrive/dog-breed-identification/test/f574f558d78db4e616e91f5dd5347409.jpg',\n",
       " 'drive/MyDrive/dog-breed-identification/test/f56b3708592637432ac53d7f0684dfa8.jpg',\n",
       " 'drive/MyDrive/dog-breed-identification/test/f56185baca63dfc073ca82bee5bf24e4.jpg',\n",
       " 'drive/MyDrive/dog-breed-identification/test/f58ce44146db339a0bba50bcecb02730.jpg',\n",
       " 'drive/MyDrive/dog-breed-identification/test/f5a82b8243ff2845cc9bbe040e70dbf8.jpg',\n",
       " 'drive/MyDrive/dog-breed-identification/test/f5941a13b02860ade9b93987a18a8636.jpg',\n",
       " 'drive/MyDrive/dog-breed-identification/test/f59518330db44c70a9bad7e8a4314f3b.jpg',\n",
       " 'drive/MyDrive/dog-breed-identification/test/f599f4d08388e69960e17234ebd0beba.jpg',\n",
       " 'drive/MyDrive/dog-breed-identification/test/f57f8ce3fe1d928828e37a9bd78574d9.jpg',\n",
       " 'drive/MyDrive/dog-breed-identification/test/f586cdd98e69c6909b8048d728937ab9.jpg',\n",
       " 'drive/MyDrive/dog-breed-identification/test/f5a6e430c2c363335d22ae0593d7533a.jpg',\n",
       " 'drive/MyDrive/dog-breed-identification/test/f58b1ce36c59e42dd22be92949fc38a7.jpg',\n",
       " 'drive/MyDrive/dog-breed-identification/test/f5a862808a7cd1f4a521c34c5b46d189.jpg',\n",
       " 'drive/MyDrive/dog-breed-identification/test/f596d629c90c70820c38a094f03be387.jpg',\n",
       " 'drive/MyDrive/dog-breed-identification/test/f58a21665136bb6aa4aa90c485be4315.jpg',\n",
       " 'drive/MyDrive/dog-breed-identification/test/f592d6ca12a9d99c18f26260c3eb148a.jpg',\n",
       " 'drive/MyDrive/dog-breed-identification/test/f5ae72b9aff8a7671358eb22a54229bc.jpg',\n",
       " 'drive/MyDrive/dog-breed-identification/test/f5b3e223065e2f8ad10d710f47700ddc.jpg',\n",
       " 'drive/MyDrive/dog-breed-identification/test/f5dcef15272a806b4f0824e9199e9dd5.jpg',\n",
       " 'drive/MyDrive/dog-breed-identification/test/f5c67d1ba3029b538cc1a9b8ef2e53fe.jpg',\n",
       " 'drive/MyDrive/dog-breed-identification/test/f5cab113e1dab255ca24447caab54641.jpg',\n",
       " 'drive/MyDrive/dog-breed-identification/test/f5b4f0c3ae9b723524e53043025bcd64.jpg',\n",
       " 'drive/MyDrive/dog-breed-identification/test/f5fb580dfd19890f200eed7010cedc3a.jpg',\n",
       " 'drive/MyDrive/dog-breed-identification/test/f5bdb338a1290c979bb8ff9071c3edd4.jpg',\n",
       " 'drive/MyDrive/dog-breed-identification/test/f5ce3c2361b9e6d24fedab9c20723829.jpg',\n",
       " 'drive/MyDrive/dog-breed-identification/test/f5b7603797d8a92d5b7b52d073891347.jpg',\n",
       " 'drive/MyDrive/dog-breed-identification/test/f5f3f3913dabe2ff9d100b81b44e2611.jpg',\n",
       " 'drive/MyDrive/dog-breed-identification/test/f5b7912d2f7ab4c4a237ca7008212e7c.jpg',\n",
       " 'drive/MyDrive/dog-breed-identification/test/f5c14e0368f4e364a32d873f7e0aff13.jpg',\n",
       " 'drive/MyDrive/dog-breed-identification/test/f60509afbd5419009e6d1c473dc891c7.jpg',\n",
       " 'drive/MyDrive/dog-breed-identification/test/f603da0e3cfff2ea4d792c96fe5ebac6.jpg',\n",
       " 'drive/MyDrive/dog-breed-identification/test/f5e35cdf4d058fb4d1f2372cf9cd1909.jpg',\n",
       " 'drive/MyDrive/dog-breed-identification/test/f5c5fad8b9b0027c2ec2d079e56f5813.jpg',\n",
       " 'drive/MyDrive/dog-breed-identification/test/f5debfc7eda5eead5fd5883846decf4a.jpg',\n",
       " 'drive/MyDrive/dog-breed-identification/test/f643e7740a59eff3ec171be222c18a1e.jpg',\n",
       " 'drive/MyDrive/dog-breed-identification/test/f645e45c994e1eea2e6090ba8c583fc1.jpg',\n",
       " 'drive/MyDrive/dog-breed-identification/test/f6244044c1433c7067e3129486612ee1.jpg',\n",
       " 'drive/MyDrive/dog-breed-identification/test/f63632142392cb2f86a39d03a937088e.jpg',\n",
       " 'drive/MyDrive/dog-breed-identification/test/f633f32982dec362ecbf2e265dcff6ca.jpg',\n",
       " 'drive/MyDrive/dog-breed-identification/test/f631f24341f5ed5ab5dc30b1ce3d73df.jpg',\n",
       " 'drive/MyDrive/dog-breed-identification/test/f643ae3f2d8e15aebe4a417367b3f14e.jpg',\n",
       " 'drive/MyDrive/dog-breed-identification/test/f62ed18a684c62a90212d9867d30b0f9.jpg',\n",
       " 'drive/MyDrive/dog-breed-identification/test/f62187f85c6b9c519a4fae8bc22762da.jpg',\n",
       " 'drive/MyDrive/dog-breed-identification/test/f609908d57eecf338ad04385125da400.jpg',\n",
       " 'drive/MyDrive/dog-breed-identification/test/f6074efff140894b18a6b73e8a3886e7.jpg',\n",
       " 'drive/MyDrive/dog-breed-identification/test/f62a52631ede45098ecce8fc96e0a2f6.jpg',\n",
       " 'drive/MyDrive/dog-breed-identification/test/f63b972e0c8fb81fc79a3fe1099b9797.jpg',\n",
       " 'drive/MyDrive/dog-breed-identification/test/f6460023e12992579ddbe33ca4d7f8ad.jpg',\n",
       " 'drive/MyDrive/dog-breed-identification/test/f633268243572d8a8607d5959a0d3456.jpg',\n",
       " 'drive/MyDrive/dog-breed-identification/test/f687b2ec96d346e2c88934855f3c3b12.jpg',\n",
       " 'drive/MyDrive/dog-breed-identification/test/f6b77d1145a49327e0f1e92cd21bc704.jpg',\n",
       " 'drive/MyDrive/dog-breed-identification/test/f681821203c5ff0a675b6f998767e4ab.jpg',\n",
       " 'drive/MyDrive/dog-breed-identification/test/f661761277c257e1c35c48e72820b882.jpg',\n",
       " 'drive/MyDrive/dog-breed-identification/test/f6b7274f16f605b9649fd021a5c70046.jpg',\n",
       " 'drive/MyDrive/dog-breed-identification/test/f692af396f852049c3a660aa8465728a.jpg',\n",
       " 'drive/MyDrive/dog-breed-identification/test/f6b8af035c42b6836bbf90d0a457bcb4.jpg',\n",
       " 'drive/MyDrive/dog-breed-identification/test/f674b20155dca91ac87e2bcef27b757c.jpg',\n",
       " 'drive/MyDrive/dog-breed-identification/test/f68c74c33e5a231bd45bff6206401f09.jpg',\n",
       " 'drive/MyDrive/dog-breed-identification/test/f6aa8cb9239c3b17af100952d7301d58.jpg',\n",
       " 'drive/MyDrive/dog-breed-identification/test/f6b8d1787176be43d99bb3aa8fbff45f.jpg',\n",
       " 'drive/MyDrive/dog-breed-identification/test/f66ba12155a4e501e7559e1f294af553.jpg',\n",
       " 'drive/MyDrive/dog-breed-identification/test/f65018f7fe15da327e67963c3da66847.jpg',\n",
       " 'drive/MyDrive/dog-breed-identification/test/f6d25bad96714bbb31d494239c80deda.jpg',\n",
       " 'drive/MyDrive/dog-breed-identification/test/f70cac4fe79479cafd7a0b0180f0eeb7.jpg',\n",
       " 'drive/MyDrive/dog-breed-identification/test/f6bb9fedf0b41301d3c6016a25c51608.jpg',\n",
       " 'drive/MyDrive/dog-breed-identification/test/f6c76521f3eb52045af1c3a5cc05e64f.jpg',\n",
       " 'drive/MyDrive/dog-breed-identification/test/f6dab4e4fcd85420282b12d36f340fcf.jpg',\n",
       " 'drive/MyDrive/dog-breed-identification/test/f710b7b398babf2e0602e8ee38f1746f.jpg',\n",
       " 'drive/MyDrive/dog-breed-identification/test/f6bed54631ef1691d12509f5516ce979.jpg',\n",
       " 'drive/MyDrive/dog-breed-identification/test/f6e5a5912ddc42221f4dfe5194939280.jpg',\n",
       " 'drive/MyDrive/dog-breed-identification/test/f70ea8c1aa5b665a4dd1dd5e6e53b071.jpg',\n",
       " 'drive/MyDrive/dog-breed-identification/test/f6cf1d8e56d3d0f75247d790f22cad17.jpg',\n",
       " 'drive/MyDrive/dog-breed-identification/test/f6cc3ff7f1eef6c625b18c1f9d1b384d.jpg',\n",
       " 'drive/MyDrive/dog-breed-identification/test/f6dccdcd73969a1a28738076a990190d.jpg',\n",
       " 'drive/MyDrive/dog-breed-identification/test/f6e209dbbd97aadf518f16d18a807ffb.jpg',\n",
       " 'drive/MyDrive/dog-breed-identification/test/f6daf862fbea9106bab1ee3742fa213d.jpg',\n",
       " 'drive/MyDrive/dog-breed-identification/test/f6e66fbe9abfe44114ba82dee87c4d1e.jpg',\n",
       " 'drive/MyDrive/dog-breed-identification/test/f719b425410b6eb3e3132702150affd6.jpg',\n",
       " 'drive/MyDrive/dog-breed-identification/test/f742b1108deb763728aa78f8e96ba68a.jpg',\n",
       " 'drive/MyDrive/dog-breed-identification/test/f74676323a11fdfe1bd36ba5dfa0ac4e.jpg',\n",
       " 'drive/MyDrive/dog-breed-identification/test/f73ccf304d83adecec019063e20c383c.jpg',\n",
       " 'drive/MyDrive/dog-breed-identification/test/f717e4f0cce4ff0e658f9f58e59118a7.jpg',\n",
       " 'drive/MyDrive/dog-breed-identification/test/f741f14f92787ac21b8e72e80aaa5ebe.jpg',\n",
       " 'drive/MyDrive/dog-breed-identification/test/f7344ee72050c512b7e4b859f4a7836d.jpg',\n",
       " 'drive/MyDrive/dog-breed-identification/test/f74be541c9805bf2dc3ed53e46fa28c7.jpg',\n",
       " 'drive/MyDrive/dog-breed-identification/test/f75a4a49d98f935b65c51a054e138e60.jpg',\n",
       " 'drive/MyDrive/dog-breed-identification/test/f74e342ace4cdfbf26dfd2bd32a62cee.jpg',\n",
       " 'drive/MyDrive/dog-breed-identification/test/f73cf800d2f816ce21163dab83a4a72e.jpg',\n",
       " 'drive/MyDrive/dog-breed-identification/test/f74343398baf4826045adbe1dc27dd2b.jpg',\n",
       " 'drive/MyDrive/dog-breed-identification/test/f74c035f561cf98408151fdd6302dafd.jpg',\n",
       " 'drive/MyDrive/dog-breed-identification/test/f73c6b6891b3e40a6bc9dd26f4e65767.jpg',\n",
       " 'drive/MyDrive/dog-breed-identification/test/f7266c7c804418bf6ea1f644b4efc33c.jpg',\n",
       " 'drive/MyDrive/dog-breed-identification/test/f738e9e1d45191bf89fd0248986edfdc.jpg',\n",
       " 'drive/MyDrive/dog-breed-identification/test/f768e77da9ad4b759834f6f8d61cb1e6.jpg',\n",
       " 'drive/MyDrive/dog-breed-identification/test/f7b0596d6f3a5fe9006f04de9cf4ab0f.jpg',\n",
       " 'drive/MyDrive/dog-breed-identification/test/f7826566ce78595105ec27cdfba5b576.jpg',\n",
       " 'drive/MyDrive/dog-breed-identification/test/f7bf60b869bd2f685e7f1a7a2bb33bf8.jpg',\n",
       " 'drive/MyDrive/dog-breed-identification/test/f785b2499ca08a8ec3f20972c358cfd7.jpg',\n",
       " 'drive/MyDrive/dog-breed-identification/test/f7b489a38302afc010d8a386a1b7d085.jpg',\n",
       " 'drive/MyDrive/dog-breed-identification/test/f789cfce1b5af285046f91ef48234d0a.jpg',\n",
       " 'drive/MyDrive/dog-breed-identification/test/f77793be1597dd1ea50b22532b38bd23.jpg',\n",
       " 'drive/MyDrive/dog-breed-identification/test/f7773948b9f12b6573a6b935e4281d60.jpg',\n",
       " 'drive/MyDrive/dog-breed-identification/test/f7d2a66a4b9ea177fde652290498e5b2.jpg',\n",
       " 'drive/MyDrive/dog-breed-identification/test/f7d150e11c972c850159603843939b28.jpg',\n",
       " 'drive/MyDrive/dog-breed-identification/test/f7a0edb3cf98cb3377a4747c499c9c66.jpg',\n",
       " 'drive/MyDrive/dog-breed-identification/test/f790aabc5b0b99798e7a098419a2d8ec.jpg',\n",
       " 'drive/MyDrive/dog-breed-identification/test/f7a32505c12649183c5991ecfa7d68b3.jpg',\n",
       " 'drive/MyDrive/dog-breed-identification/test/f7730df5cb8a3823cebc4369f2274793.jpg',\n",
       " 'drive/MyDrive/dog-breed-identification/test/f80081668f74c26b7084d8676ba12d9f.jpg',\n",
       " 'drive/MyDrive/dog-breed-identification/test/f805a687670be49dd8980dd06b612962.jpg',\n",
       " 'drive/MyDrive/dog-breed-identification/test/f8017854f9f52f53140234f44cd335f8.jpg',\n",
       " 'drive/MyDrive/dog-breed-identification/test/f7f845383fa94fea9722b22a5ab0da73.jpg',\n",
       " 'drive/MyDrive/dog-breed-identification/test/f7ee03c39d8a094c75de991e24e4ea55.jpg',\n",
       " 'drive/MyDrive/dog-breed-identification/test/f7f585083fb639c3bfced127e2cd0046.jpg',\n",
       " 'drive/MyDrive/dog-breed-identification/test/f8035a1eb017b8f7c2e5c217a57ed39b.jpg',\n",
       " 'drive/MyDrive/dog-breed-identification/test/f82f2b96cfa68795262d097d3128a831.jpg',\n",
       " 'drive/MyDrive/dog-breed-identification/test/f7e3178f426d312a5a06ee7e012efbec.jpg',\n",
       " 'drive/MyDrive/dog-breed-identification/test/f7d9e21e792ce7d02af8faebffb715b4.jpg',\n",
       " 'drive/MyDrive/dog-breed-identification/test/f7d9d506b828274c866fb9af90a0333e.jpg',\n",
       " 'drive/MyDrive/dog-breed-identification/test/f7fda1184e21dcd0cb94086cac9ee762.jpg',\n",
       " 'drive/MyDrive/dog-breed-identification/test/f7d9fb4125bb38adb9887b881aabda26.jpg',\n",
       " 'drive/MyDrive/dog-breed-identification/test/f7d42fab4bea7ca6cd3d1e2970644be5.jpg',\n",
       " 'drive/MyDrive/dog-breed-identification/test/f807e831500c29e7c433c3ad33479f57.jpg',\n",
       " 'drive/MyDrive/dog-breed-identification/test/f807b2b2f7546042db17e272dc910009.jpg',\n",
       " 'drive/MyDrive/dog-breed-identification/test/f82a903b13fb1d4331d889847d93259f.jpg',\n",
       " 'drive/MyDrive/dog-breed-identification/test/f85dd6bab03d372d771dd7815e732e9d.jpg',\n",
       " 'drive/MyDrive/dog-breed-identification/test/f875e7ccee8e8aa7d4da084916d44dcd.jpg',\n",
       " 'drive/MyDrive/dog-breed-identification/test/f871fb71fe4c60adf0b7b8b250c8565c.jpg',\n",
       " 'drive/MyDrive/dog-breed-identification/test/f833a56026b89fba59f04d16ca6881d5.jpg',\n",
       " 'drive/MyDrive/dog-breed-identification/test/f86671821bcfc46718bdb32d106f41a1.jpg',\n",
       " 'drive/MyDrive/dog-breed-identification/test/f83b767c00613828c817ac1436c19e7c.jpg',\n",
       " 'drive/MyDrive/dog-breed-identification/test/f83d03d1949ebedbbe8bb49debac8af9.jpg',\n",
       " 'drive/MyDrive/dog-breed-identification/test/f851fafa6d83cd73c20a38a2abfd21d3.jpg',\n",
       " 'drive/MyDrive/dog-breed-identification/test/f86aa3a7e56a78d9931710865d05632d.jpg',\n",
       " 'drive/MyDrive/dog-breed-identification/test/f85ec079d4adfe655eb159e169baafd7.jpg',\n",
       " 'drive/MyDrive/dog-breed-identification/test/f86bb8a2e851edcf769dd381e04f9e3f.jpg',\n",
       " 'drive/MyDrive/dog-breed-identification/test/f85ccd6fb240cd4771e80c1e3aeea571.jpg',\n",
       " 'drive/MyDrive/dog-breed-identification/test/f863758735a6cc504d4a80477591eaf6.jpg',\n",
       " 'drive/MyDrive/dog-breed-identification/test/f85c38afe1945e2c1f70009c2da2b770.jpg',\n",
       " 'drive/MyDrive/dog-breed-identification/test/f8bb4bf1ab951320f8d57cd7827eec64.jpg',\n",
       " 'drive/MyDrive/dog-breed-identification/test/f88ac7d8d4dcc50858be35d6bfcf5de3.jpg',\n",
       " 'drive/MyDrive/dog-breed-identification/test/f8bb3821edde56432a481b082247ef74.jpg',\n",
       " 'drive/MyDrive/dog-breed-identification/test/f892cc1187e923778d1c2b02bc532fa1.jpg',\n",
       " 'drive/MyDrive/dog-breed-identification/test/f8bc858c49172d79608a10cae9418a7e.jpg',\n",
       " 'drive/MyDrive/dog-breed-identification/test/f8809ca08ad7e84f00061d47d2ba59c0.jpg',\n",
       " 'drive/MyDrive/dog-breed-identification/test/f89330d6f8a1f8b6e9ba1723767b8e32.jpg',\n",
       " 'drive/MyDrive/dog-breed-identification/test/f8b3b0111a3143d4e5251ee190601f63.jpg',\n",
       " 'drive/MyDrive/dog-breed-identification/test/f8a99a454fe2bbf5ecfa59952d473506.jpg',\n",
       " 'drive/MyDrive/dog-breed-identification/test/f8adb1563005924137ea07d373664cb7.jpg',\n",
       " 'drive/MyDrive/dog-breed-identification/test/f88206f9a29e9461d16a3050b23a1e33.jpg',\n",
       " 'drive/MyDrive/dog-breed-identification/test/f8a96bab7258625fc41c1dda492cb362.jpg',\n",
       " 'drive/MyDrive/dog-breed-identification/test/f89654f9652fed8140209b60093e6f3c.jpg',\n",
       " 'drive/MyDrive/dog-breed-identification/test/f8b0bade51fd9ba4f1cbacdc593c9ea4.jpg',\n",
       " 'drive/MyDrive/dog-breed-identification/test/f87be8b12c3d8767b660e3145deb26d3.jpg',\n",
       " 'drive/MyDrive/dog-breed-identification/test/f8d6584fa27b951bfef528ccf5834ec7.jpg',\n",
       " 'drive/MyDrive/dog-breed-identification/test/f8de6b5fe68dfc6c2b8dd8d6126b20df.jpg',\n",
       " 'drive/MyDrive/dog-breed-identification/test/f8d6c0291860bf771941cf2ad458ae2b.jpg',\n",
       " 'drive/MyDrive/dog-breed-identification/test/f8c3fb7b00c96ba6881125d7ab0f7bf9.jpg',\n",
       " 'drive/MyDrive/dog-breed-identification/test/f9068d19af55c183e80afa192fcb0f85.jpg',\n",
       " 'drive/MyDrive/dog-breed-identification/test/f8f3aec58161e1911d75543fe802519c.jpg',\n",
       " 'drive/MyDrive/dog-breed-identification/test/f8bfe5da20567378b885109a0c1f1483.jpg',\n",
       " 'drive/MyDrive/dog-breed-identification/test/f8cf40ee281034358b8cd947a5e182c0.jpg',\n",
       " 'drive/MyDrive/dog-breed-identification/test/f8bf726f7b37032b5cb7c127c3abc067.jpg',\n",
       " 'drive/MyDrive/dog-breed-identification/test/f8e874d412ff17b33dae7fc7b92f6124.jpg',\n",
       " 'drive/MyDrive/dog-breed-identification/test/f8c95399f717d2e966a009fa05f7051d.jpg',\n",
       " 'drive/MyDrive/dog-breed-identification/test/f8f7740700e41c77da2ecc5953a23e9d.jpg',\n",
       " 'drive/MyDrive/dog-breed-identification/test/f8f3c8903f904242b099f1fa4472ff02.jpg',\n",
       " 'drive/MyDrive/dog-breed-identification/test/f8e19bd42fded7890ee81454d0a93189.jpg',\n",
       " 'drive/MyDrive/dog-breed-identification/test/f8c2b412dd7b37e28234314f6396aaed.jpg',\n",
       " 'drive/MyDrive/dog-breed-identification/test/f90032fc6036df7fab8f6fda5be69824.jpg',\n",
       " 'drive/MyDrive/dog-breed-identification/test/f940b01cf50eed0a33da733c63fe406a.jpg',\n",
       " 'drive/MyDrive/dog-breed-identification/test/f945b071d6bf639baddf368645b305e4.jpg',\n",
       " 'drive/MyDrive/dog-breed-identification/test/f961d98f88aeda2fd338d3a21dc84e3c.jpg',\n",
       " 'drive/MyDrive/dog-breed-identification/test/f9340c0fd1a1bd4bbfb9297e4ae85ccf.jpg',\n",
       " 'drive/MyDrive/dog-breed-identification/test/f929dc14403b317454be39940c6ef36f.jpg',\n",
       " 'drive/MyDrive/dog-breed-identification/test/f962a3811b1e9ef273c72076bb73e1f2.jpg',\n",
       " 'drive/MyDrive/dog-breed-identification/test/f90f630e3728dfe9428e291af0cc4af5.jpg',\n",
       " 'drive/MyDrive/dog-breed-identification/test/f90ac8934d1349d115a4961c20ee447b.jpg',\n",
       " 'drive/MyDrive/dog-breed-identification/test/f90ace46a8ccf051f6f7ec783ad8e258.jpg',\n",
       " 'drive/MyDrive/dog-breed-identification/test/f95d1a0c5f7ef6ad663421002a0f32c9.jpg',\n",
       " 'drive/MyDrive/dog-breed-identification/test/f90b4f4adae580c4a2ec4fd9abad05da.jpg',\n",
       " 'drive/MyDrive/dog-breed-identification/test/f928a71d3356833e8c46734938c04cd7.jpg',\n",
       " 'drive/MyDrive/dog-breed-identification/test/f96722fdd8a6a0e9ff86eee619cec34d.jpg',\n",
       " 'drive/MyDrive/dog-breed-identification/test/f93c47efe039b017caca9484564c5b9a.jpg',\n",
       " 'drive/MyDrive/dog-breed-identification/test/f9ad4003cf9e4005f31608c9cc97f182.jpg',\n",
       " 'drive/MyDrive/dog-breed-identification/test/f9be307623c1963af3e15a7214c2b41c.jpg',\n",
       " 'drive/MyDrive/dog-breed-identification/test/f9ab19dfaabb001a78fd3f0b6ea12b47.jpg',\n",
       " 'drive/MyDrive/dog-breed-identification/test/f968527661824f3b3b7e640b646a4c3d.jpg',\n",
       " 'drive/MyDrive/dog-breed-identification/test/f9c6eaf6f490f30fdecd76831805d0f7.jpg',\n",
       " 'drive/MyDrive/dog-breed-identification/test/f9774f126def6f6c167e15ec1da6b345.jpg',\n",
       " 'drive/MyDrive/dog-breed-identification/test/f9c1fec06778d69677c24dacfb9f4840.jpg',\n",
       " 'drive/MyDrive/dog-breed-identification/test/f9c170fa53653ae4e90af9599a82fca7.jpg',\n",
       " 'drive/MyDrive/dog-breed-identification/test/f9947725537832ca279d1ee1a4170898.jpg',\n",
       " 'drive/MyDrive/dog-breed-identification/test/f994e568dfd261f604337a049faebfd8.jpg',\n",
       " 'drive/MyDrive/dog-breed-identification/test/f97e163c3ed39529c99cf141ca6e1adb.jpg',\n",
       " 'drive/MyDrive/dog-breed-identification/test/f9810c674a581269d3d68e50c8d73b85.jpg',\n",
       " 'drive/MyDrive/dog-breed-identification/test/f9c205daa33974de7da461f2adfb2f8d.jpg',\n",
       " 'drive/MyDrive/dog-breed-identification/test/f96e4d193db9461fa6dcdefe15e57d53.jpg',\n",
       " 'drive/MyDrive/dog-breed-identification/test/f96bc5732168cac38f78847a24a61765.jpg',\n",
       " 'drive/MyDrive/dog-breed-identification/test/f9e23db817511ad879ddee9edccebfe7.jpg',\n",
       " 'drive/MyDrive/dog-breed-identification/test/fa30caf6e17cad235b9fb91b048aa70e.jpg',\n",
       " 'drive/MyDrive/dog-breed-identification/test/fa1460c331de2f6e6e5b1c97f1c51047.jpg',\n",
       " 'drive/MyDrive/dog-breed-identification/test/fa2f75a340b6ecdc3f376c56a6323b01.jpg',\n",
       " 'drive/MyDrive/dog-breed-identification/test/fa1b7fcead34bd69f791c89c9b989adb.jpg',\n",
       " 'drive/MyDrive/dog-breed-identification/test/f9c7abc6102dffc5745d77fac5d6881f.jpg',\n",
       " 'drive/MyDrive/dog-breed-identification/test/f9d55645721fabc59023fcabac6ff6bd.jpg',\n",
       " 'drive/MyDrive/dog-breed-identification/test/fa0b392ccbae2b59bf83afd34bd8b610.jpg',\n",
       " 'drive/MyDrive/dog-breed-identification/test/fa2f44a5e2c304e76f65bb9fa60ecb10.jpg',\n",
       " 'drive/MyDrive/dog-breed-identification/test/fa1b178cee67805d99bf5623944815c1.jpg',\n",
       " 'drive/MyDrive/dog-breed-identification/test/fa2636ab5c2a0c64a555d5604654053a.jpg',\n",
       " 'drive/MyDrive/dog-breed-identification/test/f9f0c9be21215d50d8a2994ef0f9f416.jpg',\n",
       " 'drive/MyDrive/dog-breed-identification/test/f9c9168b4644003db3269103929cc325.jpg',\n",
       " 'drive/MyDrive/dog-breed-identification/test/f9cdb4d856a56b7f0530b0f787877027.jpg',\n",
       " 'drive/MyDrive/dog-breed-identification/test/f9e0b683a682ae4407bba6c44e90a8b6.jpg',\n",
       " 'drive/MyDrive/dog-breed-identification/test/fa9cacf553c34c99d08e93dce7dbf3f7.jpg',\n",
       " 'drive/MyDrive/dog-breed-identification/test/fa72bd6f479a51c33c8b92970c834954.jpg',\n",
       " 'drive/MyDrive/dog-breed-identification/test/faa497fae779c7cf0c755b2f3a9f54a6.jpg',\n",
       " 'drive/MyDrive/dog-breed-identification/test/fa9759d78e2c43eed645aefa3c7dcc83.jpg',\n",
       " 'drive/MyDrive/dog-breed-identification/test/fa83f05aeb164b303af59b9c4d564c6c.jpg',\n",
       " 'drive/MyDrive/dog-breed-identification/test/fa49b444c38455214ce24fa79e662cf4.jpg',\n",
       " 'drive/MyDrive/dog-breed-identification/test/fa98868fa1de351dd9c69d08545b3181.jpg',\n",
       " 'drive/MyDrive/dog-breed-identification/test/fa85d9951d7996c4c92ce5dc41d87dcd.jpg',\n",
       " 'drive/MyDrive/dog-breed-identification/test/fa32a6bd287eb7f7a43300f103187b83.jpg',\n",
       " 'drive/MyDrive/dog-breed-identification/test/fa3e51b3b0dc0e722f1b1877c2e5d8d1.jpg',\n",
       " 'drive/MyDrive/dog-breed-identification/test/fa717a1532249d9c0532378c80c46c8e.jpg',\n",
       " 'drive/MyDrive/dog-breed-identification/test/fa98e0dd02c4fcc5b5155a1fdaa2cb13.jpg',\n",
       " 'drive/MyDrive/dog-breed-identification/test/fa9f99318fc70441c150beb46013e63c.jpg',\n",
       " 'drive/MyDrive/dog-breed-identification/test/fa770328b53a68589a12b6f059099ee8.jpg',\n",
       " 'drive/MyDrive/dog-breed-identification/test/fa7c8295fa34ce441d4dc8cbe6125a4c.jpg',\n",
       " 'drive/MyDrive/dog-breed-identification/test/fa541fc080cdeffb4dd98da99f673a59.jpg',\n",
       " 'drive/MyDrive/dog-breed-identification/test/fb03302b030afd122e0f4936c158f6c1.jpg',\n",
       " 'drive/MyDrive/dog-breed-identification/test/fac2dfeeb3d9687769744b1fcb81da07.jpg',\n",
       " 'drive/MyDrive/dog-breed-identification/test/faaf9144e28a76de76ab05c59354f0fb.jpg',\n",
       " 'drive/MyDrive/dog-breed-identification/test/fab7c38522b8bb9e71626f6f1a384d8c.jpg',\n",
       " 'drive/MyDrive/dog-breed-identification/test/fafa2bd7f97f3950a2c4211a4ab8f896.jpg',\n",
       " 'drive/MyDrive/dog-breed-identification/test/fae46ef195f8f4319bec175d0affb3d4.jpg',\n",
       " 'drive/MyDrive/dog-breed-identification/test/faf757243722ea255b9b190cd251b9d6.jpg',\n",
       " 'drive/MyDrive/dog-breed-identification/test/faad4c377840dd4c67cc6f603db9fb4b.jpg',\n",
       " 'drive/MyDrive/dog-breed-identification/test/fb0416a56859decbc1f5f6994687b16b.jpg',\n",
       " 'drive/MyDrive/dog-breed-identification/test/fb0eb902d8e532e4e126c951c405989f.jpg',\n",
       " 'drive/MyDrive/dog-breed-identification/test/fb0aa9d598d54e50963be105661944dc.jpg',\n",
       " 'drive/MyDrive/dog-breed-identification/test/fafd35e78dfe0bfb7c6ee90c12143d56.jpg',\n",
       " 'drive/MyDrive/dog-breed-identification/test/fb05fd17b96a9d33288691701da2dffd.jpg',\n",
       " 'drive/MyDrive/dog-breed-identification/test/fb0029a132b9ebc53c0fef18b9616880.jpg',\n",
       " 'drive/MyDrive/dog-breed-identification/test/fab226ee8670c55f8278fba8394da957.jpg',\n",
       " 'drive/MyDrive/dog-breed-identification/test/fad571830be4ed3ec12514ac2d448375.jpg',\n",
       " 'drive/MyDrive/dog-breed-identification/test/fb12bde50fb298866afe3af2cb6f6bcc.jpg',\n",
       " 'drive/MyDrive/dog-breed-identification/test/fb1b68164e012b72153f660a2f8bbf8d.jpg',\n",
       " 'drive/MyDrive/dog-breed-identification/test/fb35bfc9d136671490fd914f080c8b09.jpg',\n",
       " 'drive/MyDrive/dog-breed-identification/test/fb4976cd57d2ddd224460ba2a4292264.jpg',\n",
       " 'drive/MyDrive/dog-breed-identification/test/fb174683e8a5eacf6fbf76b1bd0967d8.jpg',\n",
       " 'drive/MyDrive/dog-breed-identification/test/fb34b29b9ff7cc113cf464b3b3aa58b5.jpg',\n",
       " 'drive/MyDrive/dog-breed-identification/test/fb159dcc18f38882fe46283a8fa8ef72.jpg',\n",
       " 'drive/MyDrive/dog-breed-identification/test/fb599fc7e59d082f35f3462310f16a12.jpg',\n",
       " 'drive/MyDrive/dog-breed-identification/test/fb1b592289ef0685bf0c48fde88bb1bd.jpg',\n",
       " 'drive/MyDrive/dog-breed-identification/test/fb2334233ee3893552cc50da09ff998a.jpg',\n",
       " 'drive/MyDrive/dog-breed-identification/test/fb4d76ed1f4fcb08d303ff10997e3cdb.jpg',\n",
       " 'drive/MyDrive/dog-breed-identification/test/fb4e83088052dc7cf09a2bc7f06d9846.jpg',\n",
       " 'drive/MyDrive/dog-breed-identification/test/fb1493c964bd07227bee28b3afc0477d.jpg',\n",
       " 'drive/MyDrive/dog-breed-identification/test/fb367deb8078bceb7a126fdef2f3d6e1.jpg',\n",
       " 'drive/MyDrive/dog-breed-identification/test/fb3ad1539cb1708d71e7cce5dc666379.jpg',\n",
       " 'drive/MyDrive/dog-breed-identification/test/fb2cb63322ef0e9a7ade9ecd93921eb2.jpg',\n",
       " 'drive/MyDrive/dog-breed-identification/test/fba98048d48b74805edfe3143e3865f6.jpg',\n",
       " 'drive/MyDrive/dog-breed-identification/test/fb8111776ff89091ddad841ed013837d.jpg',\n",
       " 'drive/MyDrive/dog-breed-identification/test/fb8314da87c341c9845fa2cfe87fbf7f.jpg',\n",
       " 'drive/MyDrive/dog-breed-identification/test/fbd60c426c459b27f0671bddacfa568c.jpg',\n",
       " 'drive/MyDrive/dog-breed-identification/test/fb757be9d9a6676284ea6d67d497160b.jpg',\n",
       " 'drive/MyDrive/dog-breed-identification/test/fba4684e816c08a6431436047b872629.jpg',\n",
       " 'drive/MyDrive/dog-breed-identification/test/fb86cc29238bee695f287669a58c5f02.jpg',\n",
       " 'drive/MyDrive/dog-breed-identification/test/fbded25bdf39df48ff5a4f0d22e074e8.jpg',\n",
       " 'drive/MyDrive/dog-breed-identification/test/fbc01bafa35b71eca0fcb7d33537c022.jpg',\n",
       " 'drive/MyDrive/dog-breed-identification/test/fba60b5a1e775e03b54a6d7a516346ba.jpg',\n",
       " 'drive/MyDrive/dog-breed-identification/test/fb71ea157568f082f0620de5cbc37656.jpg',\n",
       " 'drive/MyDrive/dog-breed-identification/test/fbc804554d1f5a2ab6e3be5a7dba7296.jpg',\n",
       " 'drive/MyDrive/dog-breed-identification/test/fbcbafa79a186a127d572d7d6491fab7.jpg',\n",
       " 'drive/MyDrive/dog-breed-identification/test/fb814a21b0f5f627c93b7762ec7aa593.jpg',\n",
       " 'drive/MyDrive/dog-breed-identification/test/fbd85ac4b2710dba4e8f2057ef7b9a70.jpg',\n",
       " 'drive/MyDrive/dog-breed-identification/test/fbf755d143ddf740111e97c85812d879.jpg',\n",
       " 'drive/MyDrive/dog-breed-identification/test/fc0f848abb459c9dc98c455356788516.jpg',\n",
       " 'drive/MyDrive/dog-breed-identification/test/fc05ded9ae428c5b6b2fd8c0e809c1ce.jpg',\n",
       " 'drive/MyDrive/dog-breed-identification/test/fc326a4321cdb058b3f3b9a9690cc9e7.jpg',\n",
       " 'drive/MyDrive/dog-breed-identification/test/fbed7dd8cb15a1e33a58e6ec90e66bb3.jpg',\n",
       " 'drive/MyDrive/dog-breed-identification/test/fc00016dee37d944be852f6e8a1aea0f.jpg',\n",
       " 'drive/MyDrive/dog-breed-identification/test/fbfd42217e500b5a9be29fdf0bff987c.jpg',\n",
       " 'drive/MyDrive/dog-breed-identification/test/fc1361e2abbb2911c812d40335ffb8bd.jpg',\n",
       " 'drive/MyDrive/dog-breed-identification/test/fc29d76d1e3cd3478e9c3121fa50749a.jpg',\n",
       " 'drive/MyDrive/dog-breed-identification/test/fbf4abbd32d544ff9b5df6af25eec3e3.jpg',\n",
       " 'drive/MyDrive/dog-breed-identification/test/fc14e1e96e898ebb963f1861666b7bae.jpg',\n",
       " 'drive/MyDrive/dog-breed-identification/test/fc28e20d3e3ef312a15b2255e0ba77a6.jpg',\n",
       " 'drive/MyDrive/dog-breed-identification/test/fc235032843333295c1e43551a715709.jpg',\n",
       " 'drive/MyDrive/dog-breed-identification/test/fbffe32a243c4d30623432e558aa2c40.jpg',\n",
       " 'drive/MyDrive/dog-breed-identification/test/fc39121062e4a0aae5131ab4f1e56e0f.jpg',\n",
       " 'drive/MyDrive/dog-breed-identification/test/fc584aa0af57439b8bd9568ab52f9030.jpg',\n",
       " 'drive/MyDrive/dog-breed-identification/test/fc5628535ed7e4e285796b2a43778fcf.jpg',\n",
       " 'drive/MyDrive/dog-breed-identification/test/fc4612c136578872e14c7a143090e57c.jpg',\n",
       " 'drive/MyDrive/dog-breed-identification/test/fc5889bad0b8076465d96960a1add15a.jpg',\n",
       " 'drive/MyDrive/dog-breed-identification/test/fc7576b5d6dcd4b07580a8b692222787.jpg',\n",
       " 'drive/MyDrive/dog-breed-identification/test/fc50b817f059dbfff5fa1857d7769cc2.jpg',\n",
       " 'drive/MyDrive/dog-breed-identification/test/fc363e88919e748e7062c9a10f4d38da.jpg',\n",
       " 'drive/MyDrive/dog-breed-identification/test/fc774c01a474039d7fb7e53019997f4b.jpg',\n",
       " 'drive/MyDrive/dog-breed-identification/test/fc7870edf256498d5876033baf56fbe5.jpg',\n",
       " 'drive/MyDrive/dog-breed-identification/test/fc7c34b64c3dc982db60e50b656983fc.jpg',\n",
       " 'drive/MyDrive/dog-breed-identification/test/fc405345f9ba08169e24ee81cc1fcaad.jpg',\n",
       " 'drive/MyDrive/dog-breed-identification/test/fc5dd147bc719dedca53f20ece5ee037.jpg',\n",
       " 'drive/MyDrive/dog-breed-identification/test/fc7cb4a3ebea16f655d8655a5d85cad5.jpg',\n",
       " 'drive/MyDrive/dog-breed-identification/test/fc346bf7b0b6af0646a34a73ee8aa4b7.jpg',\n",
       " 'drive/MyDrive/dog-breed-identification/test/fc55c69e3b05e5cf68ac5d80c66de819.jpg',\n",
       " 'drive/MyDrive/dog-breed-identification/test/fcef727e767ef68b3973bfd25ad41305.jpg',\n",
       " 'drive/MyDrive/dog-breed-identification/test/fce0949968f07d3aa97fe09c9a8829b5.jpg',\n",
       " 'drive/MyDrive/dog-breed-identification/test/fcb43284dd6f9699a7029ef1bf80fd9c.jpg',\n",
       " 'drive/MyDrive/dog-breed-identification/test/fcea2b7ac4d73eafc055b3257effc8a1.jpg',\n",
       " 'drive/MyDrive/dog-breed-identification/test/fcba7f675d9fcacd449174f2229ca33b.jpg',\n",
       " 'drive/MyDrive/dog-breed-identification/test/fcc295e22d155711de90537e5cde7cee.jpg',\n",
       " 'drive/MyDrive/dog-breed-identification/test/fc7f0d4ae4e277804c859955866c61f4.jpg',\n",
       " 'drive/MyDrive/dog-breed-identification/test/fc998028e5d109698b507d07c58aa3f4.jpg',\n",
       " 'drive/MyDrive/dog-breed-identification/test/fc9f45447f2f2bd82a6072afbddfd78d.jpg',\n",
       " 'drive/MyDrive/dog-breed-identification/test/fce7fc57c2c62020fa601080fe52f54b.jpg',\n",
       " 'drive/MyDrive/dog-breed-identification/test/fcf30274c748e760029514f152c8419d.jpg',\n",
       " 'drive/MyDrive/dog-breed-identification/test/fcc4ae9d2d9a24b77de033e5cc966d01.jpg',\n",
       " 'drive/MyDrive/dog-breed-identification/test/fcb000b1746ad358f4d99b55571d7b8e.jpg',\n",
       " 'drive/MyDrive/dog-breed-identification/test/fc9f8662172cd0fd27a6709f93034138.jpg',\n",
       " 'drive/MyDrive/dog-breed-identification/test/fc93fec97f158e4320893cef2a4d9168.jpg',\n",
       " 'drive/MyDrive/dog-breed-identification/test/fce2ad0b2f437d53327768b54c8857f2.jpg',\n",
       " 'drive/MyDrive/dog-breed-identification/test/fd0242324d7f96c3f891d1991da276ea.jpg',\n",
       " 'drive/MyDrive/dog-breed-identification/test/fd313930a7c3eddcc73e01fa6789c841.jpg',\n",
       " 'drive/MyDrive/dog-breed-identification/test/fd32579d66aa6223b19085aa600fbc2d.jpg',\n",
       " 'drive/MyDrive/dog-breed-identification/test/fd1a15ec1d742392420d52a2563b2a7b.jpg',\n",
       " 'drive/MyDrive/dog-breed-identification/test/fcf9a2a6cf1cefed8cea82187d58b503.jpg',\n",
       " 'drive/MyDrive/dog-breed-identification/test/fd0a3ceca8806d5d63f72fb57c0a73c0.jpg',\n",
       " 'drive/MyDrive/dog-breed-identification/test/fd04e7236081ae28e353974f05f90bbf.jpg',\n",
       " 'drive/MyDrive/dog-breed-identification/test/fd1a7be32f10493735555e62913c0841.jpg',\n",
       " 'drive/MyDrive/dog-breed-identification/test/fd0168c8b9fc33a5ba5a58c13d594bd0.jpg',\n",
       " 'drive/MyDrive/dog-breed-identification/test/fd369fa622cf7437ddb4066a9d3ee534.jpg',\n",
       " 'drive/MyDrive/dog-breed-identification/test/fd00217f290ccf234938de263f2d5738.jpg',\n",
       " 'drive/MyDrive/dog-breed-identification/test/fd0ff0bd0cebbc2e80ccc96dd40eb7e0.jpg',\n",
       " 'drive/MyDrive/dog-breed-identification/test/fcfb7009fae91553a0ef1a8bca5631a9.jpg',\n",
       " 'drive/MyDrive/dog-breed-identification/test/fd35a8d1fde0b1f9c27f604502539c51.jpg',\n",
       " 'drive/MyDrive/dog-breed-identification/test/fd03ba6f6aa36cc4232e56120101fb8f.jpg',\n",
       " 'drive/MyDrive/dog-breed-identification/test/fd219ab54b33aa99a68797431a1b8e07.jpg',\n",
       " 'drive/MyDrive/dog-breed-identification/test/fcfbedce5ff269ee2c0bbdc287e52f62.jpg',\n",
       " 'drive/MyDrive/dog-breed-identification/test/fd3bd010bbf75306ce35f3b5448472a8.jpg',\n",
       " 'drive/MyDrive/dog-breed-identification/test/fd7148fdd18ad0b4d1c5ff4c4c35f99d.jpg',\n",
       " 'drive/MyDrive/dog-breed-identification/test/fd3e53915d17804c9206f51f3639e9c3.jpg',\n",
       " 'drive/MyDrive/dog-breed-identification/test/fd5673662a27a76094205ec40cbb5b5d.jpg',\n",
       " 'drive/MyDrive/dog-breed-identification/test/fd9a41c9a7e713e8ff5ffac23fed60e8.jpg',\n",
       " 'drive/MyDrive/dog-breed-identification/test/fd4e4a2d384a774b250bef4f031d179c.jpg',\n",
       " 'drive/MyDrive/dog-breed-identification/test/fd5962d71cba77f1845beae10c83941b.jpg',\n",
       " 'drive/MyDrive/dog-breed-identification/test/fd942564913593fa0eb60b5090ca57cd.jpg',\n",
       " 'drive/MyDrive/dog-breed-identification/test/fda5707e5736ef6deceb5e356f36355c.jpg',\n",
       " 'drive/MyDrive/dog-breed-identification/test/fd8ad4d4a965089aee101a3da80c4a52.jpg',\n",
       " 'drive/MyDrive/dog-breed-identification/test/fd4e99fff3c7203d010fa1fac5ef570d.jpg',\n",
       " 'drive/MyDrive/dog-breed-identification/test/fd9fe1a20ed23c2269c4d65e8da97cda.jpg',\n",
       " 'drive/MyDrive/dog-breed-identification/test/fd5d6dd2e57b708630cfaddd768641d6.jpg',\n",
       " 'drive/MyDrive/dog-breed-identification/test/fd70f4e5c855862854cb650d72b9d697.jpg',\n",
       " 'drive/MyDrive/dog-breed-identification/test/fd40e9d71ecff4b17b53d2be58648fd2.jpg',\n",
       " 'drive/MyDrive/dog-breed-identification/test/fd90b95973c9b333e5415a7a02b3323e.jpg',\n",
       " 'drive/MyDrive/dog-breed-identification/test/fd71821dd0f03a287edd590a2a02ff7c.jpg',\n",
       " 'drive/MyDrive/dog-breed-identification/test/fda5966dca2faea2abde49cff453cad8.jpg',\n",
       " 'drive/MyDrive/dog-breed-identification/test/fdd27019efbf83419333e00879babd01.jpg',\n",
       " 'drive/MyDrive/dog-breed-identification/test/fdcd8dc270cee25e07e5f89966338985.jpg',\n",
       " 'drive/MyDrive/dog-breed-identification/test/fe17d3acc0d1a6d805920988c22ad798.jpg',\n",
       " 'drive/MyDrive/dog-breed-identification/test/fe041e832bf172724002ad779f924497.jpg',\n",
       " 'drive/MyDrive/dog-breed-identification/test/fde6a7af1944348eb4ecd1268f49a549.jpg',\n",
       " 'drive/MyDrive/dog-breed-identification/test/fdc0195bf63615ef247a19f4f72d77e7.jpg',\n",
       " 'drive/MyDrive/dog-breed-identification/test/fdf6e6be8630044c6d14df570849cf44.jpg',\n",
       " 'drive/MyDrive/dog-breed-identification/test/fddaf71e6d20393e50ef962daf60d7a6.jpg',\n",
       " 'drive/MyDrive/dog-breed-identification/test/fdf31298aa6342c634648f935e9b8ce4.jpg',\n",
       " 'drive/MyDrive/dog-breed-identification/test/fdedb2f8f3687f8e51e84236c65b65c3.jpg',\n",
       " 'drive/MyDrive/dog-breed-identification/test/fddecc5733b84924673a24acb3829209.jpg',\n",
       " 'drive/MyDrive/dog-breed-identification/test/fdb809a503be4e22b5548405f8b6c171.jpg',\n",
       " 'drive/MyDrive/dog-breed-identification/test/fe0940c6a3ab0fb53c961295f656bde7.jpg',\n",
       " 'drive/MyDrive/dog-breed-identification/test/fddfb38b41332a0c8a6691939170d1ea.jpg',\n",
       " 'drive/MyDrive/dog-breed-identification/test/fdd0bc9db54807ec3cb121827cf69061.jpg',\n",
       " 'drive/MyDrive/dog-breed-identification/test/fe85f1f57549148a51a1c03b285c3fe5.jpg',\n",
       " 'drive/MyDrive/dog-breed-identification/test/fe5b0ff9c37898f10c534a8218d054a6.jpg',\n",
       " 'drive/MyDrive/dog-breed-identification/test/fe408b5f82c5de4133f5c105eb54388a.jpg',\n",
       " 'drive/MyDrive/dog-breed-identification/test/feacb43d576eb6d78b38d4eb835d7b20.jpg',\n",
       " 'drive/MyDrive/dog-breed-identification/test/feacb0de64a7fddfca983eb6ca11309c.jpg',\n",
       " 'drive/MyDrive/dog-breed-identification/test/fe51f63203c392da8660132b9f5f1317.jpg',\n",
       " 'drive/MyDrive/dog-breed-identification/test/fe4c9d4f84816c83b774e29763a3b9cf.jpg',\n",
       " 'drive/MyDrive/dog-breed-identification/test/fe9ffddcf66c68e9bb38edcb0c6f44e1.jpg',\n",
       " 'drive/MyDrive/dog-breed-identification/test/fe3175f577485cbc3cb70a1fd5e0394f.jpg',\n",
       " 'drive/MyDrive/dog-breed-identification/test/fe782e941491ad736e7f05e61394822a.jpg',\n",
       " 'drive/MyDrive/dog-breed-identification/test/fe6fb6a0b968aaa4f9b579dbdc6f7a4c.jpg',\n",
       " 'drive/MyDrive/dog-breed-identification/test/fe2aaa06247c9c040b23ac9ef6529654.jpg',\n",
       " 'drive/MyDrive/dog-breed-identification/test/fe24773f327279000093a4cb4ee95c5b.jpg',\n",
       " 'drive/MyDrive/dog-breed-identification/test/fe7160f5e10ac0b18b549084f4dba763.jpg',\n",
       " 'drive/MyDrive/dog-breed-identification/test/fe646cdb7b5f1e8e7dc704e8db436043.jpg',\n",
       " 'drive/MyDrive/dog-breed-identification/test/fe31b0afef266f7b51e508f1476f2325.jpg',\n",
       " 'drive/MyDrive/dog-breed-identification/test/fe2c198971a3e83d5229c9db31670227.jpg',\n",
       " 'drive/MyDrive/dog-breed-identification/test/feb308ce2a7ad3d84e84807efae21518.jpg',\n",
       " 'drive/MyDrive/dog-breed-identification/test/fec01cfcaffca7c990619633e50b20dd.jpg',\n",
       " 'drive/MyDrive/dog-breed-identification/test/fecd62d8caf2bad07e0cb279ba346939.jpg',\n",
       " 'drive/MyDrive/dog-breed-identification/test/fedd9cc1cf0075443e7dfc349d24d412.jpg',\n",
       " 'drive/MyDrive/dog-breed-identification/test/feef68785ccffe35c8d129bd725783b7.jpg',\n",
       " 'drive/MyDrive/dog-breed-identification/test/feafb795bb13571d7e7559d30bdefeb3.jpg',\n",
       " 'drive/MyDrive/dog-breed-identification/test/fefafa1c1b5877561330d0a0fd4d5440.jpg',\n",
       " 'drive/MyDrive/dog-breed-identification/test/fec24843dec09a1eb5ae4689d748f470.jpg',\n",
       " 'drive/MyDrive/dog-breed-identification/test/fece0bdd67bbce0a72666372365de665.jpg',\n",
       " 'drive/MyDrive/dog-breed-identification/test/fec0e1ad18d153c54a71215002ba4f04.jpg',\n",
       " 'drive/MyDrive/dog-breed-identification/test/feb37df99be2a13acac2d58e13351b41.jpg',\n",
       " 'drive/MyDrive/dog-breed-identification/test/fedaaac8885104c0f21414a845aad9f4.jpg',\n",
       " 'drive/MyDrive/dog-breed-identification/test/feb4f823c431c9880ace68b2e7e6e3a3.jpg',\n",
       " 'drive/MyDrive/dog-breed-identification/test/fedbfd23108558ac6fa690bf4bfaef0a.jpg',\n",
       " 'drive/MyDrive/dog-breed-identification/test/febfae88667a28d9df454cfd697eeddb.jpg',\n",
       " 'drive/MyDrive/dog-breed-identification/test/ff66c9a0c51b47440e26b1b0ae2c047f.jpg',\n",
       " 'drive/MyDrive/dog-breed-identification/test/ff194ab5709702a2eafb5e9063348776.jpg',\n",
       " 'drive/MyDrive/dog-breed-identification/test/ff28a67281fa0c35dc577ba62b16b73c.jpg',\n",
       " 'drive/MyDrive/dog-breed-identification/test/ff4c4f194207d48a1c821c11eb994fc9.jpg',\n",
       " 'drive/MyDrive/dog-breed-identification/test/ff1ed16edf355507ee740a67a6391d48.jpg',\n",
       " 'drive/MyDrive/dog-breed-identification/test/ff4a36db5729e157bb6a1e2d75e7e47e.jpg',\n",
       " 'drive/MyDrive/dog-breed-identification/test/ff20371d584e330e288f9a863f484ca5.jpg',\n",
       " 'drive/MyDrive/dog-breed-identification/test/ff457fb6285b47fc933d0bcf58f87927.jpg',\n",
       " 'drive/MyDrive/dog-breed-identification/test/ff71c0a7a71d994884c9f92457f0eda8.jpg',\n",
       " 'drive/MyDrive/dog-breed-identification/test/ff066888cfea22e81ca9c125ec5a89f8.jpg',\n",
       " 'drive/MyDrive/dog-breed-identification/test/ff0765c478714ad10874a62c22f007d5.jpg',\n",
       " 'drive/MyDrive/dog-breed-identification/test/ff2ff9ee8fcf6085d7aa194f8f3f5673.jpg',\n",
       " 'drive/MyDrive/dog-breed-identification/test/ff454c109c1b07a458ad30d310e9ab4c.jpg',\n",
       " 'drive/MyDrive/dog-breed-identification/test/ff4d051fcaca8b199098f2c022aa41e8.jpg',\n",
       " 'drive/MyDrive/dog-breed-identification/test/ff4c5de43a47599022fa29b3778b3604.jpg',\n",
       " 'drive/MyDrive/dog-breed-identification/test/ff357aadc868c7b38e17bd5b87de31be.jpg',\n",
       " 'drive/MyDrive/dog-breed-identification/test/ff2dc02fec14b9b6d62002ec24a47da6.jpg',\n",
       " 'drive/MyDrive/dog-breed-identification/test/ffb8bceeac5b3f587f67391ad346d454.jpg',\n",
       " 'drive/MyDrive/dog-breed-identification/test/ff8c3ee47324ecf110e147f29747952a.jpg',\n",
       " 'drive/MyDrive/dog-breed-identification/test/ffa316c6db0919d6bad1a5ed483e6722.jpg',\n",
       " 'drive/MyDrive/dog-breed-identification/test/ff766d48f0804590391df24f73cb2118.jpg',\n",
       " 'drive/MyDrive/dog-breed-identification/test/ff9b317696e29ca8cd27da30a896edcd.jpg',\n",
       " 'drive/MyDrive/dog-breed-identification/test/ffb55dbaa32939c109ef42df0668e077.jpg',\n",
       " 'drive/MyDrive/dog-breed-identification/test/ff8f9a768544fda79ffad62576f4d129.jpg',\n",
       " 'drive/MyDrive/dog-breed-identification/test/ff796fdee5dae256d3c1abc49351d273.jpg',\n",
       " 'drive/MyDrive/dog-breed-identification/test/ff8ff2e36aa2a20d5d8585e2f686dbda.jpg',\n",
       " 'drive/MyDrive/dog-breed-identification/test/ff7e00f66ebf0042c5ccb74170eecb1a.jpg',\n",
       " 'drive/MyDrive/dog-breed-identification/test/ffb3a78e4a162c173219194687eb6054.jpg',\n",
       " 'drive/MyDrive/dog-breed-identification/test/ffadae851b94ece57602da7edf72d689.jpg',\n",
       " 'drive/MyDrive/dog-breed-identification/test/ffb68ded4a2247b3c011840ece0a605c.jpg',\n",
       " 'drive/MyDrive/dog-breed-identification/test/ff7bfd2fea4ed8fc8c43a613df713540.jpg',\n",
       " 'drive/MyDrive/dog-breed-identification/test/ff9742bc22b5830176e85490cf54cdf7.jpg',\n",
       " 'drive/MyDrive/dog-breed-identification/test/ffa76e07dc686174c2a55fdbdca68bb3.jpg',\n",
       " 'drive/MyDrive/dog-breed-identification/test/ffbcda9eb84339cc5be15fd9900596a2.jpg',\n",
       " 'drive/MyDrive/dog-breed-identification/test/ffd87c3e44faa0e3ee5fbbdc4c63b59b.jpg',\n",
       " 'drive/MyDrive/dog-breed-identification/test/fffbff22c1f51e3dc80c4bf04089545b.jpg',\n",
       " 'drive/MyDrive/dog-breed-identification/test/ffbb6663b38e903dbd1efa5dce2d0bbb.jpg',\n",
       " 'drive/MyDrive/dog-breed-identification/test/ffe563b1b8c0dcd0797c4362c6754b96.jpg',\n",
       " 'drive/MyDrive/dog-breed-identification/test/ffe2315cf566e039516f5a4a5e52ff1b.jpg',\n",
       " 'drive/MyDrive/dog-breed-identification/test/ffeda8623d4eee33c6d1156a2ecbfcf8.jpg',\n",
       " 'drive/MyDrive/dog-breed-identification/test/ffe42f4b4c50d4f18c2b34500f391152.jpg',\n",
       " 'drive/MyDrive/dog-breed-identification/test/ffbcf032231bb0b025f9070d42ab7e8f.jpg',\n",
       " 'drive/MyDrive/dog-breed-identification/test/fff7d50d848e8014ac1e9172dc6762a3.jpg',\n",
       " 'drive/MyDrive/dog-breed-identification/test/fff74b59b758bbbf13a5793182a9bbe4.jpg',\n",
       " 'drive/MyDrive/dog-breed-identification/test/ffd06687c72445b0c6e8a130a0a8711a.jpg',\n",
       " 'drive/MyDrive/dog-breed-identification/test/ffd304c521f43819f3824177fd9efeb0.jpg',\n",
       " 'drive/MyDrive/dog-breed-identification/test/ffe9717b7937c262f849416976f7620a.jpg',\n",
       " 'drive/MyDrive/dog-breed-identification/test/ffc0233904f4d03afe1484be791e09d6.jpg',\n",
       " 'drive/MyDrive/dog-breed-identification/test/fff1ec9e6e413275984966f745a313b0.jpg',\n",
       " 'drive/MyDrive/dog-breed-identification/test/ffd3ce0566df4be8049c767a329faaf7.jpg',\n",
       " ...]"
      ]
     },
     "execution_count": 226,
     "metadata": {
      "tags": []
     },
     "output_type": "execute_result"
    }
   ],
   "source": [
    "test_filenames"
   ]
  },
  {
   "cell_type": "code",
   "execution_count": 228,
   "metadata": {
    "colab": {
     "base_uri": "https://localhost:8080/",
     "height": 35
    },
    "id": "Z04pGCoTFaQf",
    "outputId": "95c465ad-5291-433e-c731-a6b0dea7b0c0"
   },
   "outputs": [
    {
     "data": {
      "application/vnd.google.colaboratory.intrinsic+json": {
       "type": "string"
      },
      "text/plain": [
       "'drive/MyDrive/dog-breed-identification/test/'"
      ]
     },
     "execution_count": 228,
     "metadata": {
      "tags": []
     },
     "output_type": "execute_result"
    }
   ],
   "source": [
    "test_path"
   ]
  },
  {
   "cell_type": "code",
   "execution_count": 229,
   "metadata": {
    "colab": {
     "base_uri": "https://localhost:8080/"
    },
    "id": "hvlz-XjCGGdb",
    "outputId": "31bf9b2d-04b7-4d5f-9b4e-9e4efd438fdd"
   },
   "outputs": [
    {
     "data": {
      "text/plain": [
       "('drive/MyDrive/dog-breed-identification/test/e7dc8cc599049ea9fa2a172c88646c57',\n",
       " '.jpg')"
      ]
     },
     "execution_count": 229,
     "metadata": {
      "tags": []
     },
     "output_type": "execute_result"
    }
   ],
   "source": [
    "os.path.splitext(test_filenames[0])"
   ]
  },
  {
   "cell_type": "code",
   "execution_count": 233,
   "metadata": {
    "id": "fXYEq-iiFjDr"
   },
   "outputs": [],
   "source": [
    "# append test image IDS to preds_df\n",
    "test_ids=[os.path.splitext(path)[0] for path in os.listdir(test_path)]\n",
    "preds_df[\"id\"]=test_ids"
   ]
  },
  {
   "cell_type": "code",
   "execution_count": 234,
   "metadata": {
    "colab": {
     "base_uri": "https://localhost:8080/",
     "height": 270
    },
    "id": "Tz_2udU1Guok",
    "outputId": "bd16dfa7-c70b-482a-c9b5-99ee6c4a4d65"
   },
   "outputs": [
    {
     "data": {
      "text/html": [
       "<div>\n",
       "<style scoped>\n",
       "    .dataframe tbody tr th:only-of-type {\n",
       "        vertical-align: middle;\n",
       "    }\n",
       "\n",
       "    .dataframe tbody tr th {\n",
       "        vertical-align: top;\n",
       "    }\n",
       "\n",
       "    .dataframe thead th {\n",
       "        text-align: right;\n",
       "    }\n",
       "</style>\n",
       "<table border=\"1\" class=\"dataframe\">\n",
       "  <thead>\n",
       "    <tr style=\"text-align: right;\">\n",
       "      <th></th>\n",
       "      <th>id</th>\n",
       "      <th>affenpinscher</th>\n",
       "      <th>afghan_hound</th>\n",
       "      <th>african_hunting_dog</th>\n",
       "      <th>airedale</th>\n",
       "      <th>american_staffordshire_terrier</th>\n",
       "      <th>appenzeller</th>\n",
       "      <th>australian_terrier</th>\n",
       "      <th>basenji</th>\n",
       "      <th>basset</th>\n",
       "      <th>beagle</th>\n",
       "      <th>bedlington_terrier</th>\n",
       "      <th>bernese_mountain_dog</th>\n",
       "      <th>black-and-tan_coonhound</th>\n",
       "      <th>blenheim_spaniel</th>\n",
       "      <th>bloodhound</th>\n",
       "      <th>bluetick</th>\n",
       "      <th>border_collie</th>\n",
       "      <th>border_terrier</th>\n",
       "      <th>borzoi</th>\n",
       "      <th>boston_bull</th>\n",
       "      <th>bouvier_des_flandres</th>\n",
       "      <th>boxer</th>\n",
       "      <th>brabancon_griffon</th>\n",
       "      <th>briard</th>\n",
       "      <th>brittany_spaniel</th>\n",
       "      <th>bull_mastiff</th>\n",
       "      <th>cairn</th>\n",
       "      <th>cardigan</th>\n",
       "      <th>chesapeake_bay_retriever</th>\n",
       "      <th>chihuahua</th>\n",
       "      <th>chow</th>\n",
       "      <th>clumber</th>\n",
       "      <th>cocker_spaniel</th>\n",
       "      <th>collie</th>\n",
       "      <th>curly-coated_retriever</th>\n",
       "      <th>dandie_dinmont</th>\n",
       "      <th>dhole</th>\n",
       "      <th>dingo</th>\n",
       "      <th>doberman</th>\n",
       "      <th>...</th>\n",
       "      <th>norwegian_elkhound</th>\n",
       "      <th>norwich_terrier</th>\n",
       "      <th>old_english_sheepdog</th>\n",
       "      <th>otterhound</th>\n",
       "      <th>papillon</th>\n",
       "      <th>pekinese</th>\n",
       "      <th>pembroke</th>\n",
       "      <th>pomeranian</th>\n",
       "      <th>pug</th>\n",
       "      <th>redbone</th>\n",
       "      <th>rhodesian_ridgeback</th>\n",
       "      <th>rottweiler</th>\n",
       "      <th>saint_bernard</th>\n",
       "      <th>saluki</th>\n",
       "      <th>samoyed</th>\n",
       "      <th>schipperke</th>\n",
       "      <th>scotch_terrier</th>\n",
       "      <th>scottish_deerhound</th>\n",
       "      <th>sealyham_terrier</th>\n",
       "      <th>shetland_sheepdog</th>\n",
       "      <th>shih-tzu</th>\n",
       "      <th>siberian_husky</th>\n",
       "      <th>silky_terrier</th>\n",
       "      <th>soft-coated_wheaten_terrier</th>\n",
       "      <th>staffordshire_bullterrier</th>\n",
       "      <th>standard_poodle</th>\n",
       "      <th>standard_schnauzer</th>\n",
       "      <th>sussex_spaniel</th>\n",
       "      <th>tibetan_mastiff</th>\n",
       "      <th>tibetan_terrier</th>\n",
       "      <th>toy_poodle</th>\n",
       "      <th>toy_terrier</th>\n",
       "      <th>vizsla</th>\n",
       "      <th>walker_hound</th>\n",
       "      <th>weimaraner</th>\n",
       "      <th>welsh_springer_spaniel</th>\n",
       "      <th>west_highland_white_terrier</th>\n",
       "      <th>whippet</th>\n",
       "      <th>wire-haired_fox_terrier</th>\n",
       "      <th>yorkshire_terrier</th>\n",
       "    </tr>\n",
       "  </thead>\n",
       "  <tbody>\n",
       "    <tr>\n",
       "      <th>0</th>\n",
       "      <td>e7dc8cc599049ea9fa2a172c88646c57</td>\n",
       "      <td>NaN</td>\n",
       "      <td>NaN</td>\n",
       "      <td>NaN</td>\n",
       "      <td>NaN</td>\n",
       "      <td>NaN</td>\n",
       "      <td>NaN</td>\n",
       "      <td>NaN</td>\n",
       "      <td>NaN</td>\n",
       "      <td>NaN</td>\n",
       "      <td>NaN</td>\n",
       "      <td>NaN</td>\n",
       "      <td>NaN</td>\n",
       "      <td>NaN</td>\n",
       "      <td>NaN</td>\n",
       "      <td>NaN</td>\n",
       "      <td>NaN</td>\n",
       "      <td>NaN</td>\n",
       "      <td>NaN</td>\n",
       "      <td>NaN</td>\n",
       "      <td>NaN</td>\n",
       "      <td>NaN</td>\n",
       "      <td>NaN</td>\n",
       "      <td>NaN</td>\n",
       "      <td>NaN</td>\n",
       "      <td>NaN</td>\n",
       "      <td>NaN</td>\n",
       "      <td>NaN</td>\n",
       "      <td>NaN</td>\n",
       "      <td>NaN</td>\n",
       "      <td>NaN</td>\n",
       "      <td>NaN</td>\n",
       "      <td>NaN</td>\n",
       "      <td>NaN</td>\n",
       "      <td>NaN</td>\n",
       "      <td>NaN</td>\n",
       "      <td>NaN</td>\n",
       "      <td>NaN</td>\n",
       "      <td>NaN</td>\n",
       "      <td>NaN</td>\n",
       "      <td>...</td>\n",
       "      <td>NaN</td>\n",
       "      <td>NaN</td>\n",
       "      <td>NaN</td>\n",
       "      <td>NaN</td>\n",
       "      <td>NaN</td>\n",
       "      <td>NaN</td>\n",
       "      <td>NaN</td>\n",
       "      <td>NaN</td>\n",
       "      <td>NaN</td>\n",
       "      <td>NaN</td>\n",
       "      <td>NaN</td>\n",
       "      <td>NaN</td>\n",
       "      <td>NaN</td>\n",
       "      <td>NaN</td>\n",
       "      <td>NaN</td>\n",
       "      <td>NaN</td>\n",
       "      <td>NaN</td>\n",
       "      <td>NaN</td>\n",
       "      <td>NaN</td>\n",
       "      <td>NaN</td>\n",
       "      <td>NaN</td>\n",
       "      <td>NaN</td>\n",
       "      <td>NaN</td>\n",
       "      <td>NaN</td>\n",
       "      <td>NaN</td>\n",
       "      <td>NaN</td>\n",
       "      <td>NaN</td>\n",
       "      <td>NaN</td>\n",
       "      <td>NaN</td>\n",
       "      <td>NaN</td>\n",
       "      <td>NaN</td>\n",
       "      <td>NaN</td>\n",
       "      <td>NaN</td>\n",
       "      <td>NaN</td>\n",
       "      <td>NaN</td>\n",
       "      <td>NaN</td>\n",
       "      <td>NaN</td>\n",
       "      <td>NaN</td>\n",
       "      <td>NaN</td>\n",
       "      <td>NaN</td>\n",
       "    </tr>\n",
       "    <tr>\n",
       "      <th>1</th>\n",
       "      <td>e7be7b911a4cba9fdfa4105ec4776370</td>\n",
       "      <td>NaN</td>\n",
       "      <td>NaN</td>\n",
       "      <td>NaN</td>\n",
       "      <td>NaN</td>\n",
       "      <td>NaN</td>\n",
       "      <td>NaN</td>\n",
       "      <td>NaN</td>\n",
       "      <td>NaN</td>\n",
       "      <td>NaN</td>\n",
       "      <td>NaN</td>\n",
       "      <td>NaN</td>\n",
       "      <td>NaN</td>\n",
       "      <td>NaN</td>\n",
       "      <td>NaN</td>\n",
       "      <td>NaN</td>\n",
       "      <td>NaN</td>\n",
       "      <td>NaN</td>\n",
       "      <td>NaN</td>\n",
       "      <td>NaN</td>\n",
       "      <td>NaN</td>\n",
       "      <td>NaN</td>\n",
       "      <td>NaN</td>\n",
       "      <td>NaN</td>\n",
       "      <td>NaN</td>\n",
       "      <td>NaN</td>\n",
       "      <td>NaN</td>\n",
       "      <td>NaN</td>\n",
       "      <td>NaN</td>\n",
       "      <td>NaN</td>\n",
       "      <td>NaN</td>\n",
       "      <td>NaN</td>\n",
       "      <td>NaN</td>\n",
       "      <td>NaN</td>\n",
       "      <td>NaN</td>\n",
       "      <td>NaN</td>\n",
       "      <td>NaN</td>\n",
       "      <td>NaN</td>\n",
       "      <td>NaN</td>\n",
       "      <td>NaN</td>\n",
       "      <td>...</td>\n",
       "      <td>NaN</td>\n",
       "      <td>NaN</td>\n",
       "      <td>NaN</td>\n",
       "      <td>NaN</td>\n",
       "      <td>NaN</td>\n",
       "      <td>NaN</td>\n",
       "      <td>NaN</td>\n",
       "      <td>NaN</td>\n",
       "      <td>NaN</td>\n",
       "      <td>NaN</td>\n",
       "      <td>NaN</td>\n",
       "      <td>NaN</td>\n",
       "      <td>NaN</td>\n",
       "      <td>NaN</td>\n",
       "      <td>NaN</td>\n",
       "      <td>NaN</td>\n",
       "      <td>NaN</td>\n",
       "      <td>NaN</td>\n",
       "      <td>NaN</td>\n",
       "      <td>NaN</td>\n",
       "      <td>NaN</td>\n",
       "      <td>NaN</td>\n",
       "      <td>NaN</td>\n",
       "      <td>NaN</td>\n",
       "      <td>NaN</td>\n",
       "      <td>NaN</td>\n",
       "      <td>NaN</td>\n",
       "      <td>NaN</td>\n",
       "      <td>NaN</td>\n",
       "      <td>NaN</td>\n",
       "      <td>NaN</td>\n",
       "      <td>NaN</td>\n",
       "      <td>NaN</td>\n",
       "      <td>NaN</td>\n",
       "      <td>NaN</td>\n",
       "      <td>NaN</td>\n",
       "      <td>NaN</td>\n",
       "      <td>NaN</td>\n",
       "      <td>NaN</td>\n",
       "      <td>NaN</td>\n",
       "    </tr>\n",
       "    <tr>\n",
       "      <th>2</th>\n",
       "      <td>e7e9dd51302fe08c1c89a550e183cf07</td>\n",
       "      <td>NaN</td>\n",
       "      <td>NaN</td>\n",
       "      <td>NaN</td>\n",
       "      <td>NaN</td>\n",
       "      <td>NaN</td>\n",
       "      <td>NaN</td>\n",
       "      <td>NaN</td>\n",
       "      <td>NaN</td>\n",
       "      <td>NaN</td>\n",
       "      <td>NaN</td>\n",
       "      <td>NaN</td>\n",
       "      <td>NaN</td>\n",
       "      <td>NaN</td>\n",
       "      <td>NaN</td>\n",
       "      <td>NaN</td>\n",
       "      <td>NaN</td>\n",
       "      <td>NaN</td>\n",
       "      <td>NaN</td>\n",
       "      <td>NaN</td>\n",
       "      <td>NaN</td>\n",
       "      <td>NaN</td>\n",
       "      <td>NaN</td>\n",
       "      <td>NaN</td>\n",
       "      <td>NaN</td>\n",
       "      <td>NaN</td>\n",
       "      <td>NaN</td>\n",
       "      <td>NaN</td>\n",
       "      <td>NaN</td>\n",
       "      <td>NaN</td>\n",
       "      <td>NaN</td>\n",
       "      <td>NaN</td>\n",
       "      <td>NaN</td>\n",
       "      <td>NaN</td>\n",
       "      <td>NaN</td>\n",
       "      <td>NaN</td>\n",
       "      <td>NaN</td>\n",
       "      <td>NaN</td>\n",
       "      <td>NaN</td>\n",
       "      <td>NaN</td>\n",
       "      <td>...</td>\n",
       "      <td>NaN</td>\n",
       "      <td>NaN</td>\n",
       "      <td>NaN</td>\n",
       "      <td>NaN</td>\n",
       "      <td>NaN</td>\n",
       "      <td>NaN</td>\n",
       "      <td>NaN</td>\n",
       "      <td>NaN</td>\n",
       "      <td>NaN</td>\n",
       "      <td>NaN</td>\n",
       "      <td>NaN</td>\n",
       "      <td>NaN</td>\n",
       "      <td>NaN</td>\n",
       "      <td>NaN</td>\n",
       "      <td>NaN</td>\n",
       "      <td>NaN</td>\n",
       "      <td>NaN</td>\n",
       "      <td>NaN</td>\n",
       "      <td>NaN</td>\n",
       "      <td>NaN</td>\n",
       "      <td>NaN</td>\n",
       "      <td>NaN</td>\n",
       "      <td>NaN</td>\n",
       "      <td>NaN</td>\n",
       "      <td>NaN</td>\n",
       "      <td>NaN</td>\n",
       "      <td>NaN</td>\n",
       "      <td>NaN</td>\n",
       "      <td>NaN</td>\n",
       "      <td>NaN</td>\n",
       "      <td>NaN</td>\n",
       "      <td>NaN</td>\n",
       "      <td>NaN</td>\n",
       "      <td>NaN</td>\n",
       "      <td>NaN</td>\n",
       "      <td>NaN</td>\n",
       "      <td>NaN</td>\n",
       "      <td>NaN</td>\n",
       "      <td>NaN</td>\n",
       "      <td>NaN</td>\n",
       "    </tr>\n",
       "    <tr>\n",
       "      <th>3</th>\n",
       "      <td>e7b357150635c250757363718e4dae86</td>\n",
       "      <td>NaN</td>\n",
       "      <td>NaN</td>\n",
       "      <td>NaN</td>\n",
       "      <td>NaN</td>\n",
       "      <td>NaN</td>\n",
       "      <td>NaN</td>\n",
       "      <td>NaN</td>\n",
       "      <td>NaN</td>\n",
       "      <td>NaN</td>\n",
       "      <td>NaN</td>\n",
       "      <td>NaN</td>\n",
       "      <td>NaN</td>\n",
       "      <td>NaN</td>\n",
       "      <td>NaN</td>\n",
       "      <td>NaN</td>\n",
       "      <td>NaN</td>\n",
       "      <td>NaN</td>\n",
       "      <td>NaN</td>\n",
       "      <td>NaN</td>\n",
       "      <td>NaN</td>\n",
       "      <td>NaN</td>\n",
       "      <td>NaN</td>\n",
       "      <td>NaN</td>\n",
       "      <td>NaN</td>\n",
       "      <td>NaN</td>\n",
       "      <td>NaN</td>\n",
       "      <td>NaN</td>\n",
       "      <td>NaN</td>\n",
       "      <td>NaN</td>\n",
       "      <td>NaN</td>\n",
       "      <td>NaN</td>\n",
       "      <td>NaN</td>\n",
       "      <td>NaN</td>\n",
       "      <td>NaN</td>\n",
       "      <td>NaN</td>\n",
       "      <td>NaN</td>\n",
       "      <td>NaN</td>\n",
       "      <td>NaN</td>\n",
       "      <td>NaN</td>\n",
       "      <td>...</td>\n",
       "      <td>NaN</td>\n",
       "      <td>NaN</td>\n",
       "      <td>NaN</td>\n",
       "      <td>NaN</td>\n",
       "      <td>NaN</td>\n",
       "      <td>NaN</td>\n",
       "      <td>NaN</td>\n",
       "      <td>NaN</td>\n",
       "      <td>NaN</td>\n",
       "      <td>NaN</td>\n",
       "      <td>NaN</td>\n",
       "      <td>NaN</td>\n",
       "      <td>NaN</td>\n",
       "      <td>NaN</td>\n",
       "      <td>NaN</td>\n",
       "      <td>NaN</td>\n",
       "      <td>NaN</td>\n",
       "      <td>NaN</td>\n",
       "      <td>NaN</td>\n",
       "      <td>NaN</td>\n",
       "      <td>NaN</td>\n",
       "      <td>NaN</td>\n",
       "      <td>NaN</td>\n",
       "      <td>NaN</td>\n",
       "      <td>NaN</td>\n",
       "      <td>NaN</td>\n",
       "      <td>NaN</td>\n",
       "      <td>NaN</td>\n",
       "      <td>NaN</td>\n",
       "      <td>NaN</td>\n",
       "      <td>NaN</td>\n",
       "      <td>NaN</td>\n",
       "      <td>NaN</td>\n",
       "      <td>NaN</td>\n",
       "      <td>NaN</td>\n",
       "      <td>NaN</td>\n",
       "      <td>NaN</td>\n",
       "      <td>NaN</td>\n",
       "      <td>NaN</td>\n",
       "      <td>NaN</td>\n",
       "    </tr>\n",
       "    <tr>\n",
       "      <th>4</th>\n",
       "      <td>e7b608110b0e29120d8740f37e85f3d0</td>\n",
       "      <td>NaN</td>\n",
       "      <td>NaN</td>\n",
       "      <td>NaN</td>\n",
       "      <td>NaN</td>\n",
       "      <td>NaN</td>\n",
       "      <td>NaN</td>\n",
       "      <td>NaN</td>\n",
       "      <td>NaN</td>\n",
       "      <td>NaN</td>\n",
       "      <td>NaN</td>\n",
       "      <td>NaN</td>\n",
       "      <td>NaN</td>\n",
       "      <td>NaN</td>\n",
       "      <td>NaN</td>\n",
       "      <td>NaN</td>\n",
       "      <td>NaN</td>\n",
       "      <td>NaN</td>\n",
       "      <td>NaN</td>\n",
       "      <td>NaN</td>\n",
       "      <td>NaN</td>\n",
       "      <td>NaN</td>\n",
       "      <td>NaN</td>\n",
       "      <td>NaN</td>\n",
       "      <td>NaN</td>\n",
       "      <td>NaN</td>\n",
       "      <td>NaN</td>\n",
       "      <td>NaN</td>\n",
       "      <td>NaN</td>\n",
       "      <td>NaN</td>\n",
       "      <td>NaN</td>\n",
       "      <td>NaN</td>\n",
       "      <td>NaN</td>\n",
       "      <td>NaN</td>\n",
       "      <td>NaN</td>\n",
       "      <td>NaN</td>\n",
       "      <td>NaN</td>\n",
       "      <td>NaN</td>\n",
       "      <td>NaN</td>\n",
       "      <td>NaN</td>\n",
       "      <td>...</td>\n",
       "      <td>NaN</td>\n",
       "      <td>NaN</td>\n",
       "      <td>NaN</td>\n",
       "      <td>NaN</td>\n",
       "      <td>NaN</td>\n",
       "      <td>NaN</td>\n",
       "      <td>NaN</td>\n",
       "      <td>NaN</td>\n",
       "      <td>NaN</td>\n",
       "      <td>NaN</td>\n",
       "      <td>NaN</td>\n",
       "      <td>NaN</td>\n",
       "      <td>NaN</td>\n",
       "      <td>NaN</td>\n",
       "      <td>NaN</td>\n",
       "      <td>NaN</td>\n",
       "      <td>NaN</td>\n",
       "      <td>NaN</td>\n",
       "      <td>NaN</td>\n",
       "      <td>NaN</td>\n",
       "      <td>NaN</td>\n",
       "      <td>NaN</td>\n",
       "      <td>NaN</td>\n",
       "      <td>NaN</td>\n",
       "      <td>NaN</td>\n",
       "      <td>NaN</td>\n",
       "      <td>NaN</td>\n",
       "      <td>NaN</td>\n",
       "      <td>NaN</td>\n",
       "      <td>NaN</td>\n",
       "      <td>NaN</td>\n",
       "      <td>NaN</td>\n",
       "      <td>NaN</td>\n",
       "      <td>NaN</td>\n",
       "      <td>NaN</td>\n",
       "      <td>NaN</td>\n",
       "      <td>NaN</td>\n",
       "      <td>NaN</td>\n",
       "      <td>NaN</td>\n",
       "      <td>NaN</td>\n",
       "    </tr>\n",
       "  </tbody>\n",
       "</table>\n",
       "<p>5 rows × 121 columns</p>\n",
       "</div>"
      ],
      "text/plain": [
       "                                 id  ... yorkshire_terrier\n",
       "0  e7dc8cc599049ea9fa2a172c88646c57  ...               NaN\n",
       "1  e7be7b911a4cba9fdfa4105ec4776370  ...               NaN\n",
       "2  e7e9dd51302fe08c1c89a550e183cf07  ...               NaN\n",
       "3  e7b357150635c250757363718e4dae86  ...               NaN\n",
       "4  e7b608110b0e29120d8740f37e85f3d0  ...               NaN\n",
       "\n",
       "[5 rows x 121 columns]"
      ]
     },
     "execution_count": 234,
     "metadata": {
      "tags": []
     },
     "output_type": "execute_result"
    }
   ],
   "source": [
    "preds_df.head()"
   ]
  },
  {
   "cell_type": "code",
   "execution_count": 235,
   "metadata": {
    "colab": {
     "base_uri": "https://localhost:8080/",
     "height": 355
    },
    "id": "XBk2zBRaHJND",
    "outputId": "161e5240-71d6-4f74-9873-89d1fadc1c92"
   },
   "outputs": [
    {
     "data": {
      "text/html": [
       "<div>\n",
       "<style scoped>\n",
       "    .dataframe tbody tr th:only-of-type {\n",
       "        vertical-align: middle;\n",
       "    }\n",
       "\n",
       "    .dataframe tbody tr th {\n",
       "        vertical-align: top;\n",
       "    }\n",
       "\n",
       "    .dataframe thead th {\n",
       "        text-align: right;\n",
       "    }\n",
       "</style>\n",
       "<table border=\"1\" class=\"dataframe\">\n",
       "  <thead>\n",
       "    <tr style=\"text-align: right;\">\n",
       "      <th></th>\n",
       "      <th>id</th>\n",
       "      <th>affenpinscher</th>\n",
       "      <th>afghan_hound</th>\n",
       "      <th>african_hunting_dog</th>\n",
       "      <th>airedale</th>\n",
       "      <th>american_staffordshire_terrier</th>\n",
       "      <th>appenzeller</th>\n",
       "      <th>australian_terrier</th>\n",
       "      <th>basenji</th>\n",
       "      <th>basset</th>\n",
       "      <th>beagle</th>\n",
       "      <th>bedlington_terrier</th>\n",
       "      <th>bernese_mountain_dog</th>\n",
       "      <th>black-and-tan_coonhound</th>\n",
       "      <th>blenheim_spaniel</th>\n",
       "      <th>bloodhound</th>\n",
       "      <th>bluetick</th>\n",
       "      <th>border_collie</th>\n",
       "      <th>border_terrier</th>\n",
       "      <th>borzoi</th>\n",
       "      <th>boston_bull</th>\n",
       "      <th>bouvier_des_flandres</th>\n",
       "      <th>boxer</th>\n",
       "      <th>brabancon_griffon</th>\n",
       "      <th>briard</th>\n",
       "      <th>brittany_spaniel</th>\n",
       "      <th>bull_mastiff</th>\n",
       "      <th>cairn</th>\n",
       "      <th>cardigan</th>\n",
       "      <th>chesapeake_bay_retriever</th>\n",
       "      <th>chihuahua</th>\n",
       "      <th>chow</th>\n",
       "      <th>clumber</th>\n",
       "      <th>cocker_spaniel</th>\n",
       "      <th>collie</th>\n",
       "      <th>curly-coated_retriever</th>\n",
       "      <th>dandie_dinmont</th>\n",
       "      <th>dhole</th>\n",
       "      <th>dingo</th>\n",
       "      <th>doberman</th>\n",
       "      <th>...</th>\n",
       "      <th>norwegian_elkhound</th>\n",
       "      <th>norwich_terrier</th>\n",
       "      <th>old_english_sheepdog</th>\n",
       "      <th>otterhound</th>\n",
       "      <th>papillon</th>\n",
       "      <th>pekinese</th>\n",
       "      <th>pembroke</th>\n",
       "      <th>pomeranian</th>\n",
       "      <th>pug</th>\n",
       "      <th>redbone</th>\n",
       "      <th>rhodesian_ridgeback</th>\n",
       "      <th>rottweiler</th>\n",
       "      <th>saint_bernard</th>\n",
       "      <th>saluki</th>\n",
       "      <th>samoyed</th>\n",
       "      <th>schipperke</th>\n",
       "      <th>scotch_terrier</th>\n",
       "      <th>scottish_deerhound</th>\n",
       "      <th>sealyham_terrier</th>\n",
       "      <th>shetland_sheepdog</th>\n",
       "      <th>shih-tzu</th>\n",
       "      <th>siberian_husky</th>\n",
       "      <th>silky_terrier</th>\n",
       "      <th>soft-coated_wheaten_terrier</th>\n",
       "      <th>staffordshire_bullterrier</th>\n",
       "      <th>standard_poodle</th>\n",
       "      <th>standard_schnauzer</th>\n",
       "      <th>sussex_spaniel</th>\n",
       "      <th>tibetan_mastiff</th>\n",
       "      <th>tibetan_terrier</th>\n",
       "      <th>toy_poodle</th>\n",
       "      <th>toy_terrier</th>\n",
       "      <th>vizsla</th>\n",
       "      <th>walker_hound</th>\n",
       "      <th>weimaraner</th>\n",
       "      <th>welsh_springer_spaniel</th>\n",
       "      <th>west_highland_white_terrier</th>\n",
       "      <th>whippet</th>\n",
       "      <th>wire-haired_fox_terrier</th>\n",
       "      <th>yorkshire_terrier</th>\n",
       "    </tr>\n",
       "  </thead>\n",
       "  <tbody>\n",
       "    <tr>\n",
       "      <th>0</th>\n",
       "      <td>e7dc8cc599049ea9fa2a172c88646c57</td>\n",
       "      <td>1.26608e-07</td>\n",
       "      <td>2.74227e-09</td>\n",
       "      <td>9.98797e-10</td>\n",
       "      <td>2.73135e-11</td>\n",
       "      <td>3.71815e-08</td>\n",
       "      <td>2.50437e-09</td>\n",
       "      <td>4.59015e-10</td>\n",
       "      <td>5.00389e-09</td>\n",
       "      <td>7.6658e-13</td>\n",
       "      <td>2.10665e-10</td>\n",
       "      <td>1.31268e-11</td>\n",
       "      <td>6.72092e-07</td>\n",
       "      <td>3.76172e-08</td>\n",
       "      <td>3.35975e-09</td>\n",
       "      <td>3.01383e-11</td>\n",
       "      <td>6.25254e-09</td>\n",
       "      <td>0.279047</td>\n",
       "      <td>2.92428e-10</td>\n",
       "      <td>7.22527e-10</td>\n",
       "      <td>1.33144e-07</td>\n",
       "      <td>3.62281e-11</td>\n",
       "      <td>2.84745e-10</td>\n",
       "      <td>7.9556e-11</td>\n",
       "      <td>1.87618e-09</td>\n",
       "      <td>2.03239e-09</td>\n",
       "      <td>5.58892e-10</td>\n",
       "      <td>7.88295e-10</td>\n",
       "      <td>3.39471e-09</td>\n",
       "      <td>6.74138e-11</td>\n",
       "      <td>8.8963e-07</td>\n",
       "      <td>1.34046e-09</td>\n",
       "      <td>4.67622e-09</td>\n",
       "      <td>3.30342e-07</td>\n",
       "      <td>2.52457e-05</td>\n",
       "      <td>4.92501e-09</td>\n",
       "      <td>2.99348e-12</td>\n",
       "      <td>1.25088e-08</td>\n",
       "      <td>1.90635e-11</td>\n",
       "      <td>1.72004e-10</td>\n",
       "      <td>...</td>\n",
       "      <td>6.5738e-10</td>\n",
       "      <td>8.86187e-08</td>\n",
       "      <td>2.12315e-09</td>\n",
       "      <td>1.51987e-09</td>\n",
       "      <td>0.720673</td>\n",
       "      <td>5.86559e-05</td>\n",
       "      <td>2.22468e-09</td>\n",
       "      <td>1.31795e-08</td>\n",
       "      <td>3.595e-09</td>\n",
       "      <td>1.56051e-10</td>\n",
       "      <td>9.97807e-13</td>\n",
       "      <td>1.0288e-09</td>\n",
       "      <td>2.4691e-09</td>\n",
       "      <td>9.30357e-09</td>\n",
       "      <td>6.22153e-08</td>\n",
       "      <td>9.47187e-06</td>\n",
       "      <td>9.29679e-10</td>\n",
       "      <td>6.0387e-11</td>\n",
       "      <td>5.5253e-11</td>\n",
       "      <td>1.41178e-06</td>\n",
       "      <td>2.86047e-06</td>\n",
       "      <td>6.5212e-07</td>\n",
       "      <td>1.76562e-07</td>\n",
       "      <td>7.07537e-12</td>\n",
       "      <td>2.24506e-07</td>\n",
       "      <td>1.29415e-07</td>\n",
       "      <td>2.74303e-10</td>\n",
       "      <td>7.74712e-10</td>\n",
       "      <td>7.20085e-10</td>\n",
       "      <td>7.3136e-07</td>\n",
       "      <td>1.96387e-08</td>\n",
       "      <td>2.69619e-09</td>\n",
       "      <td>6.04802e-10</td>\n",
       "      <td>5.16722e-09</td>\n",
       "      <td>2.89499e-10</td>\n",
       "      <td>1.88821e-10</td>\n",
       "      <td>1.61165e-07</td>\n",
       "      <td>8.40883e-11</td>\n",
       "      <td>2.63439e-07</td>\n",
       "      <td>2.49234e-08</td>\n",
       "    </tr>\n",
       "    <tr>\n",
       "      <th>1</th>\n",
       "      <td>e7be7b911a4cba9fdfa4105ec4776370</td>\n",
       "      <td>4.07818e-08</td>\n",
       "      <td>7.90316e-07</td>\n",
       "      <td>1.40692e-07</td>\n",
       "      <td>1.49199e-08</td>\n",
       "      <td>2.29204e-10</td>\n",
       "      <td>3.68783e-09</td>\n",
       "      <td>3.1826e-11</td>\n",
       "      <td>1.24678e-09</td>\n",
       "      <td>7.63002e-11</td>\n",
       "      <td>7.26611e-14</td>\n",
       "      <td>1.45157e-09</td>\n",
       "      <td>5.89167e-09</td>\n",
       "      <td>3.59291e-09</td>\n",
       "      <td>2.93955e-07</td>\n",
       "      <td>5.0931e-10</td>\n",
       "      <td>7.37149e-11</td>\n",
       "      <td>8.17309e-11</td>\n",
       "      <td>1.39651e-09</td>\n",
       "      <td>3.17018e-09</td>\n",
       "      <td>3.98629e-12</td>\n",
       "      <td>3.47309e-05</td>\n",
       "      <td>3.89523e-12</td>\n",
       "      <td>1.74239e-09</td>\n",
       "      <td>0.00811476</td>\n",
       "      <td>1.5884e-12</td>\n",
       "      <td>5.70377e-11</td>\n",
       "      <td>5.58005e-07</td>\n",
       "      <td>1.30881e-06</td>\n",
       "      <td>3.07011e-08</td>\n",
       "      <td>5.73773e-10</td>\n",
       "      <td>1.34063e-10</td>\n",
       "      <td>6.7659e-12</td>\n",
       "      <td>5.27967e-08</td>\n",
       "      <td>3.41455e-10</td>\n",
       "      <td>1.05517e-10</td>\n",
       "      <td>2.5691e-09</td>\n",
       "      <td>1.20172e-10</td>\n",
       "      <td>3.12259e-09</td>\n",
       "      <td>3.30433e-10</td>\n",
       "      <td>...</td>\n",
       "      <td>9.3826e-07</td>\n",
       "      <td>1.85462e-09</td>\n",
       "      <td>2.23996e-11</td>\n",
       "      <td>2.36213e-10</td>\n",
       "      <td>2.22276e-09</td>\n",
       "      <td>2.34485e-09</td>\n",
       "      <td>3.03857e-12</td>\n",
       "      <td>3.07103e-10</td>\n",
       "      <td>2.50146e-08</td>\n",
       "      <td>8.73313e-10</td>\n",
       "      <td>1.98825e-09</td>\n",
       "      <td>1.02535e-08</td>\n",
       "      <td>6.95983e-11</td>\n",
       "      <td>5.77431e-10</td>\n",
       "      <td>1.31368e-11</td>\n",
       "      <td>5.35543e-07</td>\n",
       "      <td>0.953088</td>\n",
       "      <td>5.68552e-08</td>\n",
       "      <td>2.40868e-11</td>\n",
       "      <td>1.25585e-12</td>\n",
       "      <td>1.97365e-10</td>\n",
       "      <td>6.43852e-10</td>\n",
       "      <td>9.14274e-09</td>\n",
       "      <td>1.15278e-06</td>\n",
       "      <td>4.21012e-07</td>\n",
       "      <td>1.01987e-11</td>\n",
       "      <td>0.00133041</td>\n",
       "      <td>2.62517e-08</td>\n",
       "      <td>4.09475e-09</td>\n",
       "      <td>5.78102e-07</td>\n",
       "      <td>1.38525e-10</td>\n",
       "      <td>3.46316e-12</td>\n",
       "      <td>4.3048e-12</td>\n",
       "      <td>4.50124e-10</td>\n",
       "      <td>1.24321e-11</td>\n",
       "      <td>1.11968e-11</td>\n",
       "      <td>7.70845e-10</td>\n",
       "      <td>6.42902e-07</td>\n",
       "      <td>1.02406e-10</td>\n",
       "      <td>4.33433e-08</td>\n",
       "    </tr>\n",
       "    <tr>\n",
       "      <th>2</th>\n",
       "      <td>e7e9dd51302fe08c1c89a550e183cf07</td>\n",
       "      <td>0.000174798</td>\n",
       "      <td>6.17461e-09</td>\n",
       "      <td>2.26341e-09</td>\n",
       "      <td>1.04396e-07</td>\n",
       "      <td>6.19233e-08</td>\n",
       "      <td>1.94688e-09</td>\n",
       "      <td>0.0240407</td>\n",
       "      <td>5.48948e-09</td>\n",
       "      <td>9.27925e-10</td>\n",
       "      <td>3.37764e-09</td>\n",
       "      <td>1.07772e-10</td>\n",
       "      <td>5.85037e-07</td>\n",
       "      <td>1.62019e-09</td>\n",
       "      <td>8.20297e-09</td>\n",
       "      <td>3.47383e-11</td>\n",
       "      <td>1.5157e-08</td>\n",
       "      <td>6.2495e-08</td>\n",
       "      <td>2.45825e-08</td>\n",
       "      <td>1.37858e-09</td>\n",
       "      <td>1.70671e-08</td>\n",
       "      <td>2.57399e-09</td>\n",
       "      <td>4.845e-08</td>\n",
       "      <td>5.93604e-07</td>\n",
       "      <td>2.87512e-09</td>\n",
       "      <td>3.88719e-11</td>\n",
       "      <td>3.29119e-10</td>\n",
       "      <td>2.07945e-05</td>\n",
       "      <td>1.17876e-09</td>\n",
       "      <td>4.17447e-11</td>\n",
       "      <td>5.1736e-06</td>\n",
       "      <td>1.09367e-10</td>\n",
       "      <td>1.00828e-09</td>\n",
       "      <td>3.98638e-10</td>\n",
       "      <td>5.06291e-09</td>\n",
       "      <td>1.26326e-11</td>\n",
       "      <td>5.05399e-11</td>\n",
       "      <td>4.87105e-10</td>\n",
       "      <td>4.82538e-09</td>\n",
       "      <td>3.30701e-07</td>\n",
       "      <td>...</td>\n",
       "      <td>2.98779e-09</td>\n",
       "      <td>6.49867e-09</td>\n",
       "      <td>4.17268e-13</td>\n",
       "      <td>1.90283e-09</td>\n",
       "      <td>2.52757e-05</td>\n",
       "      <td>1.93133e-06</td>\n",
       "      <td>2.12914e-09</td>\n",
       "      <td>0.000107243</td>\n",
       "      <td>2.86833e-09</td>\n",
       "      <td>1.80749e-10</td>\n",
       "      <td>1.96895e-11</td>\n",
       "      <td>4.11809e-10</td>\n",
       "      <td>5.14079e-12</td>\n",
       "      <td>5.06943e-09</td>\n",
       "      <td>4.67046e-09</td>\n",
       "      <td>1.96393e-07</td>\n",
       "      <td>5.70127e-10</td>\n",
       "      <td>2.37107e-07</td>\n",
       "      <td>4.04376e-09</td>\n",
       "      <td>1.06062e-09</td>\n",
       "      <td>4.44721e-06</td>\n",
       "      <td>5.3166e-12</td>\n",
       "      <td>0.000523703</td>\n",
       "      <td>1.20617e-09</td>\n",
       "      <td>6.42297e-09</td>\n",
       "      <td>5.45186e-12</td>\n",
       "      <td>1.80325e-07</td>\n",
       "      <td>6.46522e-08</td>\n",
       "      <td>1.28627e-11</td>\n",
       "      <td>7.70841e-07</td>\n",
       "      <td>2.21695e-08</td>\n",
       "      <td>0.001127</td>\n",
       "      <td>5.9438e-10</td>\n",
       "      <td>5.49554e-11</td>\n",
       "      <td>4.03501e-10</td>\n",
       "      <td>2.86627e-09</td>\n",
       "      <td>3.61947e-06</td>\n",
       "      <td>5.29347e-08</td>\n",
       "      <td>3.67502e-06</td>\n",
       "      <td>0.973865</td>\n",
       "    </tr>\n",
       "    <tr>\n",
       "      <th>3</th>\n",
       "      <td>e7b357150635c250757363718e4dae86</td>\n",
       "      <td>3.92815e-07</td>\n",
       "      <td>1.05375e-11</td>\n",
       "      <td>6.6135e-10</td>\n",
       "      <td>3.75019e-07</td>\n",
       "      <td>7.9982e-08</td>\n",
       "      <td>1.43139e-10</td>\n",
       "      <td>5.27272e-05</td>\n",
       "      <td>2.08077e-07</td>\n",
       "      <td>3.53946e-09</td>\n",
       "      <td>1.59964e-08</td>\n",
       "      <td>3.38832e-10</td>\n",
       "      <td>1.73904e-07</td>\n",
       "      <td>9.19335e-09</td>\n",
       "      <td>6.42826e-11</td>\n",
       "      <td>6.27782e-11</td>\n",
       "      <td>1.7108e-09</td>\n",
       "      <td>4.69252e-08</td>\n",
       "      <td>0.000199403</td>\n",
       "      <td>6.8555e-11</td>\n",
       "      <td>4.44911e-09</td>\n",
       "      <td>1.07655e-07</td>\n",
       "      <td>1.35937e-10</td>\n",
       "      <td>1.16865e-08</td>\n",
       "      <td>6.16249e-10</td>\n",
       "      <td>2.20349e-10</td>\n",
       "      <td>3.69746e-11</td>\n",
       "      <td>0.993266</td>\n",
       "      <td>1.07705e-07</td>\n",
       "      <td>1.68932e-07</td>\n",
       "      <td>1.98949e-06</td>\n",
       "      <td>8.66871e-08</td>\n",
       "      <td>2.18852e-08</td>\n",
       "      <td>1.34867e-08</td>\n",
       "      <td>6.9186e-10</td>\n",
       "      <td>1.42705e-10</td>\n",
       "      <td>2.54582e-06</td>\n",
       "      <td>7.8557e-08</td>\n",
       "      <td>2.40223e-08</td>\n",
       "      <td>1.77977e-09</td>\n",
       "      <td>...</td>\n",
       "      <td>8.85909e-06</td>\n",
       "      <td>0.00386428</td>\n",
       "      <td>4.9756e-12</td>\n",
       "      <td>2.91824e-09</td>\n",
       "      <td>2.28419e-08</td>\n",
       "      <td>2.39013e-09</td>\n",
       "      <td>1.09501e-07</td>\n",
       "      <td>4.25941e-07</td>\n",
       "      <td>6.55461e-09</td>\n",
       "      <td>2.79297e-09</td>\n",
       "      <td>1.68007e-10</td>\n",
       "      <td>6.13286e-11</td>\n",
       "      <td>5.49125e-11</td>\n",
       "      <td>3.5315e-11</td>\n",
       "      <td>1.44887e-08</td>\n",
       "      <td>1.69856e-05</td>\n",
       "      <td>9.41795e-06</td>\n",
       "      <td>3.58274e-07</td>\n",
       "      <td>3.13037e-08</td>\n",
       "      <td>2.41989e-13</td>\n",
       "      <td>2.7655e-08</td>\n",
       "      <td>6.84653e-09</td>\n",
       "      <td>4.50847e-07</td>\n",
       "      <td>6.57164e-07</td>\n",
       "      <td>1.7983e-07</td>\n",
       "      <td>4.6843e-09</td>\n",
       "      <td>8.9835e-06</td>\n",
       "      <td>4.07523e-09</td>\n",
       "      <td>1.91772e-12</td>\n",
       "      <td>1.40254e-08</td>\n",
       "      <td>2.085e-06</td>\n",
       "      <td>0.00096611</td>\n",
       "      <td>1.21649e-08</td>\n",
       "      <td>8.43557e-09</td>\n",
       "      <td>2.51921e-10</td>\n",
       "      <td>3.14935e-08</td>\n",
       "      <td>0.000230894</td>\n",
       "      <td>2.13013e-07</td>\n",
       "      <td>1.28346e-09</td>\n",
       "      <td>2.02781e-06</td>\n",
       "    </tr>\n",
       "    <tr>\n",
       "      <th>4</th>\n",
       "      <td>e7b608110b0e29120d8740f37e85f3d0</td>\n",
       "      <td>2.3341e-08</td>\n",
       "      <td>1.74862e-13</td>\n",
       "      <td>7.84442e-12</td>\n",
       "      <td>1.70823e-11</td>\n",
       "      <td>3.59708e-10</td>\n",
       "      <td>4.38827e-11</td>\n",
       "      <td>8.4352e-12</td>\n",
       "      <td>5.12041e-10</td>\n",
       "      <td>5.70875e-13</td>\n",
       "      <td>3.63518e-10</td>\n",
       "      <td>5.00545e-12</td>\n",
       "      <td>1.00263e-11</td>\n",
       "      <td>6.07383e-10</td>\n",
       "      <td>7.98542e-12</td>\n",
       "      <td>1.44963e-11</td>\n",
       "      <td>8.89319e-11</td>\n",
       "      <td>1.15873e-09</td>\n",
       "      <td>1.90373e-08</td>\n",
       "      <td>1.02799e-11</td>\n",
       "      <td>7.34808e-08</td>\n",
       "      <td>2.06897e-10</td>\n",
       "      <td>1.08186e-10</td>\n",
       "      <td>7.84269e-07</td>\n",
       "      <td>9.70281e-10</td>\n",
       "      <td>4.43533e-13</td>\n",
       "      <td>8.86428e-08</td>\n",
       "      <td>3.41663e-09</td>\n",
       "      <td>1.82235e-13</td>\n",
       "      <td>5.89284e-11</td>\n",
       "      <td>3.25528e-09</td>\n",
       "      <td>3.20889e-09</td>\n",
       "      <td>3.84755e-13</td>\n",
       "      <td>1.41694e-12</td>\n",
       "      <td>4.88322e-12</td>\n",
       "      <td>1.88047e-10</td>\n",
       "      <td>2.40459e-12</td>\n",
       "      <td>1.92471e-10</td>\n",
       "      <td>9.8404e-12</td>\n",
       "      <td>2.37556e-10</td>\n",
       "      <td>...</td>\n",
       "      <td>2.18935e-06</td>\n",
       "      <td>7.88252e-12</td>\n",
       "      <td>2.34955e-11</td>\n",
       "      <td>3.04235e-11</td>\n",
       "      <td>9.08931e-12</td>\n",
       "      <td>7.11138e-05</td>\n",
       "      <td>2.86773e-14</td>\n",
       "      <td>5.23428e-10</td>\n",
       "      <td>0.999925</td>\n",
       "      <td>6.69116e-10</td>\n",
       "      <td>3.77806e-11</td>\n",
       "      <td>5.89231e-09</td>\n",
       "      <td>4.95389e-09</td>\n",
       "      <td>5.57401e-12</td>\n",
       "      <td>7.99333e-14</td>\n",
       "      <td>2.65842e-09</td>\n",
       "      <td>1.10536e-10</td>\n",
       "      <td>1.00977e-11</td>\n",
       "      <td>1.81304e-10</td>\n",
       "      <td>1.85978e-12</td>\n",
       "      <td>1.53123e-08</td>\n",
       "      <td>1.66717e-08</td>\n",
       "      <td>2.34e-09</td>\n",
       "      <td>4.36846e-10</td>\n",
       "      <td>1.38758e-10</td>\n",
       "      <td>1.67553e-12</td>\n",
       "      <td>3.16335e-11</td>\n",
       "      <td>2.92172e-10</td>\n",
       "      <td>5.82508e-10</td>\n",
       "      <td>5.093e-12</td>\n",
       "      <td>6.35846e-12</td>\n",
       "      <td>1.73491e-10</td>\n",
       "      <td>1.64214e-11</td>\n",
       "      <td>2.86884e-10</td>\n",
       "      <td>2.03855e-10</td>\n",
       "      <td>8.94018e-11</td>\n",
       "      <td>5.6206e-11</td>\n",
       "      <td>6.21215e-11</td>\n",
       "      <td>5.152e-12</td>\n",
       "      <td>1.56701e-09</td>\n",
       "    </tr>\n",
       "  </tbody>\n",
       "</table>\n",
       "<p>5 rows × 121 columns</p>\n",
       "</div>"
      ],
      "text/plain": [
       "                                 id  ... yorkshire_terrier\n",
       "0  e7dc8cc599049ea9fa2a172c88646c57  ...       2.49234e-08\n",
       "1  e7be7b911a4cba9fdfa4105ec4776370  ...       4.33433e-08\n",
       "2  e7e9dd51302fe08c1c89a550e183cf07  ...          0.973865\n",
       "3  e7b357150635c250757363718e4dae86  ...       2.02781e-06\n",
       "4  e7b608110b0e29120d8740f37e85f3d0  ...       1.56701e-09\n",
       "\n",
       "[5 rows x 121 columns]"
      ]
     },
     "execution_count": 235,
     "metadata": {
      "tags": []
     },
     "output_type": "execute_result"
    }
   ],
   "source": [
    "# add the prediction probabilities to each dog breed column\n",
    "preds_df[list(unique_breeds)]=test_predictions\n",
    "preds_df.head()"
   ]
  },
  {
   "cell_type": "code",
   "execution_count": 236,
   "metadata": {
    "id": "S5bJy1JqHaT0"
   },
   "outputs": [],
   "source": [
    "# save our predictions dataframe to csv for submission\n",
    "preds_df.to_csv(\"drive/MyDrive/dog-breed-identification/full_model_predictions_submission_1_mobilenetV2.csv\",\n",
    "                index=False)"
   ]
  },
  {
   "cell_type": "markdown",
   "metadata": {
    "id": "gQvVaD9ZKYQk"
   },
   "source": [
    "Making predictions on custom images\n",
    "\n",
    "To make predictions on custom images, we will:\n",
    "\n",
    "* Get the filepaths of our own images\n",
    "\n",
    "* Turn the filepaths into data batches using `create_data_batches`. and since our custom images wont have labels, we set the `test_data` parameter to `True`\n",
    "\n",
    "* Pass the custom image data batch to our models `predict()` method\n",
    "\n",
    "* Convert the prediction output probabilities to prediction labels\n",
    "\n",
    "* Compare the predicted labels to the custom labels"
   ]
  },
  {
   "cell_type": "code",
   "execution_count": 237,
   "metadata": {
    "id": "cdKGs6kfLMxn"
   },
   "outputs": [],
   "source": [
    "# get custom image filepaths\n",
    "custom_path=\"drive/MyDrive/dog-breed-identification/custom_dogs/\"\n",
    "custom_image_paths=[custom_path + fname for fname in os.listdir(custom_path)]"
   ]
  },
  {
   "cell_type": "code",
   "execution_count": 238,
   "metadata": {
    "colab": {
     "base_uri": "https://localhost:8080/"
    },
    "id": "M0_DxK8sPGu-",
    "outputId": "11f335f7-1296-4056-d349-ec6106ad1b32"
   },
   "outputs": [
    {
     "data": {
      "text/plain": [
       "['drive/MyDrive/dog-breed-identification/custom_dogs/custom_dog2.jpg',\n",
       " 'drive/MyDrive/dog-breed-identification/custom_dogs/custom_dog4.jpg',\n",
       " 'drive/MyDrive/dog-breed-identification/custom_dogs/custom_dog5.jpg',\n",
       " 'drive/MyDrive/dog-breed-identification/custom_dogs/cutom_dog1.jpg',\n",
       " 'drive/MyDrive/dog-breed-identification/custom_dogs/custom_dog3.jpg']"
      ]
     },
     "execution_count": 238,
     "metadata": {
      "tags": []
     },
     "output_type": "execute_result"
    }
   ],
   "source": [
    "custom_image_paths"
   ]
  },
  {
   "cell_type": "code",
   "execution_count": 239,
   "metadata": {
    "colab": {
     "base_uri": "https://localhost:8080/"
    },
    "id": "MeOszdrMPK0Y",
    "outputId": "e8502b16-2354-459c-c918-a0f6df8b9b6b"
   },
   "outputs": [
    {
     "name": "stdout",
     "output_type": "stream",
     "text": [
      "Creating test data batches....\n"
     ]
    },
    {
     "data": {
      "text/plain": [
       "<BatchDataset shapes: (None, 224, 224, 3), types: tf.float32>"
      ]
     },
     "execution_count": 239,
     "metadata": {
      "tags": []
     },
     "output_type": "execute_result"
    }
   ],
   "source": [
    "# Turn custom images into batch datasets\n",
    "custom_data=create_data_batches(custom_image_paths, test_data=True)\n",
    "custom_data"
   ]
  },
  {
   "cell_type": "code",
   "execution_count": 240,
   "metadata": {
    "id": "mKsz6D7yPvSf"
   },
   "outputs": [],
   "source": [
    "# make predictions on the custom data\n",
    "custom_preds=loaded_full_model.predict(custom_data)"
   ]
  },
  {
   "cell_type": "code",
   "execution_count": 241,
   "metadata": {
    "colab": {
     "base_uri": "https://localhost:8080/"
    },
    "id": "bU3nn7MFP7yI",
    "outputId": "6d118d88-0acb-4e48-e567-4d9a2e4c0847"
   },
   "outputs": [
    {
     "data": {
      "text/plain": [
       "array([[2.28333068e-08, 4.84791894e-12, 2.17871822e-13, 9.78197644e-12,\n",
       "        4.10323224e-08, 2.00753053e-10, 8.90687191e-10, 2.40712041e-07,\n",
       "        9.63399586e-12, 2.32220037e-12, 1.24652719e-11, 6.70200617e-10,\n",
       "        6.90549562e-11, 7.47004592e-09, 2.32944133e-11, 4.23825645e-12,\n",
       "        8.48333140e-11, 7.27131354e-13, 1.03570234e-11, 1.37818454e-13,\n",
       "        2.19832277e-11, 7.65934927e-10, 5.70008263e-10, 1.02994020e-11,\n",
       "        1.79196574e-10, 3.11666604e-08, 3.68658121e-13, 1.26402413e-11,\n",
       "        1.23939303e-08, 2.74385775e-11, 9.99606788e-01, 2.46472753e-09,\n",
       "        2.22651633e-10, 4.55110311e-10, 1.44931777e-12, 1.39699585e-10,\n",
       "        1.11057330e-09, 1.25185129e-09, 9.03374944e-11, 4.89730145e-10,\n",
       "        2.21457780e-13, 2.73374545e-10, 4.72184070e-10, 4.84491750e-07,\n",
       "        3.90015215e-10, 5.74142867e-09, 1.16603049e-09, 2.15553311e-10,\n",
       "        1.43581171e-11, 2.44194276e-10, 3.32468941e-10, 3.10192681e-13,\n",
       "        1.11020892e-09, 8.94229135e-11, 2.95307334e-09, 4.09141308e-13,\n",
       "        3.12779425e-13, 5.23028005e-14, 2.45527973e-11, 9.92493522e-13,\n",
       "        1.81999762e-10, 1.96097669e-11, 6.22600425e-08, 8.72037338e-12,\n",
       "        3.68264447e-10, 1.81007676e-09, 6.64656028e-08, 1.00930209e-09,\n",
       "        7.14701365e-09, 3.83503274e-09, 5.44946900e-11, 4.66936978e-09,\n",
       "        7.07824234e-14, 5.04967801e-09, 4.46979389e-12, 1.16423715e-09,\n",
       "        8.23515744e-09, 2.49558534e-12, 1.55344842e-05, 5.98234138e-08,\n",
       "        6.31856034e-09, 1.04320895e-06, 1.60080615e-09, 7.90882115e-09,\n",
       "        1.28218414e-08, 4.67684780e-09, 4.12734846e-10, 1.81590963e-06,\n",
       "        5.84131721e-09, 1.54956714e-09, 1.38525824e-09, 6.28125019e-09,\n",
       "        1.26484361e-08, 3.27672676e-12, 2.83750273e-06, 2.22787255e-09,\n",
       "        9.98535456e-13, 5.74513397e-12, 8.53487246e-12, 2.68500244e-08,\n",
       "        5.20232815e-12, 6.65749067e-10, 1.08900033e-11, 1.94981661e-12,\n",
       "        5.29361222e-09, 2.45062274e-05, 2.68367468e-13, 5.39482858e-09,\n",
       "        3.46297078e-04, 9.45776790e-09, 2.70134279e-08, 1.08444243e-11,\n",
       "        4.42389137e-12, 1.22862151e-10, 2.17303883e-11, 2.43050718e-10,\n",
       "        1.26362698e-10, 5.96669144e-13, 9.88141236e-10, 2.53350617e-13],\n",
       "       [4.62146988e-03, 3.18448002e-07, 2.04099848e-07, 1.40784682e-12,\n",
       "        1.14189747e-09, 2.28632857e-07, 1.09505942e-04, 3.50591933e-09,\n",
       "        6.66006356e-12, 5.75716072e-11, 3.83708010e-10, 1.66146640e-06,\n",
       "        2.63676956e-08, 2.73605622e-07, 7.42831428e-14, 6.87959245e-09,\n",
       "        5.25410295e-01, 2.13086579e-08, 7.42330258e-06, 6.01490547e-06,\n",
       "        1.06518816e-09, 1.80334185e-11, 2.05039878e-08, 6.35964025e-05,\n",
       "        3.41000153e-08, 1.91422345e-09, 9.29396222e-08, 4.27832418e-08,\n",
       "        5.22152504e-12, 6.95005014e-08, 1.74121906e-09, 5.97442584e-09,\n",
       "        2.43415208e-08, 1.65915862e-05, 1.04872377e-09, 1.45163952e-08,\n",
       "        2.51928589e-10, 2.18663390e-12, 1.02059736e-10, 5.29799308e-07,\n",
       "        2.56222775e-05, 3.25571303e-09, 8.15981327e-09, 4.42381678e-12,\n",
       "        1.23908874e-04, 1.65601026e-08, 4.74390416e-10, 2.80020799e-07,\n",
       "        1.29258396e-07, 1.47456625e-09, 3.13509133e-07, 1.59584046e-09,\n",
       "        2.29199451e-10, 5.74482897e-08, 2.68233502e-09, 1.32399851e-08,\n",
       "        2.25166943e-08, 2.06493814e-06, 6.93613431e-11, 8.44356585e-09,\n",
       "        1.67783426e-07, 1.32846535e-05, 1.82632798e-09, 1.11456355e-08,\n",
       "        3.59393056e-07, 1.23866728e-09, 2.54386318e-10, 6.47960476e-08,\n",
       "        1.38937062e-09, 9.25689747e-10, 4.91530705e-10, 2.09197833e-06,\n",
       "        1.16202270e-10, 1.50791504e-08, 6.71923983e-09, 7.35833652e-08,\n",
       "        2.55925570e-05, 1.14766488e-04, 1.82555471e-09, 1.88870821e-04,\n",
       "        1.53540375e-10, 1.98350025e-09, 2.07304018e-09, 1.29469499e-05,\n",
       "        6.97139621e-05, 1.73781682e-05, 4.72343996e-12, 6.93735513e-10,\n",
       "        6.65994662e-07, 1.92390246e-08, 7.85346649e-11, 1.61964775e-10,\n",
       "        9.06145325e-10, 9.47363574e-08, 1.01946701e-10, 1.53780945e-07,\n",
       "        1.65658071e-06, 4.60630935e-03, 1.74953184e-05, 1.25071245e-10,\n",
       "        5.52405312e-04, 2.64549072e-07, 1.34133661e-04, 7.76599620e-08,\n",
       "        4.68845292e-06, 1.47445570e-10, 3.35503556e-02, 8.89138647e-08,\n",
       "        2.02750328e-09, 6.98300719e-05, 1.09983533e-09, 5.27250586e-06,\n",
       "        8.70510348e-08, 2.28316921e-07, 1.14272924e-10, 8.45424564e-10,\n",
       "        1.95060679e-07, 1.35863695e-06, 4.25002337e-01, 5.21611888e-03],\n",
       "       [3.33748779e-10, 5.17748067e-10, 6.12763600e-08, 2.93191253e-12,\n",
       "        1.06204455e-12, 3.56374409e-11, 3.16619286e-10, 3.36330999e-07,\n",
       "        5.31417488e-12, 2.56645620e-08, 8.14758252e-08, 5.23301368e-12,\n",
       "        1.41137253e-08, 5.70467729e-10, 4.07934877e-08, 3.00435067e-12,\n",
       "        1.00378339e-09, 2.95873592e-09, 8.25616020e-09, 5.97692008e-07,\n",
       "        3.48316431e-10, 5.54906201e-08, 7.78132758e-09, 8.42158343e-09,\n",
       "        2.03483129e-12, 1.38635006e-10, 9.30834923e-11, 2.62627076e-08,\n",
       "        2.15414145e-10, 4.91576002e-10, 2.50642312e-10, 3.20924833e-08,\n",
       "        3.90005084e-10, 4.60824623e-08, 1.27258026e-09, 4.52739073e-07,\n",
       "        2.86800372e-07, 8.27703595e-09, 8.07640532e-09, 2.25675989e-09,\n",
       "        6.46508125e-11, 5.88858962e-11, 2.30762209e-09, 8.60290110e-01,\n",
       "        4.88518124e-12, 2.56852744e-08, 3.10137984e-05, 7.39201367e-09,\n",
       "        4.92660446e-09, 2.00363504e-09, 3.42522094e-10, 9.46086959e-11,\n",
       "        1.76486853e-10, 1.08192488e-07, 4.08254017e-08, 2.25897702e-06,\n",
       "        6.39881659e-09, 9.76873915e-10, 5.64351954e-10, 2.29541385e-07,\n",
       "        1.65491476e-09, 8.64578666e-08, 1.05171111e-07, 3.69422892e-09,\n",
       "        4.88073049e-08, 1.32545281e-07, 2.10452678e-09, 2.60655870e-08,\n",
       "        1.77556194e-06, 9.50535650e-09, 7.45437767e-10, 9.43944833e-05,\n",
       "        1.25167088e-09, 1.82655879e-09, 1.54899666e-07, 6.66929356e-09,\n",
       "        3.76832510e-10, 2.27024817e-08, 4.82269502e-10, 8.00635824e-09,\n",
       "        2.17442794e-05, 1.59558267e-09, 5.69519152e-08, 2.91892011e-10,\n",
       "        9.26571764e-10, 1.39550687e-12, 1.97554328e-08, 1.24042288e-08,\n",
       "        4.81488449e-09, 1.50128812e-10, 4.61304356e-10, 6.74246747e-09,\n",
       "        2.38203191e-09, 1.83413806e-09, 8.93724703e-08, 6.07117556e-09,\n",
       "        3.72993618e-08, 3.59706789e-08, 2.54444216e-10, 2.96221470e-09,\n",
       "        1.22034015e-11, 1.39554396e-01, 3.48145362e-12, 1.15846048e-10,\n",
       "        2.92123463e-08, 7.66970931e-09, 1.37757738e-07, 5.85233077e-12,\n",
       "        3.79740461e-09, 2.84613244e-09, 4.90562313e-11, 5.18359570e-07,\n",
       "        2.05170742e-11, 7.52196616e-09, 2.37113018e-09, 5.56312418e-12,\n",
       "        7.68258275e-08, 5.80633597e-11, 5.61537705e-10, 5.03238229e-10],\n",
       "       [4.90517493e-08, 4.52127467e-11, 4.17569928e-12, 1.01093040e-11,\n",
       "        6.29077568e-10, 8.45416619e-12, 1.64200847e-13, 4.93178498e-10,\n",
       "        1.65871553e-11, 5.14662701e-10, 1.48762534e-12, 1.37182464e-12,\n",
       "        5.06247988e-10, 3.74352604e-10, 3.27515202e-11, 2.43340365e-11,\n",
       "        2.94374924e-08, 8.87685658e-08, 1.49448873e-11, 6.24700425e-09,\n",
       "        3.50951601e-09, 1.79434623e-09, 1.23292637e-06, 1.42327066e-08,\n",
       "        7.37886043e-13, 3.18848324e-05, 4.00445692e-12, 7.91991093e-13,\n",
       "        1.31476316e-10, 8.33884836e-11, 1.67415255e-08, 3.26725149e-12,\n",
       "        3.34677403e-12, 1.40154414e-12, 4.02393674e-11, 4.03127054e-12,\n",
       "        8.82717890e-13, 5.19323862e-10, 3.05396125e-10, 3.55795710e-12,\n",
       "        1.94532801e-12, 2.15520391e-13, 1.90283803e-10, 3.69243956e-14,\n",
       "        7.81849030e-10, 5.69064218e-09, 6.01587443e-12, 1.34064343e-10,\n",
       "        2.06981765e-10, 1.30100932e-12, 3.71161574e-11, 3.82622076e-08,\n",
       "        3.20190374e-10, 2.86436825e-12, 1.15775087e-12, 1.48405171e-12,\n",
       "        5.39195479e-13, 7.95045363e-09, 2.47860373e-14, 1.55121638e-09,\n",
       "        6.50464349e-10, 3.42108369e-10, 2.00008052e-10, 6.31548633e-12,\n",
       "        1.13976490e-08, 3.24224588e-12, 7.47984841e-10, 5.87157665e-08,\n",
       "        3.95718994e-13, 3.36570216e-09, 1.78182038e-08, 2.08108794e-10,\n",
       "        1.56820301e-09, 1.68284137e-12, 8.27123255e-13, 1.57704561e-09,\n",
       "        2.75382583e-09, 2.24845251e-12, 9.39108680e-10, 1.14919718e-08,\n",
       "        1.78593051e-08, 2.71524166e-12, 1.34898421e-11, 5.92353944e-10,\n",
       "        1.55096552e-12, 2.38918074e-06, 2.99062228e-14, 4.08146954e-11,\n",
       "        9.99962807e-01, 5.83782467e-10, 2.54248955e-09, 3.30061773e-08,\n",
       "        9.28586097e-09, 9.20745251e-12, 3.53679624e-14, 4.81494445e-12,\n",
       "        7.01398245e-11, 9.28720534e-13, 1.21841117e-06, 5.83114390e-11,\n",
       "        4.48242554e-09, 3.12790038e-09, 7.02168323e-10, 6.34961181e-11,\n",
       "        1.63604949e-10, 1.88911861e-13, 6.01927841e-10, 4.73618610e-11,\n",
       "        4.37871783e-08, 2.07230934e-11, 2.38332167e-11, 3.44985217e-12,\n",
       "        1.76376405e-12, 9.47918567e-12, 1.19719512e-09, 1.26099400e-11,\n",
       "        3.01122354e-13, 2.41725927e-11, 2.53031385e-12, 3.20057106e-11],\n",
       "       [6.61943673e-08, 8.74602497e-01, 1.55801484e-02, 6.38956443e-10,\n",
       "        1.52308388e-09, 2.74771946e-06, 1.18704433e-04, 4.07389122e-10,\n",
       "        3.41676423e-05, 9.44626155e-10, 1.83982447e-08, 3.22520245e-05,\n",
       "        2.78222899e-07, 1.34192942e-05, 5.53390919e-07, 2.74298473e-05,\n",
       "        2.03794825e-09, 8.03558908e-09, 8.18322005e-04, 5.52260850e-08,\n",
       "        1.28551711e-08, 1.18275897e-12, 3.16990395e-06, 1.41502887e-05,\n",
       "        2.18051237e-11, 1.03809593e-10, 2.08171082e-06, 1.41530281e-05,\n",
       "        7.34425715e-12, 2.58083844e-07, 8.94930139e-08, 5.16397904e-07,\n",
       "        1.48670988e-05, 7.58805400e-05, 3.40594011e-11, 3.89497851e-10,\n",
       "        2.73089040e-06, 2.86273707e-08, 2.97171425e-07, 2.76505980e-05,\n",
       "        2.92693699e-07, 7.30624597e-05, 7.06575776e-09, 1.68704639e-06,\n",
       "        3.62831997e-05, 4.70100872e-07, 2.02807700e-04, 8.56715701e-07,\n",
       "        1.45710203e-07, 8.57437328e-07, 8.17711480e-05, 1.48888921e-05,\n",
       "        4.43371428e-09, 1.41136366e-06, 1.04192019e-01, 5.68293457e-09,\n",
       "        1.55999805e-04, 9.73477210e-09, 2.61665537e-05, 7.26452345e-05,\n",
       "        3.39872064e-09, 1.98457798e-04, 1.98224757e-06, 7.38524353e-09,\n",
       "        9.82476989e-10, 1.20692306e-07, 4.51186394e-10, 4.03047040e-10,\n",
       "        1.16267280e-07, 4.48270257e-05, 5.04399944e-09, 2.38678786e-05,\n",
       "        2.79894994e-05, 7.33226315e-08, 4.41873621e-04, 3.23802402e-10,\n",
       "        6.34612274e-09, 1.53839756e-05, 6.33206110e-09, 2.57782506e-09,\n",
       "        1.36256579e-08, 2.67556810e-10, 1.23557653e-08, 4.22327062e-09,\n",
       "        6.36196859e-11, 2.01247967e-05, 4.52578364e-10, 3.04553026e-07,\n",
       "        4.10380387e-08, 4.54810151e-06, 6.33057027e-07, 1.06793742e-07,\n",
       "        5.68745584e-09, 2.49894080e-03, 2.03434823e-07, 1.37050171e-09,\n",
       "        3.99144346e-06, 2.37030599e-05, 6.23670421e-11, 9.07711240e-07,\n",
       "        1.37591385e-04, 1.45234963e-10, 4.36000875e-07, 1.18456911e-09,\n",
       "        4.03622323e-07, 1.96226229e-05, 1.22873083e-04, 6.95676363e-07,\n",
       "        6.81763595e-07, 1.33372951e-05, 4.27730162e-09, 1.70585778e-07,\n",
       "        2.29743488e-10, 9.85405091e-09, 7.32217313e-06, 2.65287290e-05,\n",
       "        2.70227861e-06, 1.10666639e-04, 9.20122787e-08, 7.43124474e-07]],\n",
       "      dtype=float32)"
      ]
     },
     "execution_count": 241,
     "metadata": {
      "tags": []
     },
     "output_type": "execute_result"
    }
   ],
   "source": [
    "custom_preds"
   ]
  },
  {
   "cell_type": "code",
   "execution_count": 242,
   "metadata": {
    "colab": {
     "base_uri": "https://localhost:8080/"
    },
    "id": "XT4876tqP-VS",
    "outputId": "68d8e492-24a6-4d8b-da43-a1cc5953ca5b"
   },
   "outputs": [
    {
     "data": {
      "text/plain": [
       "(5, 120)"
      ]
     },
     "execution_count": 242,
     "metadata": {
      "tags": []
     },
     "output_type": "execute_result"
    }
   ],
   "source": [
    "custom_preds.shape"
   ]
  },
  {
   "cell_type": "code",
   "execution_count": 243,
   "metadata": {
    "colab": {
     "base_uri": "https://localhost:8080/"
    },
    "id": "mIwVkx2tQDxz",
    "outputId": "c6521bdb-38e0-47f4-ad68-a130eb58305d"
   },
   "outputs": [
    {
     "data": {
      "text/plain": [
       "['chow', 'border_collie', 'eskimo_dog', 'pug', 'afghan_hound']"
      ]
     },
     "execution_count": 243,
     "metadata": {
      "tags": []
     },
     "output_type": "execute_result"
    }
   ],
   "source": [
    "# Get custom image prediction labels\n",
    "custom_pred_labels=[get_pred_label(custom_preds[i]) for i in range(len(custom_preds))]\n",
    "custom_pred_labels"
   ]
  },
  {
   "cell_type": "code",
   "execution_count": 244,
   "metadata": {
    "id": "p26QOUZMQXfG"
   },
   "outputs": [],
   "source": [
    "# Get custom images(our unbatchify() function wont work since there are no labels.......maybe we could fix this later)\n",
    "custom_images=[]\n",
    "# loop through unbatched data\n",
    "for image in custom_data.unbatch().as_numpy_iterator():\n",
    "  custom_images.append(image)\n",
    "  # unwind data into just images"
   ]
  },
  {
   "cell_type": "code",
   "execution_count": 248,
   "metadata": {
    "colab": {
     "base_uri": "https://localhost:8080/",
     "height": 147
    },
    "id": "r85MEPsUTY1j",
    "outputId": "7d4d4226-7ab1-4839-f9b8-2db04cc33ec2"
   },
   "outputs": [
    {
     "data": {
      "image/png": "[encoded data removed]",
      "text/plain": [
       "<Figure size 720x720 with 5 Axes>"
      ]
     },
     "metadata": {
      "tags": []
     },
     "output_type": "display_data"
    }
   ],
   "source": [
    "# check custom predictions\n",
    "plt.figure(figsize=(10,10))\n",
    "for i, image in enumerate(custom_images):\n",
    "  plt.subplot(1,5, i+1)\n",
    "  plt.xticks([])\n",
    "  plt.yticks([])\n",
    "  plt.title(custom_pred_labels[i])\n",
    "  plt.imshow(image)"
   ]
  },
  {
   "cell_type": "code",
   "execution_count": null,
   "metadata": {
    "id": "r0KYoalvU2TS"
   },
   "outputs": [],
   "source": []
  }
 ],
 "metadata": {
  "accelerator": "GPU",
  "colab": {
   "collapsed_sections": [],
   "name": "dog-vision.ipynb",
   "provenance": []
  },
  "kernelspec": {
   "display_name": "Python 3",
   "language": "python",
   "name": "python3"
  },
  "language_info": {
   "codemirror_mode": {
    "name": "ipython",
    "version": 3
   },
   "file_extension": ".py",
   "mimetype": "text/x-python",
   "name": "python",
   "nbconvert_exporter": "python",
   "pygments_lexer": "ipython3",
   "version": "3.8.8"
  }
 },
 "nbformat": 4,
 "nbformat_minor": 1
}
